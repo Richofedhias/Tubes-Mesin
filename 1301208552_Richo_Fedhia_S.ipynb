{
  "nbformat": 4,
  "nbformat_minor": 0,
  "metadata": {
    "colab": {
      "name": "1301208552_Richo Fedhia S.ipynb",
      "provenance": [],
      "collapsed_sections": [],
      "include_colab_link": true
    },
    "kernelspec": {
      "name": "python3",
      "display_name": "Python 3"
    },
    "language_info": {
      "name": "python"
    }
  },
  "cells": [
    {
      "cell_type": "markdown",
      "metadata": {
        "id": "view-in-github",
        "colab_type": "text"
      },
      "source": [
        "<a href=\"https://colab.research.google.com/github/Richofedhias/Tubes-Mesin/blob/main/1301208552_Richo_Fedhia_S.ipynb\" target=\"_parent\"><img src=\"https://colab.research.google.com/assets/colab-badge.svg\" alt=\"Open In Colab\"/></a>"
      ]
    },
    {
      "cell_type": "markdown",
      "metadata": {
        "id": "7Mi1ZMAapfxP"
      },
      "source": [
        "Import Library\n",
        "\n",
        "---\n",
        "\n"
      ]
    },
    {
      "cell_type": "code",
      "metadata": {
        "id": "spOkBCIqpfTw"
      },
      "source": [
        "from google.colab import drive                  \n",
        "import pandas as pd              \n",
        "import seaborn as sns                  \n",
        "import numpy as np                              \n",
        "from sklearn.preprocessing import LabelEncoder  \n",
        "from sklearn.preprocessing import MinMaxScaler\n",
        "from sklearn.decomposition import PCA\n",
        "import matplotlib.pyplot as plt\n",
        "from sklearn.metrics import silhouette_score\n",
        "from numpy.linalg import norm"
      ],
      "execution_count": 45,
      "outputs": []
    },
    {
      "cell_type": "markdown",
      "metadata": {
        "id": "ZtOri2L_vj8T"
      },
      "source": [
        "Membaca Data Set dari Google Drive\n",
        "\n",
        "---\n",
        "\n"
      ]
    },
    {
      "cell_type": "code",
      "metadata": {
        "id": "MAAUUtMSp7bh",
        "colab": {
          "base_uri": "https://localhost:8080/"
        },
        "outputId": "74db116c-d3ce-45f2-92ec-86c3430c1d46"
      },
      "source": [
        "drive.mount('/content/gdrive')"
      ],
      "execution_count": 4,
      "outputs": [
        {
          "output_type": "stream",
          "name": "stdout",
          "text": [
            "Mounted at /content/gdrive\n"
          ]
        }
      ]
    },
    {
      "cell_type": "code",
      "metadata": {
        "id": "Ib14cL8lqx4b"
      },
      "source": [
        "df_train=pd.read_csv('gdrive/My Drive/Tubes mesin/kendaraan_train.csv')\n",
        "df_test=pd.read_csv('gdrive/My Drive/Tubes mesin/kendaraan_test.csv')"
      ],
      "execution_count": 5,
      "outputs": []
    },
    {
      "cell_type": "markdown",
      "metadata": {
        "id": "uagPotNyvpB5"
      },
      "source": [
        "Eksplorasi Data\n",
        "\n",
        "---\n",
        "\n"
      ]
    },
    {
      "cell_type": "code",
      "metadata": {
        "id": "os0DRowbsP-b",
        "colab": {
          "base_uri": "https://localhost:8080/",
          "height": 204
        },
        "outputId": "0573d459-7f9a-4210-c3d5-71919ebcbc76"
      },
      "source": [
        "df_train.head()"
      ],
      "execution_count": 6,
      "outputs": [
        {
          "output_type": "execute_result",
          "data": {
            "text/html": [
              "<div>\n",
              "<style scoped>\n",
              "    .dataframe tbody tr th:only-of-type {\n",
              "        vertical-align: middle;\n",
              "    }\n",
              "\n",
              "    .dataframe tbody tr th {\n",
              "        vertical-align: top;\n",
              "    }\n",
              "\n",
              "    .dataframe thead th {\n",
              "        text-align: right;\n",
              "    }\n",
              "</style>\n",
              "<table border=\"1\" class=\"dataframe\">\n",
              "  <thead>\n",
              "    <tr style=\"text-align: right;\">\n",
              "      <th></th>\n",
              "      <th>id</th>\n",
              "      <th>Jenis_Kelamin</th>\n",
              "      <th>Umur</th>\n",
              "      <th>SIM</th>\n",
              "      <th>Kode_Daerah</th>\n",
              "      <th>Sudah_Asuransi</th>\n",
              "      <th>Umur_Kendaraan</th>\n",
              "      <th>Kendaraan_Rusak</th>\n",
              "      <th>Premi</th>\n",
              "      <th>Kanal_Penjualan</th>\n",
              "      <th>Lama_Berlangganan</th>\n",
              "      <th>Tertarik</th>\n",
              "    </tr>\n",
              "  </thead>\n",
              "  <tbody>\n",
              "    <tr>\n",
              "      <th>0</th>\n",
              "      <td>1</td>\n",
              "      <td>Wanita</td>\n",
              "      <td>30.0</td>\n",
              "      <td>1.0</td>\n",
              "      <td>33.0</td>\n",
              "      <td>1.0</td>\n",
              "      <td>&lt; 1 Tahun</td>\n",
              "      <td>Tidak</td>\n",
              "      <td>28029.0</td>\n",
              "      <td>152.0</td>\n",
              "      <td>97.0</td>\n",
              "      <td>0</td>\n",
              "    </tr>\n",
              "    <tr>\n",
              "      <th>1</th>\n",
              "      <td>2</td>\n",
              "      <td>Pria</td>\n",
              "      <td>48.0</td>\n",
              "      <td>1.0</td>\n",
              "      <td>39.0</td>\n",
              "      <td>0.0</td>\n",
              "      <td>&gt; 2 Tahun</td>\n",
              "      <td>Pernah</td>\n",
              "      <td>25800.0</td>\n",
              "      <td>29.0</td>\n",
              "      <td>158.0</td>\n",
              "      <td>0</td>\n",
              "    </tr>\n",
              "    <tr>\n",
              "      <th>2</th>\n",
              "      <td>3</td>\n",
              "      <td>NaN</td>\n",
              "      <td>21.0</td>\n",
              "      <td>1.0</td>\n",
              "      <td>46.0</td>\n",
              "      <td>1.0</td>\n",
              "      <td>&lt; 1 Tahun</td>\n",
              "      <td>Tidak</td>\n",
              "      <td>32733.0</td>\n",
              "      <td>160.0</td>\n",
              "      <td>119.0</td>\n",
              "      <td>0</td>\n",
              "    </tr>\n",
              "    <tr>\n",
              "      <th>3</th>\n",
              "      <td>4</td>\n",
              "      <td>Wanita</td>\n",
              "      <td>58.0</td>\n",
              "      <td>1.0</td>\n",
              "      <td>48.0</td>\n",
              "      <td>0.0</td>\n",
              "      <td>1-2 Tahun</td>\n",
              "      <td>Tidak</td>\n",
              "      <td>2630.0</td>\n",
              "      <td>124.0</td>\n",
              "      <td>63.0</td>\n",
              "      <td>0</td>\n",
              "    </tr>\n",
              "    <tr>\n",
              "      <th>4</th>\n",
              "      <td>5</td>\n",
              "      <td>Pria</td>\n",
              "      <td>50.0</td>\n",
              "      <td>1.0</td>\n",
              "      <td>35.0</td>\n",
              "      <td>0.0</td>\n",
              "      <td>&gt; 2 Tahun</td>\n",
              "      <td>NaN</td>\n",
              "      <td>34857.0</td>\n",
              "      <td>88.0</td>\n",
              "      <td>194.0</td>\n",
              "      <td>0</td>\n",
              "    </tr>\n",
              "  </tbody>\n",
              "</table>\n",
              "</div>"
            ],
            "text/plain": [
              "   id Jenis_Kelamin  Umur  ...  Kanal_Penjualan  Lama_Berlangganan  Tertarik\n",
              "0   1        Wanita  30.0  ...            152.0               97.0         0\n",
              "1   2          Pria  48.0  ...             29.0              158.0         0\n",
              "2   3           NaN  21.0  ...            160.0              119.0         0\n",
              "3   4        Wanita  58.0  ...            124.0               63.0         0\n",
              "4   5          Pria  50.0  ...             88.0              194.0         0\n",
              "\n",
              "[5 rows x 12 columns]"
            ]
          },
          "metadata": {},
          "execution_count": 6
        }
      ]
    },
    {
      "cell_type": "code",
      "metadata": {
        "id": "W294lixetNVS",
        "colab": {
          "base_uri": "https://localhost:8080/",
          "height": 204
        },
        "outputId": "27ed522e-e366-4ad1-a2b6-3240b0cb2a72"
      },
      "source": [
        "df_test.head()"
      ],
      "execution_count": 7,
      "outputs": [
        {
          "output_type": "execute_result",
          "data": {
            "text/html": [
              "<div>\n",
              "<style scoped>\n",
              "    .dataframe tbody tr th:only-of-type {\n",
              "        vertical-align: middle;\n",
              "    }\n",
              "\n",
              "    .dataframe tbody tr th {\n",
              "        vertical-align: top;\n",
              "    }\n",
              "\n",
              "    .dataframe thead th {\n",
              "        text-align: right;\n",
              "    }\n",
              "</style>\n",
              "<table border=\"1\" class=\"dataframe\">\n",
              "  <thead>\n",
              "    <tr style=\"text-align: right;\">\n",
              "      <th></th>\n",
              "      <th>Jenis_Kelamin</th>\n",
              "      <th>Umur</th>\n",
              "      <th>SIM</th>\n",
              "      <th>Kode_Daerah</th>\n",
              "      <th>Sudah_Asuransi</th>\n",
              "      <th>Umur_Kendaraan</th>\n",
              "      <th>Kendaraan_Rusak</th>\n",
              "      <th>Premi</th>\n",
              "      <th>Kanal_Penjualan</th>\n",
              "      <th>Lama_Berlangganan</th>\n",
              "      <th>Tertarik</th>\n",
              "    </tr>\n",
              "  </thead>\n",
              "  <tbody>\n",
              "    <tr>\n",
              "      <th>0</th>\n",
              "      <td>Wanita</td>\n",
              "      <td>49</td>\n",
              "      <td>1</td>\n",
              "      <td>8</td>\n",
              "      <td>0</td>\n",
              "      <td>1-2 Tahun</td>\n",
              "      <td>Pernah</td>\n",
              "      <td>46963</td>\n",
              "      <td>26</td>\n",
              "      <td>145</td>\n",
              "      <td>0</td>\n",
              "    </tr>\n",
              "    <tr>\n",
              "      <th>1</th>\n",
              "      <td>Pria</td>\n",
              "      <td>22</td>\n",
              "      <td>1</td>\n",
              "      <td>47</td>\n",
              "      <td>1</td>\n",
              "      <td>&lt; 1 Tahun</td>\n",
              "      <td>Tidak</td>\n",
              "      <td>39624</td>\n",
              "      <td>152</td>\n",
              "      <td>241</td>\n",
              "      <td>0</td>\n",
              "    </tr>\n",
              "    <tr>\n",
              "      <th>2</th>\n",
              "      <td>Pria</td>\n",
              "      <td>24</td>\n",
              "      <td>1</td>\n",
              "      <td>28</td>\n",
              "      <td>1</td>\n",
              "      <td>&lt; 1 Tahun</td>\n",
              "      <td>Tidak</td>\n",
              "      <td>110479</td>\n",
              "      <td>152</td>\n",
              "      <td>62</td>\n",
              "      <td>0</td>\n",
              "    </tr>\n",
              "    <tr>\n",
              "      <th>3</th>\n",
              "      <td>Pria</td>\n",
              "      <td>46</td>\n",
              "      <td>1</td>\n",
              "      <td>8</td>\n",
              "      <td>1</td>\n",
              "      <td>1-2 Tahun</td>\n",
              "      <td>Tidak</td>\n",
              "      <td>36266</td>\n",
              "      <td>124</td>\n",
              "      <td>34</td>\n",
              "      <td>0</td>\n",
              "    </tr>\n",
              "    <tr>\n",
              "      <th>4</th>\n",
              "      <td>Pria</td>\n",
              "      <td>35</td>\n",
              "      <td>1</td>\n",
              "      <td>23</td>\n",
              "      <td>0</td>\n",
              "      <td>1-2 Tahun</td>\n",
              "      <td>Pernah</td>\n",
              "      <td>26963</td>\n",
              "      <td>152</td>\n",
              "      <td>229</td>\n",
              "      <td>0</td>\n",
              "    </tr>\n",
              "  </tbody>\n",
              "</table>\n",
              "</div>"
            ],
            "text/plain": [
              "  Jenis_Kelamin  Umur  SIM  ...  Kanal_Penjualan  Lama_Berlangganan Tertarik\n",
              "0        Wanita    49    1  ...               26                145        0\n",
              "1          Pria    22    1  ...              152                241        0\n",
              "2          Pria    24    1  ...              152                 62        0\n",
              "3          Pria    46    1  ...              124                 34        0\n",
              "4          Pria    35    1  ...              152                229        0\n",
              "\n",
              "[5 rows x 11 columns]"
            ]
          },
          "metadata": {},
          "execution_count": 7
        }
      ]
    },
    {
      "cell_type": "code",
      "metadata": {
        "id": "GBfUEc09tSK8",
        "colab": {
          "base_uri": "https://localhost:8080/"
        },
        "outputId": "d256b006-2a0e-48a1-ddd3-79753f48cdb6"
      },
      "source": [
        "df_train.info()"
      ],
      "execution_count": 8,
      "outputs": [
        {
          "output_type": "stream",
          "name": "stdout",
          "text": [
            "<class 'pandas.core.frame.DataFrame'>\n",
            "RangeIndex: 285831 entries, 0 to 285830\n",
            "Data columns (total 12 columns):\n",
            " #   Column             Non-Null Count   Dtype  \n",
            "---  ------             --------------   -----  \n",
            " 0   id                 285831 non-null  int64  \n",
            " 1   Jenis_Kelamin      271391 non-null  object \n",
            " 2   Umur               271617 non-null  float64\n",
            " 3   SIM                271427 non-null  float64\n",
            " 4   Kode_Daerah        271525 non-null  float64\n",
            " 5   Sudah_Asuransi     271602 non-null  float64\n",
            " 6   Umur_Kendaraan     271556 non-null  object \n",
            " 7   Kendaraan_Rusak    271643 non-null  object \n",
            " 8   Premi              271262 non-null  float64\n",
            " 9   Kanal_Penjualan    271532 non-null  float64\n",
            " 10  Lama_Berlangganan  271839 non-null  float64\n",
            " 11  Tertarik           285831 non-null  int64  \n",
            "dtypes: float64(7), int64(2), object(3)\n",
            "memory usage: 26.2+ MB\n"
          ]
        }
      ]
    },
    {
      "cell_type": "code",
      "metadata": {
        "id": "VqcNTsSRs4wI",
        "colab": {
          "base_uri": "https://localhost:8080/"
        },
        "outputId": "0d5766b3-d080-4071-ddf7-a7e114a9d347"
      },
      "source": [
        "df_test.info()"
      ],
      "execution_count": 9,
      "outputs": [
        {
          "output_type": "stream",
          "name": "stdout",
          "text": [
            "<class 'pandas.core.frame.DataFrame'>\n",
            "RangeIndex: 47639 entries, 0 to 47638\n",
            "Data columns (total 11 columns):\n",
            " #   Column             Non-Null Count  Dtype \n",
            "---  ------             --------------  ----- \n",
            " 0   Jenis_Kelamin      47639 non-null  object\n",
            " 1   Umur               47639 non-null  int64 \n",
            " 2   SIM                47639 non-null  int64 \n",
            " 3   Kode_Daerah        47639 non-null  int64 \n",
            " 4   Sudah_Asuransi     47639 non-null  int64 \n",
            " 5   Umur_Kendaraan     47639 non-null  object\n",
            " 6   Kendaraan_Rusak    47639 non-null  object\n",
            " 7   Premi              47639 non-null  int64 \n",
            " 8   Kanal_Penjualan    47639 non-null  int64 \n",
            " 9   Lama_Berlangganan  47639 non-null  int64 \n",
            " 10  Tertarik           47639 non-null  int64 \n",
            "dtypes: int64(8), object(3)\n",
            "memory usage: 4.0+ MB\n"
          ]
        }
      ]
    },
    {
      "cell_type": "markdown",
      "metadata": {
        "id": "37EtMXdQwzG2"
      },
      "source": [
        "Data Pre-Processing\n",
        "\n",
        "---\n",
        "\n",
        "\n",
        "\n",
        "1.   Cek Missing Value\n",
        "2.   Replace Null Value\n",
        "3.   Drop Coloumn\n",
        "4.   Changing Data Type to integer\n",
        "\n"
      ]
    },
    {
      "cell_type": "code",
      "metadata": {
        "id": "Q3dYrfL_s-y-",
        "colab": {
          "base_uri": "https://localhost:8080/"
        },
        "outputId": "a01f4cd1-dc77-4b54-e551-8ee4b0e54e38"
      },
      "source": [
        "df_train.isnull().sum()  ## Untuk Melihat Jumlah Data yang Kosong"
      ],
      "execution_count": 10,
      "outputs": [
        {
          "output_type": "execute_result",
          "data": {
            "text/plain": [
              "id                       0\n",
              "Jenis_Kelamin        14440\n",
              "Umur                 14214\n",
              "SIM                  14404\n",
              "Kode_Daerah          14306\n",
              "Sudah_Asuransi       14229\n",
              "Umur_Kendaraan       14275\n",
              "Kendaraan_Rusak      14188\n",
              "Premi                14569\n",
              "Kanal_Penjualan      14299\n",
              "Lama_Berlangganan    13992\n",
              "Tertarik                 0\n",
              "dtype: int64"
            ]
          },
          "metadata": {},
          "execution_count": 10
        }
      ]
    },
    {
      "cell_type": "code",
      "metadata": {
        "id": "NobGthb4ulIu",
        "colab": {
          "base_uri": "https://localhost:8080/"
        },
        "outputId": "d954622f-53a8-42f8-a601-da227567288f"
      },
      "source": [
        "df_test.isnull().sum()"
      ],
      "execution_count": 11,
      "outputs": [
        {
          "output_type": "execute_result",
          "data": {
            "text/plain": [
              "Jenis_Kelamin        0\n",
              "Umur                 0\n",
              "SIM                  0\n",
              "Kode_Daerah          0\n",
              "Sudah_Asuransi       0\n",
              "Umur_Kendaraan       0\n",
              "Kendaraan_Rusak      0\n",
              "Premi                0\n",
              "Kanal_Penjualan      0\n",
              "Lama_Berlangganan    0\n",
              "Tertarik             0\n",
              "dtype: int64"
            ]
          },
          "metadata": {},
          "execution_count": 11
        }
      ]
    },
    {
      "cell_type": "code",
      "metadata": {
        "id": "pQTTAN50vYDI"
      },
      "source": [
        "## Drop Coloumn Id dan kode daerah\n",
        "df_train = df_train.drop(['id'], axis = 1)\n",
        "df_train = df_train.drop(['Kode_Daerah'], axis = 1)"
      ],
      "execution_count": 12,
      "outputs": []
    },
    {
      "cell_type": "code",
      "metadata": {
        "id": "pONz9s_yv7kW",
        "colab": {
          "base_uri": "https://localhost:8080/"
        },
        "outputId": "247add31-c597-4323-ce02-c50edfe7dc27"
      },
      "source": [
        "## Mendeskripsikian Coloumn yang ada di data train\n",
        "df_train['Jenis_Kelamin'].describe()"
      ],
      "execution_count": 13,
      "outputs": [
        {
          "output_type": "execute_result",
          "data": {
            "text/plain": [
              "count     271391\n",
              "unique         2\n",
              "top         Pria\n",
              "freq      146678\n",
              "Name: Jenis_Kelamin, dtype: object"
            ]
          },
          "metadata": {},
          "execution_count": 13
        }
      ]
    },
    {
      "cell_type": "code",
      "metadata": {
        "id": "3Ut_HmIJyczV",
        "colab": {
          "base_uri": "https://localhost:8080/"
        },
        "outputId": "92e43317-cded-4c19-9846-1b6a8019d137"
      },
      "source": [
        "df_train['Umur'].describe()"
      ],
      "execution_count": 14,
      "outputs": [
        {
          "output_type": "execute_result",
          "data": {
            "text/plain": [
              "count    271617.000000\n",
              "mean         38.844336\n",
              "std          15.522487\n",
              "min          20.000000\n",
              "25%          25.000000\n",
              "50%          36.000000\n",
              "75%          49.000000\n",
              "max          85.000000\n",
              "Name: Umur, dtype: float64"
            ]
          },
          "metadata": {},
          "execution_count": 14
        }
      ]
    },
    {
      "cell_type": "code",
      "metadata": {
        "id": "GpBKRcRhydWA",
        "colab": {
          "base_uri": "https://localhost:8080/"
        },
        "outputId": "37f07644-ae06-4033-dd95-92581ba447d0"
      },
      "source": [
        "df_train['Sudah_Asuransi'].describe()"
      ],
      "execution_count": 15,
      "outputs": [
        {
          "output_type": "execute_result",
          "data": {
            "text/plain": [
              "count    271602.000000\n",
              "mean          0.458778\n",
              "std           0.498299\n",
              "min           0.000000\n",
              "25%           0.000000\n",
              "50%           0.000000\n",
              "75%           1.000000\n",
              "max           1.000000\n",
              "Name: Sudah_Asuransi, dtype: float64"
            ]
          },
          "metadata": {},
          "execution_count": 15
        }
      ]
    },
    {
      "cell_type": "code",
      "metadata": {
        "id": "AD_rXqZLy7_u",
        "colab": {
          "base_uri": "https://localhost:8080/"
        },
        "outputId": "3435db15-2a96-4cb6-9adc-522c2da48196"
      },
      "source": [
        "df_train['Umur_Kendaraan'].describe()"
      ],
      "execution_count": 16,
      "outputs": [
        {
          "output_type": "execute_result",
          "data": {
            "text/plain": [
              "count        271556\n",
              "unique            3\n",
              "top       1-2 Tahun\n",
              "freq         142761\n",
              "Name: Umur_Kendaraan, dtype: object"
            ]
          },
          "metadata": {},
          "execution_count": 16
        }
      ]
    },
    {
      "cell_type": "code",
      "metadata": {
        "id": "3SSqATjly_uM",
        "colab": {
          "base_uri": "https://localhost:8080/"
        },
        "outputId": "038251bf-27b9-4cfb-8307-6ded2407845b"
      },
      "source": [
        "df_train['Kendaraan_Rusak'].describe()"
      ],
      "execution_count": 17,
      "outputs": [
        {
          "output_type": "execute_result",
          "data": {
            "text/plain": [
              "count     271643\n",
              "unique         2\n",
              "top       Pernah\n",
              "freq      137123\n",
              "Name: Kendaraan_Rusak, dtype: object"
            ]
          },
          "metadata": {},
          "execution_count": 17
        }
      ]
    },
    {
      "cell_type": "code",
      "metadata": {
        "id": "TGzTyjH6zBsx",
        "colab": {
          "base_uri": "https://localhost:8080/"
        },
        "outputId": "fc96eb27-b8f2-430e-e282-7e929141f248"
      },
      "source": [
        "df_train['Premi'].describe()"
      ],
      "execution_count": 18,
      "outputs": [
        {
          "output_type": "execute_result",
          "data": {
            "text/plain": [
              "count    271262.000000\n",
              "mean      30536.683472\n",
              "std       17155.000770\n",
              "min        2630.000000\n",
              "25%       24398.000000\n",
              "50%       31646.000000\n",
              "75%       39377.750000\n",
              "max      540165.000000\n",
              "Name: Premi, dtype: float64"
            ]
          },
          "metadata": {},
          "execution_count": 18
        }
      ]
    },
    {
      "cell_type": "code",
      "metadata": {
        "id": "lDLxYed7zDqy",
        "colab": {
          "base_uri": "https://localhost:8080/"
        },
        "outputId": "838edf23-f766-4885-e9ca-49a8cab13a28"
      },
      "source": [
        "df_train['Kanal_Penjualan'].describe()"
      ],
      "execution_count": 19,
      "outputs": [
        {
          "output_type": "execute_result",
          "data": {
            "text/plain": [
              "count    271532.000000\n",
              "mean        112.021567\n",
              "std          54.202457\n",
              "min           1.000000\n",
              "25%          29.000000\n",
              "50%         132.000000\n",
              "75%         152.000000\n",
              "max         163.000000\n",
              "Name: Kanal_Penjualan, dtype: float64"
            ]
          },
          "metadata": {},
          "execution_count": 19
        }
      ]
    },
    {
      "cell_type": "code",
      "metadata": {
        "id": "tfUupyBnzGr9",
        "colab": {
          "base_uri": "https://localhost:8080/"
        },
        "outputId": "c8a57780-3201-44d0-bb28-ea210e69320e"
      },
      "source": [
        "df_train['Lama_Berlangganan'].describe()"
      ],
      "execution_count": 20,
      "outputs": [
        {
          "output_type": "execute_result",
          "data": {
            "text/plain": [
              "count    271839.000000\n",
              "mean        154.286302\n",
              "std          83.694910\n",
              "min          10.000000\n",
              "25%          82.000000\n",
              "50%         154.000000\n",
              "75%         227.000000\n",
              "max         299.000000\n",
              "Name: Lama_Berlangganan, dtype: float64"
            ]
          },
          "metadata": {},
          "execution_count": 20
        }
      ]
    },
    {
      "cell_type": "code",
      "metadata": {
        "id": "bKvOnukywAnn"
      },
      "source": [
        "## Menghapus Nilai yang kosong\n",
        "df_train = df_train[df_train['Jenis_Kelamin'].notna()] \n",
        "df_train = df_train[df_train['Umur'].notna()]\n",
        "df_train = df_train[df_train['SIM'].notna()]\n",
        "df_train = df_train[df_train['Sudah_Asuransi'].notna()]\n",
        "df_train = df_train[df_train['Umur_Kendaraan'].notna()]\n",
        "df_train = df_train[df_train['Kendaraan_Rusak'].notna()]\n",
        "df_train = df_train[df_train['Premi'].notna()]\n",
        "df_train = df_train[df_train['Kanal_Penjualan'].notna()]\n",
        "df_train = df_train[df_train['Lama_Berlangganan'].notna()]"
      ],
      "execution_count": 21,
      "outputs": []
    },
    {
      "cell_type": "code",
      "metadata": {
        "id": "ej41fszJySUq"
      },
      "source": [
        "# df_train.loc[df_train['Jenis_Kelamin'] == 0]"
      ],
      "execution_count": 22,
      "outputs": []
    },
    {
      "cell_type": "code",
      "metadata": {
        "id": "D27hn5qAyej3"
      },
      "source": [
        "# df_train.loc[df_train['Jenis_Kelamin'] != 0]"
      ],
      "execution_count": 23,
      "outputs": []
    },
    {
      "cell_type": "code",
      "metadata": {
        "id": "l02OLqcTy7jO"
      },
      "source": [
        "##  Memberikan Label ke Coloumn Jenis Kelamin\n",
        "label_enc = LabelEncoder()\n",
        "df_train[\"Jenis_Kelamin\"] = label_enc.fit_transform(df_train[\"Jenis_Kelamin\"])"
      ],
      "execution_count": 24,
      "outputs": []
    },
    {
      "cell_type": "code",
      "metadata": {
        "id": "YcwfNMn_LHQ3"
      },
      "source": [
        "## Memberikan Label Pada Coloumn Umur Kendaraan\n",
        "\n",
        "umurkendaraan = {'< 1 Tahun': 1, '1-2 Tahun': 2, '> 2 Tahun':3}\n",
        "df_train['Umur_Kendaraan'] = df_train['Umur_Kendaraan'].map(umurkendaraan)"
      ],
      "execution_count": 25,
      "outputs": []
    },
    {
      "cell_type": "code",
      "metadata": {
        "id": "qhYC3_9AVc5C"
      },
      "source": [
        "## Memberikan Label Pada Coloumn Kendaraan Rusak\n",
        "label_enc = LabelEncoder()\n",
        "df_train[\"Kendaraan_Rusak\"] = label_enc.fit_transform(df_train[\"Kendaraan_Rusak\"])"
      ],
      "execution_count": 26,
      "outputs": []
    },
    {
      "cell_type": "code",
      "metadata": {
        "id": "4F4MUyliy8F4",
        "colab": {
          "base_uri": "https://localhost:8080/",
          "height": 204
        },
        "outputId": "09d05758-75e2-4a14-d6a0-f6f862a2903b"
      },
      "source": [
        "df_train.head()"
      ],
      "execution_count": 27,
      "outputs": [
        {
          "output_type": "execute_result",
          "data": {
            "text/html": [
              "<div>\n",
              "<style scoped>\n",
              "    .dataframe tbody tr th:only-of-type {\n",
              "        vertical-align: middle;\n",
              "    }\n",
              "\n",
              "    .dataframe tbody tr th {\n",
              "        vertical-align: top;\n",
              "    }\n",
              "\n",
              "    .dataframe thead th {\n",
              "        text-align: right;\n",
              "    }\n",
              "</style>\n",
              "<table border=\"1\" class=\"dataframe\">\n",
              "  <thead>\n",
              "    <tr style=\"text-align: right;\">\n",
              "      <th></th>\n",
              "      <th>Jenis_Kelamin</th>\n",
              "      <th>Umur</th>\n",
              "      <th>SIM</th>\n",
              "      <th>Sudah_Asuransi</th>\n",
              "      <th>Umur_Kendaraan</th>\n",
              "      <th>Kendaraan_Rusak</th>\n",
              "      <th>Premi</th>\n",
              "      <th>Kanal_Penjualan</th>\n",
              "      <th>Lama_Berlangganan</th>\n",
              "      <th>Tertarik</th>\n",
              "    </tr>\n",
              "  </thead>\n",
              "  <tbody>\n",
              "    <tr>\n",
              "      <th>0</th>\n",
              "      <td>1</td>\n",
              "      <td>30.0</td>\n",
              "      <td>1.0</td>\n",
              "      <td>1.0</td>\n",
              "      <td>1</td>\n",
              "      <td>1</td>\n",
              "      <td>28029.0</td>\n",
              "      <td>152.0</td>\n",
              "      <td>97.0</td>\n",
              "      <td>0</td>\n",
              "    </tr>\n",
              "    <tr>\n",
              "      <th>1</th>\n",
              "      <td>0</td>\n",
              "      <td>48.0</td>\n",
              "      <td>1.0</td>\n",
              "      <td>0.0</td>\n",
              "      <td>3</td>\n",
              "      <td>0</td>\n",
              "      <td>25800.0</td>\n",
              "      <td>29.0</td>\n",
              "      <td>158.0</td>\n",
              "      <td>0</td>\n",
              "    </tr>\n",
              "    <tr>\n",
              "      <th>3</th>\n",
              "      <td>1</td>\n",
              "      <td>58.0</td>\n",
              "      <td>1.0</td>\n",
              "      <td>0.0</td>\n",
              "      <td>2</td>\n",
              "      <td>1</td>\n",
              "      <td>2630.0</td>\n",
              "      <td>124.0</td>\n",
              "      <td>63.0</td>\n",
              "      <td>0</td>\n",
              "    </tr>\n",
              "    <tr>\n",
              "      <th>5</th>\n",
              "      <td>0</td>\n",
              "      <td>21.0</td>\n",
              "      <td>1.0</td>\n",
              "      <td>1.0</td>\n",
              "      <td>1</td>\n",
              "      <td>1</td>\n",
              "      <td>22735.0</td>\n",
              "      <td>152.0</td>\n",
              "      <td>171.0</td>\n",
              "      <td>0</td>\n",
              "    </tr>\n",
              "    <tr>\n",
              "      <th>8</th>\n",
              "      <td>1</td>\n",
              "      <td>20.0</td>\n",
              "      <td>1.0</td>\n",
              "      <td>1.0</td>\n",
              "      <td>1</td>\n",
              "      <td>1</td>\n",
              "      <td>30786.0</td>\n",
              "      <td>160.0</td>\n",
              "      <td>31.0</td>\n",
              "      <td>0</td>\n",
              "    </tr>\n",
              "  </tbody>\n",
              "</table>\n",
              "</div>"
            ],
            "text/plain": [
              "   Jenis_Kelamin  Umur  SIM  ...  Kanal_Penjualan  Lama_Berlangganan  Tertarik\n",
              "0              1  30.0  1.0  ...            152.0               97.0         0\n",
              "1              0  48.0  1.0  ...             29.0              158.0         0\n",
              "3              1  58.0  1.0  ...            124.0               63.0         0\n",
              "5              0  21.0  1.0  ...            152.0              171.0         0\n",
              "8              1  20.0  1.0  ...            160.0               31.0         0\n",
              "\n",
              "[5 rows x 10 columns]"
            ]
          },
          "metadata": {},
          "execution_count": 27
        }
      ]
    },
    {
      "cell_type": "code",
      "metadata": {
        "id": "iM7wCe-wJD3s"
      },
      "source": [
        "\n",
        "df_train['Sudah_Asuransi'] = df_train[\"Sudah_Asuransi\"].astype(np.int64)"
      ],
      "execution_count": 28,
      "outputs": []
    },
    {
      "cell_type": "code",
      "metadata": {
        "id": "Wq1t55owV-_G"
      },
      "source": [
        "## Mengubah Tipe data object ke integer\n",
        "df_train['Kendaraan_Rusak'] = df_train[\"Kendaraan_Rusak\"].astype(np.int64)"
      ],
      "execution_count": 29,
      "outputs": []
    },
    {
      "cell_type": "code",
      "metadata": {
        "id": "5DpKVNMJYn5T"
      },
      "source": [
        "## Mengubah Tipe data float ke integer\n",
        "df_train['Premi'] = df_train[\"Premi\"].astype(np.int64)"
      ],
      "execution_count": 30,
      "outputs": []
    },
    {
      "cell_type": "code",
      "metadata": {
        "id": "_APt-rCiPvuJ"
      },
      "source": [
        "## Mengubah Tipe data float ke integer\n",
        "df_train['Kanal_Penjualan'] = df_train[\"Kanal_Penjualan\"].astype(np.int64)"
      ],
      "execution_count": 31,
      "outputs": []
    },
    {
      "cell_type": "code",
      "metadata": {
        "id": "BNUfLeQURJTy"
      },
      "source": [
        "## Mengubah Tipe data float ke integer\n",
        "df_train['Lama_Berlangganan'] = df_train[\"Lama_Berlangganan\"].astype(np.int64)"
      ],
      "execution_count": 32,
      "outputs": []
    },
    {
      "cell_type": "code",
      "metadata": {
        "id": "GP0Pf4NsV7-a",
        "colab": {
          "base_uri": "https://localhost:8080/",
          "height": 204
        },
        "outputId": "2b72935d-0685-4e03-c797-68e4bda14bdb"
      },
      "source": [
        "df_train.head()"
      ],
      "execution_count": 33,
      "outputs": [
        {
          "output_type": "execute_result",
          "data": {
            "text/html": [
              "<div>\n",
              "<style scoped>\n",
              "    .dataframe tbody tr th:only-of-type {\n",
              "        vertical-align: middle;\n",
              "    }\n",
              "\n",
              "    .dataframe tbody tr th {\n",
              "        vertical-align: top;\n",
              "    }\n",
              "\n",
              "    .dataframe thead th {\n",
              "        text-align: right;\n",
              "    }\n",
              "</style>\n",
              "<table border=\"1\" class=\"dataframe\">\n",
              "  <thead>\n",
              "    <tr style=\"text-align: right;\">\n",
              "      <th></th>\n",
              "      <th>Jenis_Kelamin</th>\n",
              "      <th>Umur</th>\n",
              "      <th>SIM</th>\n",
              "      <th>Sudah_Asuransi</th>\n",
              "      <th>Umur_Kendaraan</th>\n",
              "      <th>Kendaraan_Rusak</th>\n",
              "      <th>Premi</th>\n",
              "      <th>Kanal_Penjualan</th>\n",
              "      <th>Lama_Berlangganan</th>\n",
              "      <th>Tertarik</th>\n",
              "    </tr>\n",
              "  </thead>\n",
              "  <tbody>\n",
              "    <tr>\n",
              "      <th>0</th>\n",
              "      <td>1</td>\n",
              "      <td>30.0</td>\n",
              "      <td>1.0</td>\n",
              "      <td>1</td>\n",
              "      <td>1</td>\n",
              "      <td>1</td>\n",
              "      <td>28029</td>\n",
              "      <td>152</td>\n",
              "      <td>97</td>\n",
              "      <td>0</td>\n",
              "    </tr>\n",
              "    <tr>\n",
              "      <th>1</th>\n",
              "      <td>0</td>\n",
              "      <td>48.0</td>\n",
              "      <td>1.0</td>\n",
              "      <td>0</td>\n",
              "      <td>3</td>\n",
              "      <td>0</td>\n",
              "      <td>25800</td>\n",
              "      <td>29</td>\n",
              "      <td>158</td>\n",
              "      <td>0</td>\n",
              "    </tr>\n",
              "    <tr>\n",
              "      <th>3</th>\n",
              "      <td>1</td>\n",
              "      <td>58.0</td>\n",
              "      <td>1.0</td>\n",
              "      <td>0</td>\n",
              "      <td>2</td>\n",
              "      <td>1</td>\n",
              "      <td>2630</td>\n",
              "      <td>124</td>\n",
              "      <td>63</td>\n",
              "      <td>0</td>\n",
              "    </tr>\n",
              "    <tr>\n",
              "      <th>5</th>\n",
              "      <td>0</td>\n",
              "      <td>21.0</td>\n",
              "      <td>1.0</td>\n",
              "      <td>1</td>\n",
              "      <td>1</td>\n",
              "      <td>1</td>\n",
              "      <td>22735</td>\n",
              "      <td>152</td>\n",
              "      <td>171</td>\n",
              "      <td>0</td>\n",
              "    </tr>\n",
              "    <tr>\n",
              "      <th>8</th>\n",
              "      <td>1</td>\n",
              "      <td>20.0</td>\n",
              "      <td>1.0</td>\n",
              "      <td>1</td>\n",
              "      <td>1</td>\n",
              "      <td>1</td>\n",
              "      <td>30786</td>\n",
              "      <td>160</td>\n",
              "      <td>31</td>\n",
              "      <td>0</td>\n",
              "    </tr>\n",
              "  </tbody>\n",
              "</table>\n",
              "</div>"
            ],
            "text/plain": [
              "   Jenis_Kelamin  Umur  SIM  ...  Kanal_Penjualan  Lama_Berlangganan  Tertarik\n",
              "0              1  30.0  1.0  ...              152                 97         0\n",
              "1              0  48.0  1.0  ...               29                158         0\n",
              "3              1  58.0  1.0  ...              124                 63         0\n",
              "5              0  21.0  1.0  ...              152                171         0\n",
              "8              1  20.0  1.0  ...              160                 31         0\n",
              "\n",
              "[5 rows x 10 columns]"
            ]
          },
          "metadata": {},
          "execution_count": 33
        }
      ]
    },
    {
      "cell_type": "markdown",
      "metadata": {
        "id": "Zt6rcj0Y2Q0W"
      },
      "source": [
        "Tahap Corellation\n",
        "\n",
        "---\n",
        "\n"
      ]
    },
    {
      "cell_type": "code",
      "metadata": {
        "id": "3ZTEHJbX2ahU",
        "colab": {
          "base_uri": "https://localhost:8080/",
          "height": 705
        },
        "outputId": "7115207a-8bff-4b36-bfe0-d41c3716a2f0"
      },
      "source": [
        "# Menampilkan Corelasi setiap variabel\n",
        "plt.figure(figsize=(15,10))\n",
        "plt.title('Correlation of Variable', y=1, size=20)\n",
        "\n",
        "sns.heatmap(df_train.corr(method='spearman'), annot=True, linewidths=.5, square=True, cmap=plt.cm.coolwarm)\n",
        "\n",
        "plt.show()"
      ],
      "execution_count": 34,
      "outputs": [
        {
          "output_type": "display_data",
          "data": {
            "image/png": "[encoded data removed]",
            "text/plain": [
              "<Figure size 1080x720 with 2 Axes>"
            ]
          },
          "metadata": {
            "needs_background": "light"
          }
        }
      ]
    },
    {
      "cell_type": "code",
      "metadata": {
        "id": "yW0V-i4N2oO6",
        "colab": {
          "base_uri": "https://localhost:8080/",
          "height": 359
        },
        "outputId": "1402442b-0bc1-4c83-8482-7906d1179cf3"
      },
      "source": [
        "df_train.corr(method='spearman')"
      ],
      "execution_count": 35,
      "outputs": [
        {
          "output_type": "execute_result",
          "data": {
            "text/html": [
              "<div>\n",
              "<style scoped>\n",
              "    .dataframe tbody tr th:only-of-type {\n",
              "        vertical-align: middle;\n",
              "    }\n",
              "\n",
              "    .dataframe tbody tr th {\n",
              "        vertical-align: top;\n",
              "    }\n",
              "\n",
              "    .dataframe thead th {\n",
              "        text-align: right;\n",
              "    }\n",
              "</style>\n",
              "<table border=\"1\" class=\"dataframe\">\n",
              "  <thead>\n",
              "    <tr style=\"text-align: right;\">\n",
              "      <th></th>\n",
              "      <th>Jenis_Kelamin</th>\n",
              "      <th>Umur</th>\n",
              "      <th>SIM</th>\n",
              "      <th>Sudah_Asuransi</th>\n",
              "      <th>Umur_Kendaraan</th>\n",
              "      <th>Kendaraan_Rusak</th>\n",
              "      <th>Premi</th>\n",
              "      <th>Kanal_Penjualan</th>\n",
              "      <th>Lama_Berlangganan</th>\n",
              "      <th>Tertarik</th>\n",
              "    </tr>\n",
              "  </thead>\n",
              "  <tbody>\n",
              "    <tr>\n",
              "      <th>Jenis_Kelamin</th>\n",
              "      <td>1.000000</td>\n",
              "      <td>-0.157187</td>\n",
              "      <td>0.019403</td>\n",
              "      <td>0.082960</td>\n",
              "      <td>-0.166185</td>\n",
              "      <td>0.092292</td>\n",
              "      <td>-0.017926</td>\n",
              "      <td>0.123536</td>\n",
              "      <td>0.002290</td>\n",
              "      <td>-0.054428</td>\n",
              "    </tr>\n",
              "    <tr>\n",
              "      <th>Umur</th>\n",
              "      <td>-0.157187</td>\n",
              "      <td>1.000000</td>\n",
              "      <td>-0.064157</td>\n",
              "      <td>-0.269879</td>\n",
              "      <td>0.824851</td>\n",
              "      <td>-0.279919</td>\n",
              "      <td>0.095746</td>\n",
              "      <td>-0.646846</td>\n",
              "      <td>-0.001680</td>\n",
              "      <td>0.143103</td>\n",
              "    </tr>\n",
              "    <tr>\n",
              "      <th>SIM</th>\n",
              "      <td>0.019403</td>\n",
              "      <td>-0.064157</td>\n",
              "      <td>1.000000</td>\n",
              "      <td>0.015998</td>\n",
              "      <td>-0.038514</td>\n",
              "      <td>0.018526</td>\n",
              "      <td>-0.014595</td>\n",
              "      <td>0.044904</td>\n",
              "      <td>0.000914</td>\n",
              "      <td>0.009272</td>\n",
              "    </tr>\n",
              "    <tr>\n",
              "      <th>Sudah_Asuransi</th>\n",
              "      <td>0.082960</td>\n",
              "      <td>-0.269879</td>\n",
              "      <td>0.015998</td>\n",
              "      <td>1.000000</td>\n",
              "      <td>-0.378544</td>\n",
              "      <td>0.825627</td>\n",
              "      <td>-0.031281</td>\n",
              "      <td>0.210247</td>\n",
              "      <td>0.002933</td>\n",
              "      <td>-0.340579</td>\n",
              "    </tr>\n",
              "    <tr>\n",
              "      <th>Umur_Kendaraan</th>\n",
              "      <td>-0.166185</td>\n",
              "      <td>0.824851</td>\n",
              "      <td>-0.038514</td>\n",
              "      <td>-0.378544</td>\n",
              "      <td>1.000000</td>\n",
              "      <td>-0.394406</td>\n",
              "      <td>0.079819</td>\n",
              "      <td>-0.610479</td>\n",
              "      <td>-0.002113</td>\n",
              "      <td>0.220437</td>\n",
              "    </tr>\n",
              "    <tr>\n",
              "      <th>Kendaraan_Rusak</th>\n",
              "      <td>0.092292</td>\n",
              "      <td>-0.279919</td>\n",
              "      <td>0.018526</td>\n",
              "      <td>0.825627</td>\n",
              "      <td>-0.394406</td>\n",
              "      <td>1.000000</td>\n",
              "      <td>-0.042863</td>\n",
              "      <td>0.210667</td>\n",
              "      <td>0.001886</td>\n",
              "      <td>-0.353615</td>\n",
              "    </tr>\n",
              "    <tr>\n",
              "      <th>Premi</th>\n",
              "      <td>-0.017926</td>\n",
              "      <td>0.095746</td>\n",
              "      <td>-0.014595</td>\n",
              "      <td>-0.031281</td>\n",
              "      <td>0.079819</td>\n",
              "      <td>-0.042863</td>\n",
              "      <td>1.000000</td>\n",
              "      <td>-0.195694</td>\n",
              "      <td>0.001565</td>\n",
              "      <td>0.035284</td>\n",
              "    </tr>\n",
              "    <tr>\n",
              "      <th>Kanal_Penjualan</th>\n",
              "      <td>0.123536</td>\n",
              "      <td>-0.646846</td>\n",
              "      <td>0.044904</td>\n",
              "      <td>0.210247</td>\n",
              "      <td>-0.610479</td>\n",
              "      <td>0.210667</td>\n",
              "      <td>-0.195694</td>\n",
              "      <td>1.000000</td>\n",
              "      <td>0.000406</td>\n",
              "      <td>-0.140438</td>\n",
              "    </tr>\n",
              "    <tr>\n",
              "      <th>Lama_Berlangganan</th>\n",
              "      <td>0.002290</td>\n",
              "      <td>-0.001680</td>\n",
              "      <td>0.000914</td>\n",
              "      <td>0.002933</td>\n",
              "      <td>-0.002113</td>\n",
              "      <td>0.001886</td>\n",
              "      <td>0.001565</td>\n",
              "      <td>0.000406</td>\n",
              "      <td>1.000000</td>\n",
              "      <td>0.001728</td>\n",
              "    </tr>\n",
              "    <tr>\n",
              "      <th>Tertarik</th>\n",
              "      <td>-0.054428</td>\n",
              "      <td>0.143103</td>\n",
              "      <td>0.009272</td>\n",
              "      <td>-0.340579</td>\n",
              "      <td>0.220437</td>\n",
              "      <td>-0.353615</td>\n",
              "      <td>0.035284</td>\n",
              "      <td>-0.140438</td>\n",
              "      <td>0.001728</td>\n",
              "      <td>1.000000</td>\n",
              "    </tr>\n",
              "  </tbody>\n",
              "</table>\n",
              "</div>"
            ],
            "text/plain": [
              "                   Jenis_Kelamin      Umur  ...  Lama_Berlangganan  Tertarik\n",
              "Jenis_Kelamin           1.000000 -0.157187  ...           0.002290 -0.054428\n",
              "Umur                   -0.157187  1.000000  ...          -0.001680  0.143103\n",
              "SIM                     0.019403 -0.064157  ...           0.000914  0.009272\n",
              "Sudah_Asuransi          0.082960 -0.269879  ...           0.002933 -0.340579\n",
              "Umur_Kendaraan         -0.166185  0.824851  ...          -0.002113  0.220437\n",
              "Kendaraan_Rusak         0.092292 -0.279919  ...           0.001886 -0.353615\n",
              "Premi                  -0.017926  0.095746  ...           0.001565  0.035284\n",
              "Kanal_Penjualan         0.123536 -0.646846  ...           0.000406 -0.140438\n",
              "Lama_Berlangganan       0.002290 -0.001680  ...           1.000000  0.001728\n",
              "Tertarik               -0.054428  0.143103  ...           0.001728  1.000000\n",
              "\n",
              "[10 rows x 10 columns]"
            ]
          },
          "metadata": {},
          "execution_count": 35
        }
      ]
    },
    {
      "cell_type": "markdown",
      "metadata": {
        "id": "79zOJJVEpS5n"
      },
      "source": [
        "Tahap Scalling\n",
        "\n",
        "---\n",
        "\n"
      ]
    },
    {
      "cell_type": "code",
      "metadata": {
        "id": "iSCNuF_neKqY",
        "colab": {
          "base_uri": "https://localhost:8080/"
        },
        "outputId": "b0c983c0-a25e-4c07-8e21-ca1537be6cee"
      },
      "source": [
        "data = df_train[['Umur', 'Kendaraan_Rusak', 'Kanal_Penjualan', 'Lama_Berlangganan' ]] #Memakai Data yang akan dipakai untuk clustering\n",
        "data_idx = data.index\n",
        "scale = MinMaxScaler() #Scale dengan MinMax Scaler\n",
        "data_scale = scale.fit_transform(data)\n",
        "data_scale"
      ],
      "execution_count": 36,
      "outputs": [
        {
          "output_type": "execute_result",
          "data": {
            "text/plain": [
              "array([[0.15384615, 1.        , 0.93209877, 0.30103806],\n",
              "       [0.43076923, 0.        , 0.17283951, 0.51211073],\n",
              "       [0.58461538, 1.        , 0.75925926, 0.183391  ],\n",
              "       ...,\n",
              "       [0.04615385, 1.        , 0.93209877, 0.74740484],\n",
              "       [0.73846154, 1.        , 0.75925926, 0.89965398],\n",
              "       [0.38461538, 0.        , 0.15432099, 0.11764706]])"
            ]
          },
          "metadata": {},
          "execution_count": 36
        }
      ]
    },
    {
      "cell_type": "code",
      "metadata": {
        "id": "JIhSbDTspm1W",
        "colab": {
          "base_uri": "https://localhost:8080/",
          "height": 420
        },
        "outputId": "b9967131-97d0-4f9b-8112-c6759f0737ea"
      },
      "source": [
        "df_cluster = pd.DataFrame(data = data_scale[:,:], columns=['Umur', 'Kendaraan_Rusak', 'Kanal_Penjualan', 'Lama_Berlangganan'])\n",
        "df_cluster = df_cluster.set_index(data_idx)\n",
        "df_cluster"
      ],
      "execution_count": 37,
      "outputs": [
        {
          "output_type": "execute_result",
          "data": {
            "text/html": [
              "<div>\n",
              "<style scoped>\n",
              "    .dataframe tbody tr th:only-of-type {\n",
              "        vertical-align: middle;\n",
              "    }\n",
              "\n",
              "    .dataframe tbody tr th {\n",
              "        vertical-align: top;\n",
              "    }\n",
              "\n",
              "    .dataframe thead th {\n",
              "        text-align: right;\n",
              "    }\n",
              "</style>\n",
              "<table border=\"1\" class=\"dataframe\">\n",
              "  <thead>\n",
              "    <tr style=\"text-align: right;\">\n",
              "      <th></th>\n",
              "      <th>Umur</th>\n",
              "      <th>Kendaraan_Rusak</th>\n",
              "      <th>Kanal_Penjualan</th>\n",
              "      <th>Lama_Berlangganan</th>\n",
              "    </tr>\n",
              "  </thead>\n",
              "  <tbody>\n",
              "    <tr>\n",
              "      <th>0</th>\n",
              "      <td>0.153846</td>\n",
              "      <td>1.0</td>\n",
              "      <td>0.932099</td>\n",
              "      <td>0.301038</td>\n",
              "    </tr>\n",
              "    <tr>\n",
              "      <th>1</th>\n",
              "      <td>0.430769</td>\n",
              "      <td>0.0</td>\n",
              "      <td>0.172840</td>\n",
              "      <td>0.512111</td>\n",
              "    </tr>\n",
              "    <tr>\n",
              "      <th>3</th>\n",
              "      <td>0.584615</td>\n",
              "      <td>1.0</td>\n",
              "      <td>0.759259</td>\n",
              "      <td>0.183391</td>\n",
              "    </tr>\n",
              "    <tr>\n",
              "      <th>5</th>\n",
              "      <td>0.015385</td>\n",
              "      <td>1.0</td>\n",
              "      <td>0.932099</td>\n",
              "      <td>0.557093</td>\n",
              "    </tr>\n",
              "    <tr>\n",
              "      <th>8</th>\n",
              "      <td>0.000000</td>\n",
              "      <td>1.0</td>\n",
              "      <td>0.981481</td>\n",
              "      <td>0.072664</td>\n",
              "    </tr>\n",
              "    <tr>\n",
              "      <th>...</th>\n",
              "      <td>...</td>\n",
              "      <td>...</td>\n",
              "      <td>...</td>\n",
              "      <td>...</td>\n",
              "    </tr>\n",
              "    <tr>\n",
              "      <th>285826</th>\n",
              "      <td>0.046154</td>\n",
              "      <td>1.0</td>\n",
              "      <td>0.932099</td>\n",
              "      <td>0.716263</td>\n",
              "    </tr>\n",
              "    <tr>\n",
              "      <th>285827</th>\n",
              "      <td>0.015385</td>\n",
              "      <td>1.0</td>\n",
              "      <td>0.932099</td>\n",
              "      <td>0.138408</td>\n",
              "    </tr>\n",
              "    <tr>\n",
              "      <th>285828</th>\n",
              "      <td>0.046154</td>\n",
              "      <td>1.0</td>\n",
              "      <td>0.932099</td>\n",
              "      <td>0.747405</td>\n",
              "    </tr>\n",
              "    <tr>\n",
              "      <th>285829</th>\n",
              "      <td>0.738462</td>\n",
              "      <td>1.0</td>\n",
              "      <td>0.759259</td>\n",
              "      <td>0.899654</td>\n",
              "    </tr>\n",
              "    <tr>\n",
              "      <th>285830</th>\n",
              "      <td>0.384615</td>\n",
              "      <td>0.0</td>\n",
              "      <td>0.154321</td>\n",
              "      <td>0.117647</td>\n",
              "    </tr>\n",
              "  </tbody>\n",
              "</table>\n",
              "<p>180111 rows × 4 columns</p>\n",
              "</div>"
            ],
            "text/plain": [
              "            Umur  Kendaraan_Rusak  Kanal_Penjualan  Lama_Berlangganan\n",
              "0       0.153846              1.0         0.932099           0.301038\n",
              "1       0.430769              0.0         0.172840           0.512111\n",
              "3       0.584615              1.0         0.759259           0.183391\n",
              "5       0.015385              1.0         0.932099           0.557093\n",
              "8       0.000000              1.0         0.981481           0.072664\n",
              "...          ...              ...              ...                ...\n",
              "285826  0.046154              1.0         0.932099           0.716263\n",
              "285827  0.015385              1.0         0.932099           0.138408\n",
              "285828  0.046154              1.0         0.932099           0.747405\n",
              "285829  0.738462              1.0         0.759259           0.899654\n",
              "285830  0.384615              0.0         0.154321           0.117647\n",
              "\n",
              "[180111 rows x 4 columns]"
            ]
          },
          "metadata": {},
          "execution_count": 37
        }
      ]
    },
    {
      "cell_type": "code",
      "metadata": {
        "id": "AMWdQHt9px1I",
        "colab": {
          "base_uri": "https://localhost:8080/",
          "height": 420
        },
        "outputId": "bb946a86-17b3-4b85-eb59-a0247243a7d3"
      },
      "source": [
        "pca = PCA(n_components=2) #Menggunakan method pca untuk merubah data menjadi 2 dimensi\n",
        "principal = pca.fit_transform(df_cluster)\n",
        "df_princ = pd.DataFrame(data=principal, columns=['pca1','pca2'])\n",
        "df_princ"
      ],
      "execution_count": 38,
      "outputs": [
        {
          "output_type": "execute_result",
          "data": {
            "text/html": [
              "<div>\n",
              "<style scoped>\n",
              "    .dataframe tbody tr th:only-of-type {\n",
              "        vertical-align: middle;\n",
              "    }\n",
              "\n",
              "    .dataframe tbody tr th {\n",
              "        vertical-align: top;\n",
              "    }\n",
              "\n",
              "    .dataframe thead th {\n",
              "        text-align: right;\n",
              "    }\n",
              "</style>\n",
              "<table border=\"1\" class=\"dataframe\">\n",
              "  <thead>\n",
              "    <tr style=\"text-align: right;\">\n",
              "      <th></th>\n",
              "      <th>pca1</th>\n",
              "      <th>pca2</th>\n",
              "    </tr>\n",
              "  </thead>\n",
              "  <tbody>\n",
              "    <tr>\n",
              "      <th>0</th>\n",
              "      <td>-0.569861</td>\n",
              "      <td>-0.086912</td>\n",
              "    </tr>\n",
              "    <tr>\n",
              "      <th>1</th>\n",
              "      <td>0.639698</td>\n",
              "      <td>0.315400</td>\n",
              "    </tr>\n",
              "    <tr>\n",
              "      <th>2</th>\n",
              "      <td>-0.432023</td>\n",
              "      <td>0.243086</td>\n",
              "    </tr>\n",
              "    <tr>\n",
              "      <th>3</th>\n",
              "      <td>-0.598647</td>\n",
              "      <td>-0.147085</td>\n",
              "    </tr>\n",
              "    <tr>\n",
              "      <th>4</th>\n",
              "      <td>-0.615107</td>\n",
              "      <td>-0.194108</td>\n",
              "    </tr>\n",
              "    <tr>\n",
              "      <th>...</th>\n",
              "      <td>...</td>\n",
              "      <td>...</td>\n",
              "    </tr>\n",
              "    <tr>\n",
              "      <th>180106</th>\n",
              "      <td>-0.592612</td>\n",
              "      <td>-0.134026</td>\n",
              "    </tr>\n",
              "    <tr>\n",
              "      <th>180107</th>\n",
              "      <td>-0.597947</td>\n",
              "      <td>-0.146480</td>\n",
              "    </tr>\n",
              "    <tr>\n",
              "      <th>180108</th>\n",
              "      <td>-0.592664</td>\n",
              "      <td>-0.134071</td>\n",
              "    </tr>\n",
              "    <tr>\n",
              "      <th>180109</th>\n",
              "      <td>-0.401713</td>\n",
              "      <td>0.308499</td>\n",
              "    </tr>\n",
              "    <tr>\n",
              "      <th>180110</th>\n",
              "      <td>0.636201</td>\n",
              "      <td>0.311440</td>\n",
              "    </tr>\n",
              "  </tbody>\n",
              "</table>\n",
              "<p>180111 rows × 2 columns</p>\n",
              "</div>"
            ],
            "text/plain": [
              "            pca1      pca2\n",
              "0      -0.569861 -0.086912\n",
              "1       0.639698  0.315400\n",
              "2      -0.432023  0.243086\n",
              "3      -0.598647 -0.147085\n",
              "4      -0.615107 -0.194108\n",
              "...          ...       ...\n",
              "180106 -0.592612 -0.134026\n",
              "180107 -0.597947 -0.146480\n",
              "180108 -0.592664 -0.134071\n",
              "180109 -0.401713  0.308499\n",
              "180110  0.636201  0.311440\n",
              "\n",
              "[180111 rows x 2 columns]"
            ]
          },
          "metadata": {},
          "execution_count": 38
        }
      ]
    },
    {
      "cell_type": "code",
      "metadata": {
        "id": "MrBRsTecqBaQ",
        "colab": {
          "base_uri": "https://localhost:8080/",
          "height": 110
        },
        "outputId": "f1fb0101-fff2-41bf-e38c-c8067cf2d59e"
      },
      "source": [
        "df_princ.describe().transpose()"
      ],
      "execution_count": 39,
      "outputs": [
        {
          "output_type": "execute_result",
          "data": {
            "text/html": [
              "<div>\n",
              "<style scoped>\n",
              "    .dataframe tbody tr th:only-of-type {\n",
              "        vertical-align: middle;\n",
              "    }\n",
              "\n",
              "    .dataframe tbody tr th {\n",
              "        vertical-align: top;\n",
              "    }\n",
              "\n",
              "    .dataframe thead th {\n",
              "        text-align: right;\n",
              "    }\n",
              "</style>\n",
              "<table border=\"1\" class=\"dataframe\">\n",
              "  <thead>\n",
              "    <tr style=\"text-align: right;\">\n",
              "      <th></th>\n",
              "      <th>count</th>\n",
              "      <th>mean</th>\n",
              "      <th>std</th>\n",
              "      <th>min</th>\n",
              "      <th>25%</th>\n",
              "      <th>50%</th>\n",
              "      <th>75%</th>\n",
              "      <th>max</th>\n",
              "    </tr>\n",
              "  </thead>\n",
              "  <tbody>\n",
              "    <tr>\n",
              "      <th>pca1</th>\n",
              "      <td>180111.0</td>\n",
              "      <td>6.660993e-17</td>\n",
              "      <td>0.518269</td>\n",
              "      <td>-0.621792</td>\n",
              "      <td>-0.578258</td>\n",
              "      <td>0.320268</td>\n",
              "      <td>0.468622</td>\n",
              "      <td>0.785851</td>\n",
              "    </tr>\n",
              "    <tr>\n",
              "      <th>pca2</th>\n",
              "      <td>180111.0</td>\n",
              "      <td>1.546466e-16</td>\n",
              "      <td>0.345918</td>\n",
              "      <td>-0.559336</td>\n",
              "      <td>-0.192944</td>\n",
              "      <td>-0.114391</td>\n",
              "      <td>0.279084</td>\n",
              "      <td>1.007321</td>\n",
              "    </tr>\n",
              "  </tbody>\n",
              "</table>\n",
              "</div>"
            ],
            "text/plain": [
              "         count          mean       std  ...       50%       75%       max\n",
              "pca1  180111.0  6.660993e-17  0.518269  ...  0.320268  0.468622  0.785851\n",
              "pca2  180111.0  1.546466e-16  0.345918  ... -0.114391  0.279084  1.007321\n",
              "\n",
              "[2 rows x 8 columns]"
            ]
          },
          "metadata": {},
          "execution_count": 39
        }
      ]
    },
    {
      "cell_type": "markdown",
      "metadata": {
        "id": "VtRogLeGqT2d"
      },
      "source": [
        "Clustering (K-Mean)\n",
        "\n",
        "---\n",
        "\n"
      ]
    },
    {
      "cell_type": "code",
      "metadata": {
        "id": "XXWyoRa1qRFq"
      },
      "source": [
        "# Model Clustering Menggunakan KMeans\n",
        "\n",
        "class K_Means:\n",
        "\n",
        "    def __init__(self, n_clusters, max_iter=100, random_state=123):\n",
        "        self.n_clusters = n_clusters\n",
        "        self.max_iter = max_iter\n",
        "        self.random_state = random_state\n",
        "\n",
        "    def init_centroids(self, X):                                                 # Inisialisasi awal centroid\n",
        "        np.random.RandomState(self.random_state)                                 \n",
        "        rand = np.random.permutation(X.shape[0])\n",
        "        centroids = X[rand[:self.n_clusters]]\n",
        "        return centroids\n",
        "\n",
        "    def compute_centroids(self, X, labels):                                      # Mengacak letak centroid di satu cluster\n",
        "        centroids = np.zeros((self.n_clusters, X.shape[1]))\n",
        "        for k in range(self.n_clusters):\n",
        "            centroids[k, :] = np.mean(X[labels == k, :], axis=0)\n",
        "        return centroids\n",
        "\n",
        "    def compute_distance(self, X, centroids):                                    # Menghitung jarak antar data ke centroid\n",
        "        distance = np.zeros((X.shape[0], self.n_clusters))\n",
        "        for k in range(self.n_clusters):\n",
        "            row_norm = norm(X - centroids[k, :], axis=1)\n",
        "            distance[:, k] = np.square(row_norm)\n",
        "        return distance\n",
        "\n",
        "    def close_cluster(self, distance):                                           # Mendapatkan nilai cluster terdekat berdasarkan jarak\n",
        "        return np.argmin(distance, axis=1)\n",
        "\n",
        "    def compute_sse(self, X, labels, centroids):                                 # Menghitung nilai sum squered error untuk menghitung jarak centroid antar cluster\n",
        "        distance = np.zeros(X.shape[0])\n",
        "        for k in range(self.n_clusters):\n",
        "            distance[labels == k] = norm(X[labels == k] - centroids[k], axis=1)\n",
        "        return np.sum(np.square(distance))\n",
        "    \n",
        "    def fit(self, X):                                                            # generate Model KMeans\n",
        "        self.centroids = self.init_centroids(X)\n",
        "        initial = np.random.permutation(X.shape[0])[:self.n_clusters]\n",
        "        self.cluster_centers = X[initial]\n",
        "        for i in range(self.max_iter):\n",
        "            old_centroids = self.centroids\n",
        "            distance = self.compute_distance(X, old_centroids)\n",
        "            self.labels = self.close_cluster(distance)\n",
        "            self.centroids = self.compute_centroids(X, self.labels)\n",
        "            indices = [[i for i, l in enumerate(self.labels) if l == j]\n",
        "                        for j in range(self.n_clusters)]\n",
        "            X_by_cluster = [X[i] for i in indices]\n",
        "            self.cluster_centers = [c.sum(axis=0) / len(c) for c in X_by_cluster]\n",
        "            if np.all(old_centroids == self.centroids):\n",
        "                break\n",
        "        self.error = self.compute_sse(X, self.labels, self.centroids)\n",
        "        self.inertia = sum(((self.cluster_centers[l] - x)**2).sum()\n",
        "                            for x, l in zip(X, self.labels))\n",
        "        return self\n",
        "    \n",
        "    def predict(self, X):\n",
        "        distance = self.compute_distance(X, old_centroids)\n",
        "        return self.close_cluster(distance)"
      ],
      "execution_count": 40,
      "outputs": []
    },
    {
      "cell_type": "code",
      "metadata": {
        "id": "8WZcmVrCqmMD",
        "colab": {
          "base_uri": "https://localhost:8080/",
          "height": 637
        },
        "outputId": "5015fe87-0c1c-4be5-9266-a4cc18cd86f3"
      },
      "source": [
        "# Mengubah dataframe ke array\n",
        "X = np.array(df_princ)\n",
        "\n",
        "K = 3\n",
        "km = K_Means(n_clusters=K, max_iter=100)\n",
        "km.fit(X)\n",
        "centroids = km.centroids\n",
        "\n",
        "colors = ['green', 'blue', 'yellow', 'purple', 'grey']\n",
        "\n",
        "# Plot Cluster\n",
        "fig, ax = plt.subplots(figsize=(15, 10))\n",
        "for i in range(K):\n",
        "    \n",
        "    plt.scatter(X[km.labels == i, 0], X[km.labels == i, 1],\n",
        "                c=colors[i], label=('cluster '+str(i)))\n",
        "    \n",
        "\n",
        "plt.scatter(centroids[:, 0], centroids[:, 1], marker='o', s=300,\n",
        "                c='r', label='centroid')\n",
        "\n",
        "\n",
        "\n",
        "plt.legend()\n",
        "plt.xlabel(df_princ.columns[0])\n",
        "plt.ylabel(df_princ.columns[1])\n",
        "plt.title('Cluster data', fontweight='bold')"
      ],
      "execution_count": 46,
      "outputs": [
        {
          "output_type": "execute_result",
          "data": {
            "text/plain": [
              "Text(0.5, 1.0, 'Cluster data')"
            ]
          },
          "metadata": {},
          "execution_count": 46
        },
        {
          "output_type": "display_data",
          "data": {
            "image/png": "[encoded data removed]",
            "text/plain": [
              "<Figure size 1080x720 with 1 Axes>"
            ]
          },
          "metadata": {
            "needs_background": "light"
          }
        }
      ]
    },
    {
      "cell_type": "code",
      "metadata": {
        "id": "dlFZNKWAqiFR",
        "colab": {
          "base_uri": "https://localhost:8080/",
          "height": 404
        },
        "outputId": "716cc132-2578-40b6-fad6-1999770b9309"
      },
      "source": [
        "wcss = []\n",
        "K = list(range(1,10))\n",
        "for k in K:\n",
        "    kmeans = K_Means(n_clusters = k)\n",
        "    kmeans.fit(X)\n",
        "    wcss.append(kmeans.inertia)\n",
        "plt.figure(figsize=(10,5))\n",
        "sns.lineplot(K, wcss, marker='o', color='red')\n",
        "plt.xlabel('k')\n",
        "plt.ylabel('WCSS')\n",
        "plt.title('Elbow Method For Optimal k')\n",
        "plt.show()"
      ],
      "execution_count": 47,
      "outputs": [
        {
          "output_type": "stream",
          "name": "stderr",
          "text": [
            "/usr/local/lib/python3.7/dist-packages/seaborn/_decorators.py:43: FutureWarning: Pass the following variables as keyword args: x, y. From version 0.12, the only valid positional argument will be `data`, and passing other arguments without an explicit keyword will result in an error or misinterpretation.\n",
            "  FutureWarning\n"
          ]
        },
        {
          "output_type": "display_data",
          "data": {
            "image/png": "[encoded data removed]",
            "text/plain": [
              "<Figure size 720x360 with 1 Axes>"
            ]
          },
          "metadata": {
            "needs_background": "light"
          }
        }
      ]
    },
    {
      "cell_type": "code",
      "metadata": {
        "id": "UsG2_1fNq14o"
      },
      "source": [
        "#algo untuk mencari nilai k terbaik\n",
        "sse = []\n",
        "K = range(1,10)\n",
        "for k in K:\n",
        "    kmeanModel = K_Means(n_clusters=k)\n",
        "    sse.append(kmeanModel.fit(z))"
      ],
      "execution_count": 49,
      "outputs": []
    },
    {
      "cell_type": "code",
      "metadata": {
        "id": "AEWkaf7xrZnF",
        "colab": {
          "base_uri": "https://localhost:8080/"
        },
        "outputId": "c405481c-c1f7-4c52-c8f5-cfa8c74279c9"
      },
      "source": [
        "\n",
        "\n",
        "print(silhouette_score(z, labels=km.labels))"
      ],
      "execution_count": 51,
      "outputs": [
        {
          "output_type": "stream",
          "name": "stdout",
          "text": [
            "0.7065991635666726\n"
          ]
        }
      ]
    },
    {
      "cell_type": "code",
      "metadata": {
        "id": "858qSy5hrj3M"
      },
      "source": [
        "df_train.to_csv('1301208552_RichoFedhiaS.csv', index=False)"
      ],
      "execution_count": 52,
      "outputs": []
    }
  ]
}