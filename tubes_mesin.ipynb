{
  "nbformat": 4,
  "nbformat_minor": 0,
  "metadata": {
    "colab": {
      "name": "tubes mesin.ipynb",
      "provenance": [],
      "collapsed_sections": [],
      "authorship_tag": "ABX9TyNoOjPcQoJPepG/G0eS3joE",
      "include_colab_link": true
    },
    "kernelspec": {
      "name": "python3",
      "display_name": "Python 3"
    },
    "language_info": {
      "name": "python"
    }
  },
  "cells": [
    {
      "cell_type": "markdown",
      "metadata": {
        "id": "view-in-github",
        "colab_type": "text"
      },
      "source": [
        "<a href=\"https://colab.research.google.com/github/Richofedhias/Tubes-Mesin/blob/main/tubes_mesin.ipynb\" target=\"_parent\"><img src=\"https://colab.research.google.com/assets/colab-badge.svg\" alt=\"Open In Colab\"/></a>"
      ]
    },
    {
      "cell_type": "code",
      "metadata": {
        "colab": {
          "base_uri": "https://localhost:8080/"
        },
        "id": "MAAUUtMSp7bh",
        "outputId": "8f543676-aa35-4c08-fd42-3e389ed67b7c"
      },
      "source": [
        "from google.colab import drive\n",
        "drive.mount('/content/gdrive')"
      ],
      "execution_count": 1,
      "outputs": [
        {
          "output_type": "stream",
          "name": "stdout",
          "text": [
            "Mounted at /content/gdrive\n"
          ]
        }
      ]
    },
    {
      "cell_type": "code",
      "metadata": {
        "id": "Ib14cL8lqx4b"
      },
      "source": [
        "import pandas as pd\n",
        "df_train=pd.read_csv('gdrive/My Drive/Tubes mesin/kendaraan_train.csv')\n",
        "df_test=pd.read_csv('gdrive/My Drive/Tubes mesin/kendaraan_test.csv')"
      ],
      "execution_count": 2,
      "outputs": []
    },
    {
      "cell_type": "code",
      "metadata": {
        "colab": {
          "base_uri": "https://localhost:8080/",
          "height": 224
        },
        "id": "os0DRowbsP-b",
        "outputId": "0520b1f6-e627-4d57-e49a-dd2ef313ecff"
      },
      "source": [
        "df_train.head()"
      ],
      "execution_count": 3,
      "outputs": [
        {
          "output_type": "execute_result",
          "data": {
            "text/html": [
              "<div>\n",
              "<style scoped>\n",
              "    .dataframe tbody tr th:only-of-type {\n",
              "        vertical-align: middle;\n",
              "    }\n",
              "\n",
              "    .dataframe tbody tr th {\n",
              "        vertical-align: top;\n",
              "    }\n",
              "\n",
              "    .dataframe thead th {\n",
              "        text-align: right;\n",
              "    }\n",
              "</style>\n",
              "<table border=\"1\" class=\"dataframe\">\n",
              "  <thead>\n",
              "    <tr style=\"text-align: right;\">\n",
              "      <th></th>\n",
              "      <th>id</th>\n",
              "      <th>Jenis_Kelamin</th>\n",
              "      <th>Umur</th>\n",
              "      <th>SIM</th>\n",
              "      <th>Kode_Daerah</th>\n",
              "      <th>Sudah_Asuransi</th>\n",
              "      <th>Umur_Kendaraan</th>\n",
              "      <th>Kendaraan_Rusak</th>\n",
              "      <th>Premi</th>\n",
              "      <th>Kanal_Penjualan</th>\n",
              "      <th>Lama_Berlangganan</th>\n",
              "      <th>Tertarik</th>\n",
              "    </tr>\n",
              "  </thead>\n",
              "  <tbody>\n",
              "    <tr>\n",
              "      <th>0</th>\n",
              "      <td>1</td>\n",
              "      <td>Wanita</td>\n",
              "      <td>30.0</td>\n",
              "      <td>1.0</td>\n",
              "      <td>33.0</td>\n",
              "      <td>1.0</td>\n",
              "      <td>&lt; 1 Tahun</td>\n",
              "      <td>Tidak</td>\n",
              "      <td>28029.0</td>\n",
              "      <td>152.0</td>\n",
              "      <td>97.0</td>\n",
              "      <td>0</td>\n",
              "    </tr>\n",
              "    <tr>\n",
              "      <th>1</th>\n",
              "      <td>2</td>\n",
              "      <td>Pria</td>\n",
              "      <td>48.0</td>\n",
              "      <td>1.0</td>\n",
              "      <td>39.0</td>\n",
              "      <td>0.0</td>\n",
              "      <td>&gt; 2 Tahun</td>\n",
              "      <td>Pernah</td>\n",
              "      <td>25800.0</td>\n",
              "      <td>29.0</td>\n",
              "      <td>158.0</td>\n",
              "      <td>0</td>\n",
              "    </tr>\n",
              "    <tr>\n",
              "      <th>2</th>\n",
              "      <td>3</td>\n",
              "      <td>NaN</td>\n",
              "      <td>21.0</td>\n",
              "      <td>1.0</td>\n",
              "      <td>46.0</td>\n",
              "      <td>1.0</td>\n",
              "      <td>&lt; 1 Tahun</td>\n",
              "      <td>Tidak</td>\n",
              "      <td>32733.0</td>\n",
              "      <td>160.0</td>\n",
              "      <td>119.0</td>\n",
              "      <td>0</td>\n",
              "    </tr>\n",
              "    <tr>\n",
              "      <th>3</th>\n",
              "      <td>4</td>\n",
              "      <td>Wanita</td>\n",
              "      <td>58.0</td>\n",
              "      <td>1.0</td>\n",
              "      <td>48.0</td>\n",
              "      <td>0.0</td>\n",
              "      <td>1-2 Tahun</td>\n",
              "      <td>Tidak</td>\n",
              "      <td>2630.0</td>\n",
              "      <td>124.0</td>\n",
              "      <td>63.0</td>\n",
              "      <td>0</td>\n",
              "    </tr>\n",
              "    <tr>\n",
              "      <th>4</th>\n",
              "      <td>5</td>\n",
              "      <td>Pria</td>\n",
              "      <td>50.0</td>\n",
              "      <td>1.0</td>\n",
              "      <td>35.0</td>\n",
              "      <td>0.0</td>\n",
              "      <td>&gt; 2 Tahun</td>\n",
              "      <td>NaN</td>\n",
              "      <td>34857.0</td>\n",
              "      <td>88.0</td>\n",
              "      <td>194.0</td>\n",
              "      <td>0</td>\n",
              "    </tr>\n",
              "  </tbody>\n",
              "</table>\n",
              "</div>"
            ],
            "text/plain": [
              "   id Jenis_Kelamin  Umur  ...  Kanal_Penjualan  Lama_Berlangganan  Tertarik\n",
              "0   1        Wanita  30.0  ...            152.0               97.0         0\n",
              "1   2          Pria  48.0  ...             29.0              158.0         0\n",
              "2   3           NaN  21.0  ...            160.0              119.0         0\n",
              "3   4        Wanita  58.0  ...            124.0               63.0         0\n",
              "4   5          Pria  50.0  ...             88.0              194.0         0\n",
              "\n",
              "[5 rows x 12 columns]"
            ]
          },
          "metadata": {},
          "execution_count": 3
        }
      ]
    },
    {
      "cell_type": "code",
      "metadata": {
        "colab": {
          "base_uri": "https://localhost:8080/",
          "height": 224
        },
        "id": "W294lixetNVS",
        "outputId": "505b6654-c1ae-4cfd-aa7b-0dbabe0914b1"
      },
      "source": [
        "df_test.head()"
      ],
      "execution_count": 4,
      "outputs": [
        {
          "output_type": "execute_result",
          "data": {
            "text/html": [
              "<div>\n",
              "<style scoped>\n",
              "    .dataframe tbody tr th:only-of-type {\n",
              "        vertical-align: middle;\n",
              "    }\n",
              "\n",
              "    .dataframe tbody tr th {\n",
              "        vertical-align: top;\n",
              "    }\n",
              "\n",
              "    .dataframe thead th {\n",
              "        text-align: right;\n",
              "    }\n",
              "</style>\n",
              "<table border=\"1\" class=\"dataframe\">\n",
              "  <thead>\n",
              "    <tr style=\"text-align: right;\">\n",
              "      <th></th>\n",
              "      <th>Jenis_Kelamin</th>\n",
              "      <th>Umur</th>\n",
              "      <th>SIM</th>\n",
              "      <th>Kode_Daerah</th>\n",
              "      <th>Sudah_Asuransi</th>\n",
              "      <th>Umur_Kendaraan</th>\n",
              "      <th>Kendaraan_Rusak</th>\n",
              "      <th>Premi</th>\n",
              "      <th>Kanal_Penjualan</th>\n",
              "      <th>Lama_Berlangganan</th>\n",
              "      <th>Tertarik</th>\n",
              "    </tr>\n",
              "  </thead>\n",
              "  <tbody>\n",
              "    <tr>\n",
              "      <th>0</th>\n",
              "      <td>Wanita</td>\n",
              "      <td>49</td>\n",
              "      <td>1</td>\n",
              "      <td>8</td>\n",
              "      <td>0</td>\n",
              "      <td>1-2 Tahun</td>\n",
              "      <td>Pernah</td>\n",
              "      <td>46963</td>\n",
              "      <td>26</td>\n",
              "      <td>145</td>\n",
              "      <td>0</td>\n",
              "    </tr>\n",
              "    <tr>\n",
              "      <th>1</th>\n",
              "      <td>Pria</td>\n",
              "      <td>22</td>\n",
              "      <td>1</td>\n",
              "      <td>47</td>\n",
              "      <td>1</td>\n",
              "      <td>&lt; 1 Tahun</td>\n",
              "      <td>Tidak</td>\n",
              "      <td>39624</td>\n",
              "      <td>152</td>\n",
              "      <td>241</td>\n",
              "      <td>0</td>\n",
              "    </tr>\n",
              "    <tr>\n",
              "      <th>2</th>\n",
              "      <td>Pria</td>\n",
              "      <td>24</td>\n",
              "      <td>1</td>\n",
              "      <td>28</td>\n",
              "      <td>1</td>\n",
              "      <td>&lt; 1 Tahun</td>\n",
              "      <td>Tidak</td>\n",
              "      <td>110479</td>\n",
              "      <td>152</td>\n",
              "      <td>62</td>\n",
              "      <td>0</td>\n",
              "    </tr>\n",
              "    <tr>\n",
              "      <th>3</th>\n",
              "      <td>Pria</td>\n",
              "      <td>46</td>\n",
              "      <td>1</td>\n",
              "      <td>8</td>\n",
              "      <td>1</td>\n",
              "      <td>1-2 Tahun</td>\n",
              "      <td>Tidak</td>\n",
              "      <td>36266</td>\n",
              "      <td>124</td>\n",
              "      <td>34</td>\n",
              "      <td>0</td>\n",
              "    </tr>\n",
              "    <tr>\n",
              "      <th>4</th>\n",
              "      <td>Pria</td>\n",
              "      <td>35</td>\n",
              "      <td>1</td>\n",
              "      <td>23</td>\n",
              "      <td>0</td>\n",
              "      <td>1-2 Tahun</td>\n",
              "      <td>Pernah</td>\n",
              "      <td>26963</td>\n",
              "      <td>152</td>\n",
              "      <td>229</td>\n",
              "      <td>0</td>\n",
              "    </tr>\n",
              "  </tbody>\n",
              "</table>\n",
              "</div>"
            ],
            "text/plain": [
              "  Jenis_Kelamin  Umur  SIM  ...  Kanal_Penjualan  Lama_Berlangganan Tertarik\n",
              "0        Wanita    49    1  ...               26                145        0\n",
              "1          Pria    22    1  ...              152                241        0\n",
              "2          Pria    24    1  ...              152                 62        0\n",
              "3          Pria    46    1  ...              124                 34        0\n",
              "4          Pria    35    1  ...              152                229        0\n",
              "\n",
              "[5 rows x 11 columns]"
            ]
          },
          "metadata": {},
          "execution_count": 4
        }
      ]
    },
    {
      "cell_type": "code",
      "metadata": {
        "colab": {
          "base_uri": "https://localhost:8080/"
        },
        "id": "GBfUEc09tSK8",
        "outputId": "228556f3-2db0-4d1c-cc1b-d3dbe6d38449"
      },
      "source": [
        "df_train.info()"
      ],
      "execution_count": 5,
      "outputs": [
        {
          "output_type": "stream",
          "name": "stdout",
          "text": [
            "<class 'pandas.core.frame.DataFrame'>\n",
            "RangeIndex: 285831 entries, 0 to 285830\n",
            "Data columns (total 12 columns):\n",
            " #   Column             Non-Null Count   Dtype  \n",
            "---  ------             --------------   -----  \n",
            " 0   id                 285831 non-null  int64  \n",
            " 1   Jenis_Kelamin      271391 non-null  object \n",
            " 2   Umur               271617 non-null  float64\n",
            " 3   SIM                271427 non-null  float64\n",
            " 4   Kode_Daerah        271525 non-null  float64\n",
            " 5   Sudah_Asuransi     271602 non-null  float64\n",
            " 6   Umur_Kendaraan     271556 non-null  object \n",
            " 7   Kendaraan_Rusak    271643 non-null  object \n",
            " 8   Premi              271262 non-null  float64\n",
            " 9   Kanal_Penjualan    271532 non-null  float64\n",
            " 10  Lama_Berlangganan  271839 non-null  float64\n",
            " 11  Tertarik           285831 non-null  int64  \n",
            "dtypes: float64(7), int64(2), object(3)\n",
            "memory usage: 26.2+ MB\n"
          ]
        }
      ]
    },
    {
      "cell_type": "code",
      "metadata": {
        "colab": {
          "base_uri": "https://localhost:8080/"
        },
        "id": "VqcNTsSRs4wI",
        "outputId": "46c5dbbf-bf36-44d1-d906-e678901f6ff4"
      },
      "source": [
        "df_test.info()"
      ],
      "execution_count": 6,
      "outputs": [
        {
          "output_type": "stream",
          "name": "stdout",
          "text": [
            "<class 'pandas.core.frame.DataFrame'>\n",
            "RangeIndex: 47639 entries, 0 to 47638\n",
            "Data columns (total 11 columns):\n",
            " #   Column             Non-Null Count  Dtype \n",
            "---  ------             --------------  ----- \n",
            " 0   Jenis_Kelamin      47639 non-null  object\n",
            " 1   Umur               47639 non-null  int64 \n",
            " 2   SIM                47639 non-null  int64 \n",
            " 3   Kode_Daerah        47639 non-null  int64 \n",
            " 4   Sudah_Asuransi     47639 non-null  int64 \n",
            " 5   Umur_Kendaraan     47639 non-null  object\n",
            " 6   Kendaraan_Rusak    47639 non-null  object\n",
            " 7   Premi              47639 non-null  int64 \n",
            " 8   Kanal_Penjualan    47639 non-null  int64 \n",
            " 9   Lama_Berlangganan  47639 non-null  int64 \n",
            " 10  Tertarik           47639 non-null  int64 \n",
            "dtypes: int64(8), object(3)\n",
            "memory usage: 4.0+ MB\n"
          ]
        }
      ]
    },
    {
      "cell_type": "markdown",
      "metadata": {
        "id": "dNKHKg0PupNb"
      },
      "source": [
        "Cek Missing Value"
      ]
    },
    {
      "cell_type": "code",
      "metadata": {
        "colab": {
          "base_uri": "https://localhost:8080/"
        },
        "id": "Q3dYrfL_s-y-",
        "outputId": "1921ae36-20a0-4383-9b71-3a676b87eb7b"
      },
      "source": [
        "df_train.isnull().sum()"
      ],
      "execution_count": 7,
      "outputs": [
        {
          "output_type": "execute_result",
          "data": {
            "text/plain": [
              "id                       0\n",
              "Jenis_Kelamin        14440\n",
              "Umur                 14214\n",
              "SIM                  14404\n",
              "Kode_Daerah          14306\n",
              "Sudah_Asuransi       14229\n",
              "Umur_Kendaraan       14275\n",
              "Kendaraan_Rusak      14188\n",
              "Premi                14569\n",
              "Kanal_Penjualan      14299\n",
              "Lama_Berlangganan    13992\n",
              "Tertarik                 0\n",
              "dtype: int64"
            ]
          },
          "metadata": {},
          "execution_count": 7
        }
      ]
    },
    {
      "cell_type": "code",
      "metadata": {
        "colab": {
          "base_uri": "https://localhost:8080/"
        },
        "id": "NobGthb4ulIu",
        "outputId": "cb0c06ee-66ed-4849-e55c-e249b6a164d4"
      },
      "source": [
        "df_test.isnull().sum()"
      ],
      "execution_count": 8,
      "outputs": [
        {
          "output_type": "execute_result",
          "data": {
            "text/plain": [
              "Jenis_Kelamin        0\n",
              "Umur                 0\n",
              "SIM                  0\n",
              "Kode_Daerah          0\n",
              "Sudah_Asuransi       0\n",
              "Umur_Kendaraan       0\n",
              "Kendaraan_Rusak      0\n",
              "Premi                0\n",
              "Kanal_Penjualan      0\n",
              "Lama_Berlangganan    0\n",
              "Tertarik             0\n",
              "dtype: int64"
            ]
          },
          "metadata": {},
          "execution_count": 8
        }
      ]
    },
    {
      "cell_type": "code",
      "metadata": {
        "colab": {
          "base_uri": "https://localhost:8080/",
          "height": 348
        },
        "id": "Dppr47Cqu3_Y",
        "outputId": "068c99f5-8bb2-42eb-c220-d62581acc1ac"
      },
      "source": [
        "df_train.corr(method='spearman')"
      ],
      "execution_count": 9,
      "outputs": [
        {
          "output_type": "execute_result",
          "data": {
            "text/html": [
              "<div>\n",
              "<style scoped>\n",
              "    .dataframe tbody tr th:only-of-type {\n",
              "        vertical-align: middle;\n",
              "    }\n",
              "\n",
              "    .dataframe tbody tr th {\n",
              "        vertical-align: top;\n",
              "    }\n",
              "\n",
              "    .dataframe thead th {\n",
              "        text-align: right;\n",
              "    }\n",
              "</style>\n",
              "<table border=\"1\" class=\"dataframe\">\n",
              "  <thead>\n",
              "    <tr style=\"text-align: right;\">\n",
              "      <th></th>\n",
              "      <th>id</th>\n",
              "      <th>Umur</th>\n",
              "      <th>SIM</th>\n",
              "      <th>Kode_Daerah</th>\n",
              "      <th>Sudah_Asuransi</th>\n",
              "      <th>Premi</th>\n",
              "      <th>Kanal_Penjualan</th>\n",
              "      <th>Lama_Berlangganan</th>\n",
              "      <th>Tertarik</th>\n",
              "    </tr>\n",
              "  </thead>\n",
              "  <tbody>\n",
              "    <tr>\n",
              "      <th>id</th>\n",
              "      <td>1.000000</td>\n",
              "      <td>0.001517</td>\n",
              "      <td>-0.002658</td>\n",
              "      <td>0.001951</td>\n",
              "      <td>-0.003043</td>\n",
              "      <td>0.002457</td>\n",
              "      <td>-0.000992</td>\n",
              "      <td>0.000909</td>\n",
              "      <td>0.000972</td>\n",
              "    </tr>\n",
              "    <tr>\n",
              "      <th>Umur</th>\n",
              "      <td>0.001517</td>\n",
              "      <td>1.000000</td>\n",
              "      <td>-0.064608</td>\n",
              "      <td>0.013787</td>\n",
              "      <td>-0.268518</td>\n",
              "      <td>0.096842</td>\n",
              "      <td>-0.648150</td>\n",
              "      <td>-0.000675</td>\n",
              "      <td>0.143159</td>\n",
              "    </tr>\n",
              "    <tr>\n",
              "      <th>SIM</th>\n",
              "      <td>-0.002658</td>\n",
              "      <td>-0.064608</td>\n",
              "      <td>1.000000</td>\n",
              "      <td>-0.001548</td>\n",
              "      <td>0.016073</td>\n",
              "      <td>-0.013088</td>\n",
              "      <td>0.045165</td>\n",
              "      <td>-0.001268</td>\n",
              "      <td>0.009588</td>\n",
              "    </tr>\n",
              "    <tr>\n",
              "      <th>Kode_Daerah</th>\n",
              "      <td>0.001951</td>\n",
              "      <td>0.013787</td>\n",
              "      <td>-0.001548</td>\n",
              "      <td>1.000000</td>\n",
              "      <td>-0.003801</td>\n",
              "      <td>-0.037825</td>\n",
              "      <td>-0.015110</td>\n",
              "      <td>-0.003703</td>\n",
              "      <td>0.000540</td>\n",
              "    </tr>\n",
              "    <tr>\n",
              "      <th>Sudah_Asuransi</th>\n",
              "      <td>-0.003043</td>\n",
              "      <td>-0.268518</td>\n",
              "      <td>0.016073</td>\n",
              "      <td>-0.003801</td>\n",
              "      <td>1.000000</td>\n",
              "      <td>-0.028814</td>\n",
              "      <td>0.210884</td>\n",
              "      <td>0.002756</td>\n",
              "      <td>-0.340917</td>\n",
              "    </tr>\n",
              "    <tr>\n",
              "      <th>Premi</th>\n",
              "      <td>0.002457</td>\n",
              "      <td>0.096842</td>\n",
              "      <td>-0.013088</td>\n",
              "      <td>-0.037825</td>\n",
              "      <td>-0.028814</td>\n",
              "      <td>1.000000</td>\n",
              "      <td>-0.195677</td>\n",
              "      <td>0.000452</td>\n",
              "      <td>0.035268</td>\n",
              "    </tr>\n",
              "    <tr>\n",
              "      <th>Kanal_Penjualan</th>\n",
              "      <td>-0.000992</td>\n",
              "      <td>-0.648150</td>\n",
              "      <td>0.045165</td>\n",
              "      <td>-0.015110</td>\n",
              "      <td>0.210884</td>\n",
              "      <td>-0.195677</td>\n",
              "      <td>1.000000</td>\n",
              "      <td>-0.000083</td>\n",
              "      <td>-0.139477</td>\n",
              "    </tr>\n",
              "    <tr>\n",
              "      <th>Lama_Berlangganan</th>\n",
              "      <td>0.000909</td>\n",
              "      <td>-0.000675</td>\n",
              "      <td>-0.001268</td>\n",
              "      <td>-0.003703</td>\n",
              "      <td>0.002756</td>\n",
              "      <td>0.000452</td>\n",
              "      <td>-0.000083</td>\n",
              "      <td>1.000000</td>\n",
              "      <td>-0.002224</td>\n",
              "    </tr>\n",
              "    <tr>\n",
              "      <th>Tertarik</th>\n",
              "      <td>0.000972</td>\n",
              "      <td>0.143159</td>\n",
              "      <td>0.009588</td>\n",
              "      <td>0.000540</td>\n",
              "      <td>-0.340917</td>\n",
              "      <td>0.035268</td>\n",
              "      <td>-0.139477</td>\n",
              "      <td>-0.002224</td>\n",
              "      <td>1.000000</td>\n",
              "    </tr>\n",
              "  </tbody>\n",
              "</table>\n",
              "</div>"
            ],
            "text/plain": [
              "                         id      Umur  ...  Lama_Berlangganan  Tertarik\n",
              "id                 1.000000  0.001517  ...           0.000909  0.000972\n",
              "Umur               0.001517  1.000000  ...          -0.000675  0.143159\n",
              "SIM               -0.002658 -0.064608  ...          -0.001268  0.009588\n",
              "Kode_Daerah        0.001951  0.013787  ...          -0.003703  0.000540\n",
              "Sudah_Asuransi    -0.003043 -0.268518  ...           0.002756 -0.340917\n",
              "Premi              0.002457  0.096842  ...           0.000452  0.035268\n",
              "Kanal_Penjualan   -0.000992 -0.648150  ...          -0.000083 -0.139477\n",
              "Lama_Berlangganan  0.000909 -0.000675  ...           1.000000 -0.002224\n",
              "Tertarik           0.000972  0.143159  ...          -0.002224  1.000000\n",
              "\n",
              "[9 rows x 9 columns]"
            ]
          },
          "metadata": {},
          "execution_count": 9
        }
      ]
    },
    {
      "cell_type": "markdown",
      "metadata": {
        "id": "WAgA2E_gvVrr"
      },
      "source": [
        "Permodelan\n"
      ]
    },
    {
      "cell_type": "code",
      "metadata": {
        "id": "pQTTAN50vYDI"
      },
      "source": [
        "df_train = df_train.drop(['id'], axis = 1)"
      ],
      "execution_count": 10,
      "outputs": []
    },
    {
      "cell_type": "code",
      "metadata": {
        "colab": {
          "base_uri": "https://localhost:8080/",
          "height": 224
        },
        "id": "rT6NwzSXvxiG",
        "outputId": "217f1361-4147-4a51-86a5-f3b65316c07c"
      },
      "source": [
        "df_train.head()"
      ],
      "execution_count": 11,
      "outputs": [
        {
          "output_type": "execute_result",
          "data": {
            "text/html": [
              "<div>\n",
              "<style scoped>\n",
              "    .dataframe tbody tr th:only-of-type {\n",
              "        vertical-align: middle;\n",
              "    }\n",
              "\n",
              "    .dataframe tbody tr th {\n",
              "        vertical-align: top;\n",
              "    }\n",
              "\n",
              "    .dataframe thead th {\n",
              "        text-align: right;\n",
              "    }\n",
              "</style>\n",
              "<table border=\"1\" class=\"dataframe\">\n",
              "  <thead>\n",
              "    <tr style=\"text-align: right;\">\n",
              "      <th></th>\n",
              "      <th>Jenis_Kelamin</th>\n",
              "      <th>Umur</th>\n",
              "      <th>SIM</th>\n",
              "      <th>Kode_Daerah</th>\n",
              "      <th>Sudah_Asuransi</th>\n",
              "      <th>Umur_Kendaraan</th>\n",
              "      <th>Kendaraan_Rusak</th>\n",
              "      <th>Premi</th>\n",
              "      <th>Kanal_Penjualan</th>\n",
              "      <th>Lama_Berlangganan</th>\n",
              "      <th>Tertarik</th>\n",
              "    </tr>\n",
              "  </thead>\n",
              "  <tbody>\n",
              "    <tr>\n",
              "      <th>0</th>\n",
              "      <td>Wanita</td>\n",
              "      <td>30.0</td>\n",
              "      <td>1.0</td>\n",
              "      <td>33.0</td>\n",
              "      <td>1.0</td>\n",
              "      <td>&lt; 1 Tahun</td>\n",
              "      <td>Tidak</td>\n",
              "      <td>28029.0</td>\n",
              "      <td>152.0</td>\n",
              "      <td>97.0</td>\n",
              "      <td>0</td>\n",
              "    </tr>\n",
              "    <tr>\n",
              "      <th>1</th>\n",
              "      <td>Pria</td>\n",
              "      <td>48.0</td>\n",
              "      <td>1.0</td>\n",
              "      <td>39.0</td>\n",
              "      <td>0.0</td>\n",
              "      <td>&gt; 2 Tahun</td>\n",
              "      <td>Pernah</td>\n",
              "      <td>25800.0</td>\n",
              "      <td>29.0</td>\n",
              "      <td>158.0</td>\n",
              "      <td>0</td>\n",
              "    </tr>\n",
              "    <tr>\n",
              "      <th>2</th>\n",
              "      <td>NaN</td>\n",
              "      <td>21.0</td>\n",
              "      <td>1.0</td>\n",
              "      <td>46.0</td>\n",
              "      <td>1.0</td>\n",
              "      <td>&lt; 1 Tahun</td>\n",
              "      <td>Tidak</td>\n",
              "      <td>32733.0</td>\n",
              "      <td>160.0</td>\n",
              "      <td>119.0</td>\n",
              "      <td>0</td>\n",
              "    </tr>\n",
              "    <tr>\n",
              "      <th>3</th>\n",
              "      <td>Wanita</td>\n",
              "      <td>58.0</td>\n",
              "      <td>1.0</td>\n",
              "      <td>48.0</td>\n",
              "      <td>0.0</td>\n",
              "      <td>1-2 Tahun</td>\n",
              "      <td>Tidak</td>\n",
              "      <td>2630.0</td>\n",
              "      <td>124.0</td>\n",
              "      <td>63.0</td>\n",
              "      <td>0</td>\n",
              "    </tr>\n",
              "    <tr>\n",
              "      <th>4</th>\n",
              "      <td>Pria</td>\n",
              "      <td>50.0</td>\n",
              "      <td>1.0</td>\n",
              "      <td>35.0</td>\n",
              "      <td>0.0</td>\n",
              "      <td>&gt; 2 Tahun</td>\n",
              "      <td>NaN</td>\n",
              "      <td>34857.0</td>\n",
              "      <td>88.0</td>\n",
              "      <td>194.0</td>\n",
              "      <td>0</td>\n",
              "    </tr>\n",
              "  </tbody>\n",
              "</table>\n",
              "</div>"
            ],
            "text/plain": [
              "  Jenis_Kelamin  Umur  SIM  ...  Kanal_Penjualan  Lama_Berlangganan Tertarik\n",
              "0        Wanita  30.0  1.0  ...            152.0               97.0        0\n",
              "1          Pria  48.0  1.0  ...             29.0              158.0        0\n",
              "2           NaN  21.0  1.0  ...            160.0              119.0        0\n",
              "3        Wanita  58.0  1.0  ...            124.0               63.0        0\n",
              "4          Pria  50.0  1.0  ...             88.0              194.0        0\n",
              "\n",
              "[5 rows x 11 columns]"
            ]
          },
          "metadata": {},
          "execution_count": 11
        }
      ]
    },
    {
      "cell_type": "code",
      "metadata": {
        "colab": {
          "base_uri": "https://localhost:8080/"
        },
        "id": "pONz9s_yv7kW",
        "outputId": "e7e81405-e9d8-484f-8a04-567a82e50a76"
      },
      "source": [
        "df_train['Jenis_Kelamin'].describe()"
      ],
      "execution_count": 12,
      "outputs": [
        {
          "output_type": "execute_result",
          "data": {
            "text/plain": [
              "count     271391\n",
              "unique         2\n",
              "top         Pria\n",
              "freq      146678\n",
              "Name: Jenis_Kelamin, dtype: object"
            ]
          },
          "metadata": {},
          "execution_count": 12
        }
      ]
    },
    {
      "cell_type": "code",
      "metadata": {
        "id": "bKvOnukywAnn"
      },
      "source": [
        "df_train = df_train[df_train['Jenis_Kelamin'].notna()]"
      ],
      "execution_count": 13,
      "outputs": []
    },
    {
      "cell_type": "code",
      "metadata": {
        "colab": {
          "base_uri": "https://localhost:8080/"
        },
        "id": "cRJ079oQyBzs",
        "outputId": "c3b27f4d-ed23-4046-b42a-5d6a3d1f269d"
      },
      "source": [
        "df_train.isnull().sum()\n"
      ],
      "execution_count": 14,
      "outputs": [
        {
          "output_type": "execute_result",
          "data": {
            "text/plain": [
              "Jenis_Kelamin            0\n",
              "Umur                 13459\n",
              "SIM                  13721\n",
              "Kode_Daerah          13553\n",
              "Sudah_Asuransi       13541\n",
              "Umur_Kendaraan       13560\n",
              "Kendaraan_Rusak      13485\n",
              "Premi                13822\n",
              "Kanal_Penjualan      13595\n",
              "Lama_Berlangganan    13275\n",
              "Tertarik                 0\n",
              "dtype: int64"
            ]
          },
          "metadata": {},
          "execution_count": 14
        }
      ]
    },
    {
      "cell_type": "code",
      "metadata": {
        "colab": {
          "base_uri": "https://localhost:8080/"
        },
        "id": "_eTX7h3-yHVm",
        "outputId": "d26adeb5-a62c-4e06-edc9-240b3cb9599e"
      },
      "source": [
        "df_train[\"Jenis_Kelamin\"].unique()"
      ],
      "execution_count": 15,
      "outputs": [
        {
          "output_type": "execute_result",
          "data": {
            "text/plain": [
              "array(['Wanita', 'Pria'], dtype=object)"
            ]
          },
          "metadata": {},
          "execution_count": 15
        }
      ]
    },
    {
      "cell_type": "code",
      "metadata": {
        "colab": {
          "base_uri": "https://localhost:8080/",
          "height": 69
        },
        "id": "ej41fszJySUq",
        "outputId": "9a710b22-09f6-4938-bb04-b345d3335059"
      },
      "source": [
        "df_train.loc[df_train['Jenis_Kelamin'] == 0]"
      ],
      "execution_count": 16,
      "outputs": [
        {
          "output_type": "execute_result",
          "data": {
            "text/html": [
              "<div>\n",
              "<style scoped>\n",
              "    .dataframe tbody tr th:only-of-type {\n",
              "        vertical-align: middle;\n",
              "    }\n",
              "\n",
              "    .dataframe tbody tr th {\n",
              "        vertical-align: top;\n",
              "    }\n",
              "\n",
              "    .dataframe thead th {\n",
              "        text-align: right;\n",
              "    }\n",
              "</style>\n",
              "<table border=\"1\" class=\"dataframe\">\n",
              "  <thead>\n",
              "    <tr style=\"text-align: right;\">\n",
              "      <th></th>\n",
              "      <th>Jenis_Kelamin</th>\n",
              "      <th>Umur</th>\n",
              "      <th>SIM</th>\n",
              "      <th>Kode_Daerah</th>\n",
              "      <th>Sudah_Asuransi</th>\n",
              "      <th>Umur_Kendaraan</th>\n",
              "      <th>Kendaraan_Rusak</th>\n",
              "      <th>Premi</th>\n",
              "      <th>Kanal_Penjualan</th>\n",
              "      <th>Lama_Berlangganan</th>\n",
              "      <th>Tertarik</th>\n",
              "    </tr>\n",
              "  </thead>\n",
              "  <tbody>\n",
              "  </tbody>\n",
              "</table>\n",
              "</div>"
            ],
            "text/plain": [
              "Empty DataFrame\n",
              "Columns: [Jenis_Kelamin, Umur, SIM, Kode_Daerah, Sudah_Asuransi, Umur_Kendaraan, Kendaraan_Rusak, Premi, Kanal_Penjualan, Lama_Berlangganan, Tertarik]\n",
              "Index: []"
            ]
          },
          "metadata": {},
          "execution_count": 16
        }
      ]
    },
    {
      "cell_type": "code",
      "metadata": {
        "colab": {
          "base_uri": "https://localhost:8080/",
          "height": 439
        },
        "id": "D27hn5qAyej3",
        "outputId": "482dfb9c-924b-48fc-fe58-03b6d49ae173"
      },
      "source": [
        "df_train.loc[df_train['Jenis_Kelamin'] != 0]"
      ],
      "execution_count": 17,
      "outputs": [
        {
          "output_type": "execute_result",
          "data": {
            "text/html": [
              "<div>\n",
              "<style scoped>\n",
              "    .dataframe tbody tr th:only-of-type {\n",
              "        vertical-align: middle;\n",
              "    }\n",
              "\n",
              "    .dataframe tbody tr th {\n",
              "        vertical-align: top;\n",
              "    }\n",
              "\n",
              "    .dataframe thead th {\n",
              "        text-align: right;\n",
              "    }\n",
              "</style>\n",
              "<table border=\"1\" class=\"dataframe\">\n",
              "  <thead>\n",
              "    <tr style=\"text-align: right;\">\n",
              "      <th></th>\n",
              "      <th>Jenis_Kelamin</th>\n",
              "      <th>Umur</th>\n",
              "      <th>SIM</th>\n",
              "      <th>Kode_Daerah</th>\n",
              "      <th>Sudah_Asuransi</th>\n",
              "      <th>Umur_Kendaraan</th>\n",
              "      <th>Kendaraan_Rusak</th>\n",
              "      <th>Premi</th>\n",
              "      <th>Kanal_Penjualan</th>\n",
              "      <th>Lama_Berlangganan</th>\n",
              "      <th>Tertarik</th>\n",
              "    </tr>\n",
              "  </thead>\n",
              "  <tbody>\n",
              "    <tr>\n",
              "      <th>0</th>\n",
              "      <td>Wanita</td>\n",
              "      <td>30.0</td>\n",
              "      <td>1.0</td>\n",
              "      <td>33.0</td>\n",
              "      <td>1.0</td>\n",
              "      <td>&lt; 1 Tahun</td>\n",
              "      <td>Tidak</td>\n",
              "      <td>28029.0</td>\n",
              "      <td>152.0</td>\n",
              "      <td>97.0</td>\n",
              "      <td>0</td>\n",
              "    </tr>\n",
              "    <tr>\n",
              "      <th>1</th>\n",
              "      <td>Pria</td>\n",
              "      <td>48.0</td>\n",
              "      <td>1.0</td>\n",
              "      <td>39.0</td>\n",
              "      <td>0.0</td>\n",
              "      <td>&gt; 2 Tahun</td>\n",
              "      <td>Pernah</td>\n",
              "      <td>25800.0</td>\n",
              "      <td>29.0</td>\n",
              "      <td>158.0</td>\n",
              "      <td>0</td>\n",
              "    </tr>\n",
              "    <tr>\n",
              "      <th>3</th>\n",
              "      <td>Wanita</td>\n",
              "      <td>58.0</td>\n",
              "      <td>1.0</td>\n",
              "      <td>48.0</td>\n",
              "      <td>0.0</td>\n",
              "      <td>1-2 Tahun</td>\n",
              "      <td>Tidak</td>\n",
              "      <td>2630.0</td>\n",
              "      <td>124.0</td>\n",
              "      <td>63.0</td>\n",
              "      <td>0</td>\n",
              "    </tr>\n",
              "    <tr>\n",
              "      <th>4</th>\n",
              "      <td>Pria</td>\n",
              "      <td>50.0</td>\n",
              "      <td>1.0</td>\n",
              "      <td>35.0</td>\n",
              "      <td>0.0</td>\n",
              "      <td>&gt; 2 Tahun</td>\n",
              "      <td>NaN</td>\n",
              "      <td>34857.0</td>\n",
              "      <td>88.0</td>\n",
              "      <td>194.0</td>\n",
              "      <td>0</td>\n",
              "    </tr>\n",
              "    <tr>\n",
              "      <th>5</th>\n",
              "      <td>Pria</td>\n",
              "      <td>21.0</td>\n",
              "      <td>1.0</td>\n",
              "      <td>35.0</td>\n",
              "      <td>1.0</td>\n",
              "      <td>&lt; 1 Tahun</td>\n",
              "      <td>Tidak</td>\n",
              "      <td>22735.0</td>\n",
              "      <td>152.0</td>\n",
              "      <td>171.0</td>\n",
              "      <td>0</td>\n",
              "    </tr>\n",
              "    <tr>\n",
              "      <th>...</th>\n",
              "      <td>...</td>\n",
              "      <td>...</td>\n",
              "      <td>...</td>\n",
              "      <td>...</td>\n",
              "      <td>...</td>\n",
              "      <td>...</td>\n",
              "      <td>...</td>\n",
              "      <td>...</td>\n",
              "      <td>...</td>\n",
              "      <td>...</td>\n",
              "      <td>...</td>\n",
              "    </tr>\n",
              "    <tr>\n",
              "      <th>285826</th>\n",
              "      <td>Wanita</td>\n",
              "      <td>23.0</td>\n",
              "      <td>1.0</td>\n",
              "      <td>4.0</td>\n",
              "      <td>1.0</td>\n",
              "      <td>&lt; 1 Tahun</td>\n",
              "      <td>Tidak</td>\n",
              "      <td>25988.0</td>\n",
              "      <td>152.0</td>\n",
              "      <td>217.0</td>\n",
              "      <td>0</td>\n",
              "    </tr>\n",
              "    <tr>\n",
              "      <th>285827</th>\n",
              "      <td>Wanita</td>\n",
              "      <td>21.0</td>\n",
              "      <td>1.0</td>\n",
              "      <td>46.0</td>\n",
              "      <td>1.0</td>\n",
              "      <td>&lt; 1 Tahun</td>\n",
              "      <td>Tidak</td>\n",
              "      <td>44686.0</td>\n",
              "      <td>152.0</td>\n",
              "      <td>50.0</td>\n",
              "      <td>0</td>\n",
              "    </tr>\n",
              "    <tr>\n",
              "      <th>285828</th>\n",
              "      <td>Wanita</td>\n",
              "      <td>23.0</td>\n",
              "      <td>1.0</td>\n",
              "      <td>50.0</td>\n",
              "      <td>1.0</td>\n",
              "      <td>&lt; 1 Tahun</td>\n",
              "      <td>Tidak</td>\n",
              "      <td>49751.0</td>\n",
              "      <td>152.0</td>\n",
              "      <td>226.0</td>\n",
              "      <td>0</td>\n",
              "    </tr>\n",
              "    <tr>\n",
              "      <th>285829</th>\n",
              "      <td>Pria</td>\n",
              "      <td>68.0</td>\n",
              "      <td>1.0</td>\n",
              "      <td>7.0</td>\n",
              "      <td>1.0</td>\n",
              "      <td>1-2 Tahun</td>\n",
              "      <td>Tidak</td>\n",
              "      <td>30503.0</td>\n",
              "      <td>124.0</td>\n",
              "      <td>270.0</td>\n",
              "      <td>0</td>\n",
              "    </tr>\n",
              "    <tr>\n",
              "      <th>285830</th>\n",
              "      <td>Pria</td>\n",
              "      <td>45.0</td>\n",
              "      <td>1.0</td>\n",
              "      <td>28.0</td>\n",
              "      <td>0.0</td>\n",
              "      <td>1-2 Tahun</td>\n",
              "      <td>Pernah</td>\n",
              "      <td>36480.0</td>\n",
              "      <td>26.0</td>\n",
              "      <td>44.0</td>\n",
              "      <td>0</td>\n",
              "    </tr>\n",
              "  </tbody>\n",
              "</table>\n",
              "<p>271391 rows × 11 columns</p>\n",
              "</div>"
            ],
            "text/plain": [
              "       Jenis_Kelamin  Umur  SIM  ...  Kanal_Penjualan  Lama_Berlangganan Tertarik\n",
              "0             Wanita  30.0  1.0  ...            152.0               97.0        0\n",
              "1               Pria  48.0  1.0  ...             29.0              158.0        0\n",
              "3             Wanita  58.0  1.0  ...            124.0               63.0        0\n",
              "4               Pria  50.0  1.0  ...             88.0              194.0        0\n",
              "5               Pria  21.0  1.0  ...            152.0              171.0        0\n",
              "...              ...   ...  ...  ...              ...                ...      ...\n",
              "285826        Wanita  23.0  1.0  ...            152.0              217.0        0\n",
              "285827        Wanita  21.0  1.0  ...            152.0               50.0        0\n",
              "285828        Wanita  23.0  1.0  ...            152.0              226.0        0\n",
              "285829          Pria  68.0  1.0  ...            124.0              270.0        0\n",
              "285830          Pria  45.0  1.0  ...             26.0               44.0        0\n",
              "\n",
              "[271391 rows x 11 columns]"
            ]
          },
          "metadata": {},
          "execution_count": 17
        }
      ]
    },
    {
      "cell_type": "code",
      "metadata": {
        "id": "l02OLqcTy7jO"
      },
      "source": [
        "from sklearn.preprocessing import LabelEncoder\n",
        "label_enc = LabelEncoder()\n",
        "df_train[\"Jenis_Kelamin\"] = label_enc.fit_transform(df_train[\"Jenis_Kelamin\"])"
      ],
      "execution_count": 18,
      "outputs": []
    },
    {
      "cell_type": "code",
      "metadata": {
        "colab": {
          "base_uri": "https://localhost:8080/",
          "height": 224
        },
        "id": "4F4MUyliy8F4",
        "outputId": "efee5b2c-157e-4d43-c371-4e677f30d338"
      },
      "source": [
        "df_train.head()"
      ],
      "execution_count": 19,
      "outputs": [
        {
          "output_type": "execute_result",
          "data": {
            "text/html": [
              "<div>\n",
              "<style scoped>\n",
              "    .dataframe tbody tr th:only-of-type {\n",
              "        vertical-align: middle;\n",
              "    }\n",
              "\n",
              "    .dataframe tbody tr th {\n",
              "        vertical-align: top;\n",
              "    }\n",
              "\n",
              "    .dataframe thead th {\n",
              "        text-align: right;\n",
              "    }\n",
              "</style>\n",
              "<table border=\"1\" class=\"dataframe\">\n",
              "  <thead>\n",
              "    <tr style=\"text-align: right;\">\n",
              "      <th></th>\n",
              "      <th>Jenis_Kelamin</th>\n",
              "      <th>Umur</th>\n",
              "      <th>SIM</th>\n",
              "      <th>Kode_Daerah</th>\n",
              "      <th>Sudah_Asuransi</th>\n",
              "      <th>Umur_Kendaraan</th>\n",
              "      <th>Kendaraan_Rusak</th>\n",
              "      <th>Premi</th>\n",
              "      <th>Kanal_Penjualan</th>\n",
              "      <th>Lama_Berlangganan</th>\n",
              "      <th>Tertarik</th>\n",
              "    </tr>\n",
              "  </thead>\n",
              "  <tbody>\n",
              "    <tr>\n",
              "      <th>0</th>\n",
              "      <td>1</td>\n",
              "      <td>30.0</td>\n",
              "      <td>1.0</td>\n",
              "      <td>33.0</td>\n",
              "      <td>1.0</td>\n",
              "      <td>&lt; 1 Tahun</td>\n",
              "      <td>Tidak</td>\n",
              "      <td>28029.0</td>\n",
              "      <td>152.0</td>\n",
              "      <td>97.0</td>\n",
              "      <td>0</td>\n",
              "    </tr>\n",
              "    <tr>\n",
              "      <th>1</th>\n",
              "      <td>0</td>\n",
              "      <td>48.0</td>\n",
              "      <td>1.0</td>\n",
              "      <td>39.0</td>\n",
              "      <td>0.0</td>\n",
              "      <td>&gt; 2 Tahun</td>\n",
              "      <td>Pernah</td>\n",
              "      <td>25800.0</td>\n",
              "      <td>29.0</td>\n",
              "      <td>158.0</td>\n",
              "      <td>0</td>\n",
              "    </tr>\n",
              "    <tr>\n",
              "      <th>3</th>\n",
              "      <td>1</td>\n",
              "      <td>58.0</td>\n",
              "      <td>1.0</td>\n",
              "      <td>48.0</td>\n",
              "      <td>0.0</td>\n",
              "      <td>1-2 Tahun</td>\n",
              "      <td>Tidak</td>\n",
              "      <td>2630.0</td>\n",
              "      <td>124.0</td>\n",
              "      <td>63.0</td>\n",
              "      <td>0</td>\n",
              "    </tr>\n",
              "    <tr>\n",
              "      <th>4</th>\n",
              "      <td>0</td>\n",
              "      <td>50.0</td>\n",
              "      <td>1.0</td>\n",
              "      <td>35.0</td>\n",
              "      <td>0.0</td>\n",
              "      <td>&gt; 2 Tahun</td>\n",
              "      <td>NaN</td>\n",
              "      <td>34857.0</td>\n",
              "      <td>88.0</td>\n",
              "      <td>194.0</td>\n",
              "      <td>0</td>\n",
              "    </tr>\n",
              "    <tr>\n",
              "      <th>5</th>\n",
              "      <td>0</td>\n",
              "      <td>21.0</td>\n",
              "      <td>1.0</td>\n",
              "      <td>35.0</td>\n",
              "      <td>1.0</td>\n",
              "      <td>&lt; 1 Tahun</td>\n",
              "      <td>Tidak</td>\n",
              "      <td>22735.0</td>\n",
              "      <td>152.0</td>\n",
              "      <td>171.0</td>\n",
              "      <td>0</td>\n",
              "    </tr>\n",
              "  </tbody>\n",
              "</table>\n",
              "</div>"
            ],
            "text/plain": [
              "   Jenis_Kelamin  Umur  SIM  ...  Kanal_Penjualan  Lama_Berlangganan Tertarik\n",
              "0              1  30.0  1.0  ...            152.0               97.0        0\n",
              "1              0  48.0  1.0  ...             29.0              158.0        0\n",
              "3              1  58.0  1.0  ...            124.0               63.0        0\n",
              "4              0  50.0  1.0  ...             88.0              194.0        0\n",
              "5              0  21.0  1.0  ...            152.0              171.0        0\n",
              "\n",
              "[5 rows x 11 columns]"
            ]
          },
          "metadata": {},
          "execution_count": 19
        }
      ]
    },
    {
      "cell_type": "markdown",
      "metadata": {
        "id": "FzinUGq90454"
      },
      "source": [
        "Pemodelan Umur"
      ]
    },
    {
      "cell_type": "code",
      "metadata": {
        "colab": {
          "base_uri": "https://localhost:8080/"
        },
        "id": "M7I52dR007DP",
        "outputId": "aa0ce513-98a7-49db-9993-a6fb3b1db946"
      },
      "source": [
        "df_train['Umur'].describe()"
      ],
      "execution_count": 20,
      "outputs": [
        {
          "output_type": "execute_result",
          "data": {
            "text/plain": [
              "count    257932.000000\n",
              "mean         38.831568\n",
              "std          15.528433\n",
              "min          20.000000\n",
              "25%          25.000000\n",
              "50%          36.000000\n",
              "75%          49.000000\n",
              "max          85.000000\n",
              "Name: Umur, dtype: float64"
            ]
          },
          "metadata": {},
          "execution_count": 20
        }
      ]
    },
    {
      "cell_type": "code",
      "metadata": {
        "id": "Ng1Fq2dM1Exf"
      },
      "source": [
        "df_train = df_train[df_train['Umur'].notna()]"
      ],
      "execution_count": 21,
      "outputs": []
    },
    {
      "cell_type": "code",
      "metadata": {
        "colab": {
          "base_uri": "https://localhost:8080/"
        },
        "id": "3Qamt5uS1P64",
        "outputId": "baf1927a-50d0-45b4-f086-ab2a876d42d6"
      },
      "source": [
        "df_train[\"Umur\"].fillna(method=\"ffill\")"
      ],
      "execution_count": 22,
      "outputs": [
        {
          "output_type": "execute_result",
          "data": {
            "text/plain": [
              "0         30.0\n",
              "1         48.0\n",
              "3         58.0\n",
              "4         50.0\n",
              "5         21.0\n",
              "          ... \n",
              "285826    23.0\n",
              "285827    21.0\n",
              "285828    23.0\n",
              "285829    68.0\n",
              "285830    45.0\n",
              "Name: Umur, Length: 257932, dtype: float64"
            ]
          },
          "metadata": {},
          "execution_count": 22
        }
      ]
    },
    {
      "cell_type": "code",
      "metadata": {
        "colab": {
          "base_uri": "https://localhost:8080/"
        },
        "id": "6b8pRqdk1eGT",
        "outputId": "813b78da-95c6-48de-b634-022914e914fe"
      },
      "source": [
        "import numpy as np\n",
        "df_train['Umur'] = df_train[\"Umur\"].astype(np.int64)"
      ],
      "execution_count": 23,
      "outputs": [
        {
          "output_type": "stream",
          "name": "stderr",
          "text": [
            "/usr/local/lib/python3.7/dist-packages/ipykernel_launcher.py:2: SettingWithCopyWarning: \n",
            "A value is trying to be set on a copy of a slice from a DataFrame.\n",
            "Try using .loc[row_indexer,col_indexer] = value instead\n",
            "\n",
            "See the caveats in the documentation: https://pandas.pydata.org/pandas-docs/stable/user_guide/indexing.html#returning-a-view-versus-a-copy\n",
            "  \n"
          ]
        }
      ]
    },
    {
      "cell_type": "code",
      "metadata": {
        "colab": {
          "base_uri": "https://localhost:8080/"
        },
        "id": "jXuKp5DFH5Q8",
        "outputId": "e3dde3a1-99d1-4b35-f410-925f95f1ce1e"
      },
      "source": [
        "df_train[\"Umur\"].fillna(method=\"ffill\")"
      ],
      "execution_count": 24,
      "outputs": [
        {
          "output_type": "execute_result",
          "data": {
            "text/plain": [
              "0         30\n",
              "1         48\n",
              "3         58\n",
              "4         50\n",
              "5         21\n",
              "          ..\n",
              "285826    23\n",
              "285827    21\n",
              "285828    23\n",
              "285829    68\n",
              "285830    45\n",
              "Name: Umur, Length: 257932, dtype: int64"
            ]
          },
          "metadata": {},
          "execution_count": 24
        }
      ]
    },
    {
      "cell_type": "code",
      "metadata": {
        "colab": {
          "base_uri": "https://localhost:8080/",
          "height": 224
        },
        "id": "1uWC2apN1jLF",
        "outputId": "2b8854dd-35b0-4a6d-98a1-728b69326f50"
      },
      "source": [
        "df_train.head()"
      ],
      "execution_count": 25,
      "outputs": [
        {
          "output_type": "execute_result",
          "data": {
            "text/html": [
              "<div>\n",
              "<style scoped>\n",
              "    .dataframe tbody tr th:only-of-type {\n",
              "        vertical-align: middle;\n",
              "    }\n",
              "\n",
              "    .dataframe tbody tr th {\n",
              "        vertical-align: top;\n",
              "    }\n",
              "\n",
              "    .dataframe thead th {\n",
              "        text-align: right;\n",
              "    }\n",
              "</style>\n",
              "<table border=\"1\" class=\"dataframe\">\n",
              "  <thead>\n",
              "    <tr style=\"text-align: right;\">\n",
              "      <th></th>\n",
              "      <th>Jenis_Kelamin</th>\n",
              "      <th>Umur</th>\n",
              "      <th>SIM</th>\n",
              "      <th>Kode_Daerah</th>\n",
              "      <th>Sudah_Asuransi</th>\n",
              "      <th>Umur_Kendaraan</th>\n",
              "      <th>Kendaraan_Rusak</th>\n",
              "      <th>Premi</th>\n",
              "      <th>Kanal_Penjualan</th>\n",
              "      <th>Lama_Berlangganan</th>\n",
              "      <th>Tertarik</th>\n",
              "    </tr>\n",
              "  </thead>\n",
              "  <tbody>\n",
              "    <tr>\n",
              "      <th>0</th>\n",
              "      <td>1</td>\n",
              "      <td>30</td>\n",
              "      <td>1.0</td>\n",
              "      <td>33.0</td>\n",
              "      <td>1.0</td>\n",
              "      <td>&lt; 1 Tahun</td>\n",
              "      <td>Tidak</td>\n",
              "      <td>28029.0</td>\n",
              "      <td>152.0</td>\n",
              "      <td>97.0</td>\n",
              "      <td>0</td>\n",
              "    </tr>\n",
              "    <tr>\n",
              "      <th>1</th>\n",
              "      <td>0</td>\n",
              "      <td>48</td>\n",
              "      <td>1.0</td>\n",
              "      <td>39.0</td>\n",
              "      <td>0.0</td>\n",
              "      <td>&gt; 2 Tahun</td>\n",
              "      <td>Pernah</td>\n",
              "      <td>25800.0</td>\n",
              "      <td>29.0</td>\n",
              "      <td>158.0</td>\n",
              "      <td>0</td>\n",
              "    </tr>\n",
              "    <tr>\n",
              "      <th>3</th>\n",
              "      <td>1</td>\n",
              "      <td>58</td>\n",
              "      <td>1.0</td>\n",
              "      <td>48.0</td>\n",
              "      <td>0.0</td>\n",
              "      <td>1-2 Tahun</td>\n",
              "      <td>Tidak</td>\n",
              "      <td>2630.0</td>\n",
              "      <td>124.0</td>\n",
              "      <td>63.0</td>\n",
              "      <td>0</td>\n",
              "    </tr>\n",
              "    <tr>\n",
              "      <th>4</th>\n",
              "      <td>0</td>\n",
              "      <td>50</td>\n",
              "      <td>1.0</td>\n",
              "      <td>35.0</td>\n",
              "      <td>0.0</td>\n",
              "      <td>&gt; 2 Tahun</td>\n",
              "      <td>NaN</td>\n",
              "      <td>34857.0</td>\n",
              "      <td>88.0</td>\n",
              "      <td>194.0</td>\n",
              "      <td>0</td>\n",
              "    </tr>\n",
              "    <tr>\n",
              "      <th>5</th>\n",
              "      <td>0</td>\n",
              "      <td>21</td>\n",
              "      <td>1.0</td>\n",
              "      <td>35.0</td>\n",
              "      <td>1.0</td>\n",
              "      <td>&lt; 1 Tahun</td>\n",
              "      <td>Tidak</td>\n",
              "      <td>22735.0</td>\n",
              "      <td>152.0</td>\n",
              "      <td>171.0</td>\n",
              "      <td>0</td>\n",
              "    </tr>\n",
              "  </tbody>\n",
              "</table>\n",
              "</div>"
            ],
            "text/plain": [
              "   Jenis_Kelamin  Umur  SIM  ...  Kanal_Penjualan  Lama_Berlangganan Tertarik\n",
              "0              1    30  1.0  ...            152.0               97.0        0\n",
              "1              0    48  1.0  ...             29.0              158.0        0\n",
              "3              1    58  1.0  ...            124.0               63.0        0\n",
              "4              0    50  1.0  ...             88.0              194.0        0\n",
              "5              0    21  1.0  ...            152.0              171.0        0\n",
              "\n",
              "[5 rows x 11 columns]"
            ]
          },
          "metadata": {},
          "execution_count": 25
        }
      ]
    },
    {
      "cell_type": "code",
      "metadata": {
        "colab": {
          "base_uri": "https://localhost:8080/"
        },
        "id": "yWNiv9WX1qZ7",
        "outputId": "5fbe8423-cbf7-441b-9735-09a0d4588b66"
      },
      "source": [
        "df_train.isnull().sum()"
      ],
      "execution_count": 26,
      "outputs": [
        {
          "output_type": "execute_result",
          "data": {
            "text/plain": [
              "Jenis_Kelamin            0\n",
              "Umur                     0\n",
              "SIM                  13076\n",
              "Kode_Daerah          12872\n",
              "Sudah_Asuransi       12846\n",
              "Umur_Kendaraan       12902\n",
              "Kendaraan_Rusak      12842\n",
              "Premi                13179\n",
              "Kanal_Penjualan      12945\n",
              "Lama_Berlangganan    12600\n",
              "Tertarik                 0\n",
              "dtype: int64"
            ]
          },
          "metadata": {},
          "execution_count": 26
        }
      ]
    },
    {
      "cell_type": "markdown",
      "metadata": {
        "id": "Oyph1Nah2d9F"
      },
      "source": [
        "Pemodelan Sim"
      ]
    },
    {
      "cell_type": "code",
      "metadata": {
        "id": "PVKzKNdR2hAo"
      },
      "source": [
        "combine = [df_train, df_test]"
      ],
      "execution_count": 27,
      "outputs": []
    },
    {
      "cell_type": "code",
      "metadata": {
        "id": "0pgy61PJ3jLX",
        "colab": {
          "base_uri": "https://localhost:8080/"
        },
        "outputId": "21b76f2e-f717-4d9d-c132-b6afd34cb2e5"
      },
      "source": [
        "for dataset in combine :\n",
        "     dataset['SIM'] = dataset['SIM'].fillna(0)"
      ],
      "execution_count": 28,
      "outputs": [
        {
          "output_type": "stream",
          "name": "stderr",
          "text": [
            "/usr/local/lib/python3.7/dist-packages/ipykernel_launcher.py:2: SettingWithCopyWarning: \n",
            "A value is trying to be set on a copy of a slice from a DataFrame.\n",
            "Try using .loc[row_indexer,col_indexer] = value instead\n",
            "\n",
            "See the caveats in the documentation: https://pandas.pydata.org/pandas-docs/stable/user_guide/indexing.html#returning-a-view-versus-a-copy\n",
            "  \n"
          ]
        }
      ]
    },
    {
      "cell_type": "code",
      "metadata": {
        "colab": {
          "base_uri": "https://localhost:8080/"
        },
        "id": "jdmMExbT3p8O",
        "outputId": "32a38c08-73ff-4800-e1d4-18fc626946db"
      },
      "source": [
        "df_train.isnull().sum()"
      ],
      "execution_count": 29,
      "outputs": [
        {
          "output_type": "execute_result",
          "data": {
            "text/plain": [
              "Jenis_Kelamin            0\n",
              "Umur                     0\n",
              "SIM                      0\n",
              "Kode_Daerah          12872\n",
              "Sudah_Asuransi       12846\n",
              "Umur_Kendaraan       12902\n",
              "Kendaraan_Rusak      12842\n",
              "Premi                13179\n",
              "Kanal_Penjualan      12945\n",
              "Lama_Berlangganan    12600\n",
              "Tertarik                 0\n",
              "dtype: int64"
            ]
          },
          "metadata": {},
          "execution_count": 29
        }
      ]
    },
    {
      "cell_type": "markdown",
      "metadata": {
        "id": "UbiZQtU43zgU"
      },
      "source": [
        "Drop Kode Daerah"
      ]
    },
    {
      "cell_type": "code",
      "metadata": {
        "id": "NimDtR7p3s41"
      },
      "source": [
        "df_train = df_train.drop(['Kode_Daerah'], axis = 1)"
      ],
      "execution_count": 30,
      "outputs": []
    },
    {
      "cell_type": "code",
      "metadata": {
        "colab": {
          "base_uri": "https://localhost:8080/",
          "height": 224
        },
        "id": "NldOy_Xm4aj5",
        "outputId": "aa76e471-8595-4011-9364-a42448ca863e"
      },
      "source": [
        "df_train.head()"
      ],
      "execution_count": 31,
      "outputs": [
        {
          "output_type": "execute_result",
          "data": {
            "text/html": [
              "<div>\n",
              "<style scoped>\n",
              "    .dataframe tbody tr th:only-of-type {\n",
              "        vertical-align: middle;\n",
              "    }\n",
              "\n",
              "    .dataframe tbody tr th {\n",
              "        vertical-align: top;\n",
              "    }\n",
              "\n",
              "    .dataframe thead th {\n",
              "        text-align: right;\n",
              "    }\n",
              "</style>\n",
              "<table border=\"1\" class=\"dataframe\">\n",
              "  <thead>\n",
              "    <tr style=\"text-align: right;\">\n",
              "      <th></th>\n",
              "      <th>Jenis_Kelamin</th>\n",
              "      <th>Umur</th>\n",
              "      <th>SIM</th>\n",
              "      <th>Sudah_Asuransi</th>\n",
              "      <th>Umur_Kendaraan</th>\n",
              "      <th>Kendaraan_Rusak</th>\n",
              "      <th>Premi</th>\n",
              "      <th>Kanal_Penjualan</th>\n",
              "      <th>Lama_Berlangganan</th>\n",
              "      <th>Tertarik</th>\n",
              "    </tr>\n",
              "  </thead>\n",
              "  <tbody>\n",
              "    <tr>\n",
              "      <th>0</th>\n",
              "      <td>1</td>\n",
              "      <td>30</td>\n",
              "      <td>1.0</td>\n",
              "      <td>1.0</td>\n",
              "      <td>&lt; 1 Tahun</td>\n",
              "      <td>Tidak</td>\n",
              "      <td>28029.0</td>\n",
              "      <td>152.0</td>\n",
              "      <td>97.0</td>\n",
              "      <td>0</td>\n",
              "    </tr>\n",
              "    <tr>\n",
              "      <th>1</th>\n",
              "      <td>0</td>\n",
              "      <td>48</td>\n",
              "      <td>1.0</td>\n",
              "      <td>0.0</td>\n",
              "      <td>&gt; 2 Tahun</td>\n",
              "      <td>Pernah</td>\n",
              "      <td>25800.0</td>\n",
              "      <td>29.0</td>\n",
              "      <td>158.0</td>\n",
              "      <td>0</td>\n",
              "    </tr>\n",
              "    <tr>\n",
              "      <th>3</th>\n",
              "      <td>1</td>\n",
              "      <td>58</td>\n",
              "      <td>1.0</td>\n",
              "      <td>0.0</td>\n",
              "      <td>1-2 Tahun</td>\n",
              "      <td>Tidak</td>\n",
              "      <td>2630.0</td>\n",
              "      <td>124.0</td>\n",
              "      <td>63.0</td>\n",
              "      <td>0</td>\n",
              "    </tr>\n",
              "    <tr>\n",
              "      <th>4</th>\n",
              "      <td>0</td>\n",
              "      <td>50</td>\n",
              "      <td>1.0</td>\n",
              "      <td>0.0</td>\n",
              "      <td>&gt; 2 Tahun</td>\n",
              "      <td>NaN</td>\n",
              "      <td>34857.0</td>\n",
              "      <td>88.0</td>\n",
              "      <td>194.0</td>\n",
              "      <td>0</td>\n",
              "    </tr>\n",
              "    <tr>\n",
              "      <th>5</th>\n",
              "      <td>0</td>\n",
              "      <td>21</td>\n",
              "      <td>1.0</td>\n",
              "      <td>1.0</td>\n",
              "      <td>&lt; 1 Tahun</td>\n",
              "      <td>Tidak</td>\n",
              "      <td>22735.0</td>\n",
              "      <td>152.0</td>\n",
              "      <td>171.0</td>\n",
              "      <td>0</td>\n",
              "    </tr>\n",
              "  </tbody>\n",
              "</table>\n",
              "</div>"
            ],
            "text/plain": [
              "   Jenis_Kelamin  Umur  SIM  ...  Kanal_Penjualan Lama_Berlangganan Tertarik\n",
              "0              1    30  1.0  ...            152.0              97.0        0\n",
              "1              0    48  1.0  ...             29.0             158.0        0\n",
              "3              1    58  1.0  ...            124.0              63.0        0\n",
              "4              0    50  1.0  ...             88.0             194.0        0\n",
              "5              0    21  1.0  ...            152.0             171.0        0\n",
              "\n",
              "[5 rows x 10 columns]"
            ]
          },
          "metadata": {},
          "execution_count": 31
        }
      ]
    },
    {
      "cell_type": "markdown",
      "metadata": {
        "id": "eE1whLT0GHTt"
      },
      "source": [
        "Pemodelan Sudah_asuransi\n"
      ]
    },
    {
      "cell_type": "code",
      "metadata": {
        "id": "9m6vdp0c4oUL",
        "colab": {
          "base_uri": "https://localhost:8080/"
        },
        "outputId": "2a0c17d0-2c42-4bda-d971-ce1ab29fd798"
      },
      "source": [
        "df_train.isnull().sum()"
      ],
      "execution_count": 32,
      "outputs": [
        {
          "output_type": "execute_result",
          "data": {
            "text/plain": [
              "Jenis_Kelamin            0\n",
              "Umur                     0\n",
              "SIM                      0\n",
              "Sudah_Asuransi       12846\n",
              "Umur_Kendaraan       12902\n",
              "Kendaraan_Rusak      12842\n",
              "Premi                13179\n",
              "Kanal_Penjualan      12945\n",
              "Lama_Berlangganan    12600\n",
              "Tertarik                 0\n",
              "dtype: int64"
            ]
          },
          "metadata": {},
          "execution_count": 32
        }
      ]
    },
    {
      "cell_type": "code",
      "metadata": {
        "colab": {
          "base_uri": "https://localhost:8080/"
        },
        "id": "0WxiQ_FPGOgd",
        "outputId": "b444314f-dfc6-4300-db2a-c43ddb4223f2"
      },
      "source": [
        "df_train['Sudah_Asuransi'].describe()"
      ],
      "execution_count": 33,
      "outputs": [
        {
          "output_type": "execute_result",
          "data": {
            "text/plain": [
              "count    245086.000000\n",
              "mean          0.459133\n",
              "std           0.498328\n",
              "min           0.000000\n",
              "25%           0.000000\n",
              "50%           0.000000\n",
              "75%           1.000000\n",
              "max           1.000000\n",
              "Name: Sudah_Asuransi, dtype: float64"
            ]
          },
          "metadata": {},
          "execution_count": 33
        }
      ]
    },
    {
      "cell_type": "code",
      "metadata": {
        "id": "DAeh_-lqJAPX"
      },
      "source": [
        "df_train = df_train[df_train['Sudah_Asuransi'].notna()]"
      ],
      "execution_count": 34,
      "outputs": []
    },
    {
      "cell_type": "code",
      "metadata": {
        "colab": {
          "base_uri": "https://localhost:8080/"
        },
        "id": "mQOIwNmiJXPe",
        "outputId": "b2b3ccf3-8e4c-4b12-a810-108adc2786c8"
      },
      "source": [
        "df_train[\"Sudah_Asuransi\"].unique()"
      ],
      "execution_count": 35,
      "outputs": [
        {
          "output_type": "execute_result",
          "data": {
            "text/plain": [
              "array([1., 0.])"
            ]
          },
          "metadata": {},
          "execution_count": 35
        }
      ]
    },
    {
      "cell_type": "code",
      "metadata": {
        "id": "iM7wCe-wJD3s"
      },
      "source": [
        "df_train['Sudah_Asuransi'] = df_train[\"Sudah_Asuransi\"].astype(np.int64)"
      ],
      "execution_count": 36,
      "outputs": []
    },
    {
      "cell_type": "code",
      "metadata": {
        "colab": {
          "base_uri": "https://localhost:8080/"
        },
        "id": "anS55Ry4JObl",
        "outputId": "9da1d5b4-7e07-48e7-e224-ed5d2b231a92"
      },
      "source": [
        "df_train[\"Sudah_Asuransi\"].fillna(method=\"ffill\")"
      ],
      "execution_count": 37,
      "outputs": [
        {
          "output_type": "execute_result",
          "data": {
            "text/plain": [
              "0         1\n",
              "1         0\n",
              "3         0\n",
              "4         0\n",
              "5         1\n",
              "         ..\n",
              "285826    1\n",
              "285827    1\n",
              "285828    1\n",
              "285829    1\n",
              "285830    0\n",
              "Name: Sudah_Asuransi, Length: 245086, dtype: int64"
            ]
          },
          "metadata": {},
          "execution_count": 37
        }
      ]
    },
    {
      "cell_type": "code",
      "metadata": {
        "colab": {
          "base_uri": "https://localhost:8080/",
          "height": 224
        },
        "id": "dhT0GIx5JvkF",
        "outputId": "d4a4342f-986a-4bbb-e897-b9a8bbc373d4"
      },
      "source": [
        "df_train.head()"
      ],
      "execution_count": 38,
      "outputs": [
        {
          "output_type": "execute_result",
          "data": {
            "text/html": [
              "<div>\n",
              "<style scoped>\n",
              "    .dataframe tbody tr th:only-of-type {\n",
              "        vertical-align: middle;\n",
              "    }\n",
              "\n",
              "    .dataframe tbody tr th {\n",
              "        vertical-align: top;\n",
              "    }\n",
              "\n",
              "    .dataframe thead th {\n",
              "        text-align: right;\n",
              "    }\n",
              "</style>\n",
              "<table border=\"1\" class=\"dataframe\">\n",
              "  <thead>\n",
              "    <tr style=\"text-align: right;\">\n",
              "      <th></th>\n",
              "      <th>Jenis_Kelamin</th>\n",
              "      <th>Umur</th>\n",
              "      <th>SIM</th>\n",
              "      <th>Sudah_Asuransi</th>\n",
              "      <th>Umur_Kendaraan</th>\n",
              "      <th>Kendaraan_Rusak</th>\n",
              "      <th>Premi</th>\n",
              "      <th>Kanal_Penjualan</th>\n",
              "      <th>Lama_Berlangganan</th>\n",
              "      <th>Tertarik</th>\n",
              "    </tr>\n",
              "  </thead>\n",
              "  <tbody>\n",
              "    <tr>\n",
              "      <th>0</th>\n",
              "      <td>1</td>\n",
              "      <td>30</td>\n",
              "      <td>1.0</td>\n",
              "      <td>1</td>\n",
              "      <td>&lt; 1 Tahun</td>\n",
              "      <td>Tidak</td>\n",
              "      <td>28029.0</td>\n",
              "      <td>152.0</td>\n",
              "      <td>97.0</td>\n",
              "      <td>0</td>\n",
              "    </tr>\n",
              "    <tr>\n",
              "      <th>1</th>\n",
              "      <td>0</td>\n",
              "      <td>48</td>\n",
              "      <td>1.0</td>\n",
              "      <td>0</td>\n",
              "      <td>&gt; 2 Tahun</td>\n",
              "      <td>Pernah</td>\n",
              "      <td>25800.0</td>\n",
              "      <td>29.0</td>\n",
              "      <td>158.0</td>\n",
              "      <td>0</td>\n",
              "    </tr>\n",
              "    <tr>\n",
              "      <th>3</th>\n",
              "      <td>1</td>\n",
              "      <td>58</td>\n",
              "      <td>1.0</td>\n",
              "      <td>0</td>\n",
              "      <td>1-2 Tahun</td>\n",
              "      <td>Tidak</td>\n",
              "      <td>2630.0</td>\n",
              "      <td>124.0</td>\n",
              "      <td>63.0</td>\n",
              "      <td>0</td>\n",
              "    </tr>\n",
              "    <tr>\n",
              "      <th>4</th>\n",
              "      <td>0</td>\n",
              "      <td>50</td>\n",
              "      <td>1.0</td>\n",
              "      <td>0</td>\n",
              "      <td>&gt; 2 Tahun</td>\n",
              "      <td>NaN</td>\n",
              "      <td>34857.0</td>\n",
              "      <td>88.0</td>\n",
              "      <td>194.0</td>\n",
              "      <td>0</td>\n",
              "    </tr>\n",
              "    <tr>\n",
              "      <th>5</th>\n",
              "      <td>0</td>\n",
              "      <td>21</td>\n",
              "      <td>1.0</td>\n",
              "      <td>1</td>\n",
              "      <td>&lt; 1 Tahun</td>\n",
              "      <td>Tidak</td>\n",
              "      <td>22735.0</td>\n",
              "      <td>152.0</td>\n",
              "      <td>171.0</td>\n",
              "      <td>0</td>\n",
              "    </tr>\n",
              "  </tbody>\n",
              "</table>\n",
              "</div>"
            ],
            "text/plain": [
              "   Jenis_Kelamin  Umur  SIM  ...  Kanal_Penjualan Lama_Berlangganan Tertarik\n",
              "0              1    30  1.0  ...            152.0              97.0        0\n",
              "1              0    48  1.0  ...             29.0             158.0        0\n",
              "3              1    58  1.0  ...            124.0              63.0        0\n",
              "4              0    50  1.0  ...             88.0             194.0        0\n",
              "5              0    21  1.0  ...            152.0             171.0        0\n",
              "\n",
              "[5 rows x 10 columns]"
            ]
          },
          "metadata": {},
          "execution_count": 38
        }
      ]
    },
    {
      "cell_type": "markdown",
      "metadata": {
        "id": "2bulapU1KD_A"
      },
      "source": [
        "Pemodelan Umur Kendaraan"
      ]
    },
    {
      "cell_type": "code",
      "metadata": {
        "colab": {
          "base_uri": "https://localhost:8080/"
        },
        "id": "-OAKGEwsJzKf",
        "outputId": "21063a93-525b-4f65-a04d-1023e685d859"
      },
      "source": [
        "df_train.isnull().sum()"
      ],
      "execution_count": 39,
      "outputs": [
        {
          "output_type": "execute_result",
          "data": {
            "text/plain": [
              "Jenis_Kelamin            0\n",
              "Umur                     0\n",
              "SIM                      0\n",
              "Sudah_Asuransi           0\n",
              "Umur_Kendaraan       12254\n",
              "Kendaraan_Rusak      12223\n",
              "Premi                12522\n",
              "Kanal_Penjualan      12307\n",
              "Lama_Berlangganan    11989\n",
              "Tertarik                 0\n",
              "dtype: int64"
            ]
          },
          "metadata": {},
          "execution_count": 39
        }
      ]
    },
    {
      "cell_type": "code",
      "metadata": {
        "colab": {
          "base_uri": "https://localhost:8080/"
        },
        "id": "mHQnDXs9KKX_",
        "outputId": "6590799d-9c11-4af0-8d1b-5f6f1b1ccc0c"
      },
      "source": [
        "df_train['Umur_Kendaraan'].describe()"
      ],
      "execution_count": 40,
      "outputs": [
        {
          "output_type": "execute_result",
          "data": {
            "text/plain": [
              "count        232832\n",
              "unique            3\n",
              "top       1-2 Tahun\n",
              "freq         122319\n",
              "Name: Umur_Kendaraan, dtype: object"
            ]
          },
          "metadata": {},
          "execution_count": 40
        }
      ]
    },
    {
      "cell_type": "code",
      "metadata": {
        "colab": {
          "base_uri": "https://localhost:8080/"
        },
        "id": "NbvuLeoSKOR-",
        "outputId": "77567c84-fdb2-4806-bddc-20011f7e22c9"
      },
      "source": [
        "df_train[\"Umur_Kendaraan\"].unique()"
      ],
      "execution_count": 41,
      "outputs": [
        {
          "output_type": "execute_result",
          "data": {
            "text/plain": [
              "array(['< 1 Tahun', '> 2 Tahun', '1-2 Tahun', nan], dtype=object)"
            ]
          },
          "metadata": {},
          "execution_count": 41
        }
      ]
    },
    {
      "cell_type": "code",
      "metadata": {
        "id": "O2ehb9g-KfAH"
      },
      "source": [
        "df_train = df_train[df_train['Umur_Kendaraan'].notna()]"
      ],
      "execution_count": 42,
      "outputs": []
    },
    {
      "cell_type": "code",
      "metadata": {
        "id": "F0jjP2u0Kktj"
      },
      "source": [
        "arr_umur_kendaraan = np.array(df_train[\"Umur_Kendaraan\"])"
      ],
      "execution_count": 43,
      "outputs": []
    },
    {
      "cell_type": "code",
      "metadata": {
        "colab": {
          "base_uri": "https://localhost:8080/",
          "height": 265
        },
        "id": "Go1BPBnaLDod",
        "outputId": "8be087a4-defb-4f16-aa13-089a2bc9aaaf"
      },
      "source": [
        "import matplotlib.pyplot as pp\n",
        "pp.plot(arr_umur_kendaraan)\n",
        "pp.show()"
      ],
      "execution_count": 44,
      "outputs": [
        {
          "output_type": "display_data",
          "data": {
            "image/png": "[encoded data removed]",
            "text/plain": [
              "<Figure size 432x288 with 1 Axes>"
            ]
          },
          "metadata": {
            "needs_background": "light"
          }
        }
      ]
    },
    {
      "cell_type": "code",
      "metadata": {
        "id": "YcwfNMn_LHQ3"
      },
      "source": [
        "# for i in range(len(arr_umur_kendaraan)):\n",
        "#   if arr_umur_kendaraan[i] == \"< 1 Tahun\" :\n",
        "#     arr_umur_kendaraan[i] = 0\n",
        "#   elif arr_umur_kendaraan[i] == \"1-2 Tahun\" :\n",
        "#     arr_umur_kendaraan[i] = 1\n",
        "#   elif arr_umur_kendaraan[i] == \"> 2 Tahun\" :\n",
        "#     arr_umur_kendaraan[i] = 2\n",
        "#   else:\n",
        "#     arr_umur_kendaraan[i] = 3\n",
        "\n",
        "umurkendaraan = {'< 1 Tahun': 1, '1-2 Tahun': 2, '> 2 Tahun':3}\n",
        "df_train['Umur_Kendaraan'] = df_train['Umur_Kendaraan'].map(umurkendaraan)"
      ],
      "execution_count": 45,
      "outputs": []
    },
    {
      "cell_type": "code",
      "metadata": {
        "colab": {
          "base_uri": "https://localhost:8080/",
          "height": 439
        },
        "id": "plSTK_6VLh0z",
        "outputId": "9f8c44bc-b2cb-436f-fc16-2482eb5125d3"
      },
      "source": [
        "df_train"
      ],
      "execution_count": 46,
      "outputs": [
        {
          "output_type": "execute_result",
          "data": {
            "text/html": [
              "<div>\n",
              "<style scoped>\n",
              "    .dataframe tbody tr th:only-of-type {\n",
              "        vertical-align: middle;\n",
              "    }\n",
              "\n",
              "    .dataframe tbody tr th {\n",
              "        vertical-align: top;\n",
              "    }\n",
              "\n",
              "    .dataframe thead th {\n",
              "        text-align: right;\n",
              "    }\n",
              "</style>\n",
              "<table border=\"1\" class=\"dataframe\">\n",
              "  <thead>\n",
              "    <tr style=\"text-align: right;\">\n",
              "      <th></th>\n",
              "      <th>Jenis_Kelamin</th>\n",
              "      <th>Umur</th>\n",
              "      <th>SIM</th>\n",
              "      <th>Sudah_Asuransi</th>\n",
              "      <th>Umur_Kendaraan</th>\n",
              "      <th>Kendaraan_Rusak</th>\n",
              "      <th>Premi</th>\n",
              "      <th>Kanal_Penjualan</th>\n",
              "      <th>Lama_Berlangganan</th>\n",
              "      <th>Tertarik</th>\n",
              "    </tr>\n",
              "  </thead>\n",
              "  <tbody>\n",
              "    <tr>\n",
              "      <th>0</th>\n",
              "      <td>1</td>\n",
              "      <td>30</td>\n",
              "      <td>1.0</td>\n",
              "      <td>1</td>\n",
              "      <td>1</td>\n",
              "      <td>Tidak</td>\n",
              "      <td>28029.0</td>\n",
              "      <td>152.0</td>\n",
              "      <td>97.0</td>\n",
              "      <td>0</td>\n",
              "    </tr>\n",
              "    <tr>\n",
              "      <th>1</th>\n",
              "      <td>0</td>\n",
              "      <td>48</td>\n",
              "      <td>1.0</td>\n",
              "      <td>0</td>\n",
              "      <td>3</td>\n",
              "      <td>Pernah</td>\n",
              "      <td>25800.0</td>\n",
              "      <td>29.0</td>\n",
              "      <td>158.0</td>\n",
              "      <td>0</td>\n",
              "    </tr>\n",
              "    <tr>\n",
              "      <th>3</th>\n",
              "      <td>1</td>\n",
              "      <td>58</td>\n",
              "      <td>1.0</td>\n",
              "      <td>0</td>\n",
              "      <td>2</td>\n",
              "      <td>Tidak</td>\n",
              "      <td>2630.0</td>\n",
              "      <td>124.0</td>\n",
              "      <td>63.0</td>\n",
              "      <td>0</td>\n",
              "    </tr>\n",
              "    <tr>\n",
              "      <th>4</th>\n",
              "      <td>0</td>\n",
              "      <td>50</td>\n",
              "      <td>1.0</td>\n",
              "      <td>0</td>\n",
              "      <td>3</td>\n",
              "      <td>NaN</td>\n",
              "      <td>34857.0</td>\n",
              "      <td>88.0</td>\n",
              "      <td>194.0</td>\n",
              "      <td>0</td>\n",
              "    </tr>\n",
              "    <tr>\n",
              "      <th>5</th>\n",
              "      <td>0</td>\n",
              "      <td>21</td>\n",
              "      <td>1.0</td>\n",
              "      <td>1</td>\n",
              "      <td>1</td>\n",
              "      <td>Tidak</td>\n",
              "      <td>22735.0</td>\n",
              "      <td>152.0</td>\n",
              "      <td>171.0</td>\n",
              "      <td>0</td>\n",
              "    </tr>\n",
              "    <tr>\n",
              "      <th>...</th>\n",
              "      <td>...</td>\n",
              "      <td>...</td>\n",
              "      <td>...</td>\n",
              "      <td>...</td>\n",
              "      <td>...</td>\n",
              "      <td>...</td>\n",
              "      <td>...</td>\n",
              "      <td>...</td>\n",
              "      <td>...</td>\n",
              "      <td>...</td>\n",
              "    </tr>\n",
              "    <tr>\n",
              "      <th>285826</th>\n",
              "      <td>1</td>\n",
              "      <td>23</td>\n",
              "      <td>1.0</td>\n",
              "      <td>1</td>\n",
              "      <td>1</td>\n",
              "      <td>Tidak</td>\n",
              "      <td>25988.0</td>\n",
              "      <td>152.0</td>\n",
              "      <td>217.0</td>\n",
              "      <td>0</td>\n",
              "    </tr>\n",
              "    <tr>\n",
              "      <th>285827</th>\n",
              "      <td>1</td>\n",
              "      <td>21</td>\n",
              "      <td>1.0</td>\n",
              "      <td>1</td>\n",
              "      <td>1</td>\n",
              "      <td>Tidak</td>\n",
              "      <td>44686.0</td>\n",
              "      <td>152.0</td>\n",
              "      <td>50.0</td>\n",
              "      <td>0</td>\n",
              "    </tr>\n",
              "    <tr>\n",
              "      <th>285828</th>\n",
              "      <td>1</td>\n",
              "      <td>23</td>\n",
              "      <td>1.0</td>\n",
              "      <td>1</td>\n",
              "      <td>1</td>\n",
              "      <td>Tidak</td>\n",
              "      <td>49751.0</td>\n",
              "      <td>152.0</td>\n",
              "      <td>226.0</td>\n",
              "      <td>0</td>\n",
              "    </tr>\n",
              "    <tr>\n",
              "      <th>285829</th>\n",
              "      <td>0</td>\n",
              "      <td>68</td>\n",
              "      <td>1.0</td>\n",
              "      <td>1</td>\n",
              "      <td>2</td>\n",
              "      <td>Tidak</td>\n",
              "      <td>30503.0</td>\n",
              "      <td>124.0</td>\n",
              "      <td>270.0</td>\n",
              "      <td>0</td>\n",
              "    </tr>\n",
              "    <tr>\n",
              "      <th>285830</th>\n",
              "      <td>0</td>\n",
              "      <td>45</td>\n",
              "      <td>1.0</td>\n",
              "      <td>0</td>\n",
              "      <td>2</td>\n",
              "      <td>Pernah</td>\n",
              "      <td>36480.0</td>\n",
              "      <td>26.0</td>\n",
              "      <td>44.0</td>\n",
              "      <td>0</td>\n",
              "    </tr>\n",
              "  </tbody>\n",
              "</table>\n",
              "<p>232832 rows × 10 columns</p>\n",
              "</div>"
            ],
            "text/plain": [
              "        Jenis_Kelamin  Umur  SIM  ...  Kanal_Penjualan  Lama_Berlangganan Tertarik\n",
              "0                   1    30  1.0  ...            152.0               97.0        0\n",
              "1                   0    48  1.0  ...             29.0              158.0        0\n",
              "3                   1    58  1.0  ...            124.0               63.0        0\n",
              "4                   0    50  1.0  ...             88.0              194.0        0\n",
              "5                   0    21  1.0  ...            152.0              171.0        0\n",
              "...               ...   ...  ...  ...              ...                ...      ...\n",
              "285826              1    23  1.0  ...            152.0              217.0        0\n",
              "285827              1    21  1.0  ...            152.0               50.0        0\n",
              "285828              1    23  1.0  ...            152.0              226.0        0\n",
              "285829              0    68  1.0  ...            124.0              270.0        0\n",
              "285830              0    45  1.0  ...             26.0               44.0        0\n",
              "\n",
              "[232832 rows x 10 columns]"
            ]
          },
          "metadata": {},
          "execution_count": 46
        }
      ]
    },
    {
      "cell_type": "code",
      "metadata": {
        "colab": {
          "base_uri": "https://localhost:8080/"
        },
        "id": "EC7TuMJFMAb3",
        "outputId": "4be24539-3f1b-49c0-a003-a0d1968bac83"
      },
      "source": [
        "df_train[\"Umur_Kendaraan\"].unique()"
      ],
      "execution_count": 47,
      "outputs": [
        {
          "output_type": "execute_result",
          "data": {
            "text/plain": [
              "array([1, 3, 2])"
            ]
          },
          "metadata": {},
          "execution_count": 47
        }
      ]
    },
    {
      "cell_type": "markdown",
      "metadata": {
        "id": "IpIV0H5kUDks"
      },
      "source": [
        "Pemodelan Kendaraan Rusak"
      ]
    },
    {
      "cell_type": "code",
      "metadata": {
        "colab": {
          "base_uri": "https://localhost:8080/"
        },
        "id": "ZrVU3KyYRTyN",
        "outputId": "5844ea09-afbf-4b07-922a-3a181eb029d0"
      },
      "source": [
        "df_train['Kendaraan_Rusak'].describe()"
      ],
      "execution_count": 48,
      "outputs": [
        {
          "output_type": "execute_result",
          "data": {
            "text/plain": [
              "count     221196\n",
              "unique         2\n",
              "top       Pernah\n",
              "freq      111610\n",
              "Name: Kendaraan_Rusak, dtype: object"
            ]
          },
          "metadata": {},
          "execution_count": 48
        }
      ]
    },
    {
      "cell_type": "code",
      "metadata": {
        "colab": {
          "base_uri": "https://localhost:8080/"
        },
        "id": "oxL42jwGUA5K",
        "outputId": "b516825c-f62f-412c-b8d4-66e08118974d"
      },
      "source": [
        "df_train[\"Kendaraan_Rusak\"].unique()"
      ],
      "execution_count": 49,
      "outputs": [
        {
          "output_type": "execute_result",
          "data": {
            "text/plain": [
              "array(['Tidak', 'Pernah', nan], dtype=object)"
            ]
          },
          "metadata": {},
          "execution_count": 49
        }
      ]
    },
    {
      "cell_type": "code",
      "metadata": {
        "id": "irVOx8jBTVkl"
      },
      "source": [
        "df_train = df_train[df_train['Kendaraan_Rusak'].notna()]"
      ],
      "execution_count": 50,
      "outputs": []
    },
    {
      "cell_type": "code",
      "metadata": {
        "colab": {
          "base_uri": "https://localhost:8080/",
          "height": 224
        },
        "id": "3YcuOVe8T99l",
        "outputId": "db952e7d-8565-47ce-eb9f-e9b7a715270c"
      },
      "source": [
        "df_train.head()"
      ],
      "execution_count": 51,
      "outputs": [
        {
          "output_type": "execute_result",
          "data": {
            "text/html": [
              "<div>\n",
              "<style scoped>\n",
              "    .dataframe tbody tr th:only-of-type {\n",
              "        vertical-align: middle;\n",
              "    }\n",
              "\n",
              "    .dataframe tbody tr th {\n",
              "        vertical-align: top;\n",
              "    }\n",
              "\n",
              "    .dataframe thead th {\n",
              "        text-align: right;\n",
              "    }\n",
              "</style>\n",
              "<table border=\"1\" class=\"dataframe\">\n",
              "  <thead>\n",
              "    <tr style=\"text-align: right;\">\n",
              "      <th></th>\n",
              "      <th>Jenis_Kelamin</th>\n",
              "      <th>Umur</th>\n",
              "      <th>SIM</th>\n",
              "      <th>Sudah_Asuransi</th>\n",
              "      <th>Umur_Kendaraan</th>\n",
              "      <th>Kendaraan_Rusak</th>\n",
              "      <th>Premi</th>\n",
              "      <th>Kanal_Penjualan</th>\n",
              "      <th>Lama_Berlangganan</th>\n",
              "      <th>Tertarik</th>\n",
              "    </tr>\n",
              "  </thead>\n",
              "  <tbody>\n",
              "    <tr>\n",
              "      <th>0</th>\n",
              "      <td>1</td>\n",
              "      <td>30</td>\n",
              "      <td>1.0</td>\n",
              "      <td>1</td>\n",
              "      <td>1</td>\n",
              "      <td>Tidak</td>\n",
              "      <td>28029.0</td>\n",
              "      <td>152.0</td>\n",
              "      <td>97.0</td>\n",
              "      <td>0</td>\n",
              "    </tr>\n",
              "    <tr>\n",
              "      <th>1</th>\n",
              "      <td>0</td>\n",
              "      <td>48</td>\n",
              "      <td>1.0</td>\n",
              "      <td>0</td>\n",
              "      <td>3</td>\n",
              "      <td>Pernah</td>\n",
              "      <td>25800.0</td>\n",
              "      <td>29.0</td>\n",
              "      <td>158.0</td>\n",
              "      <td>0</td>\n",
              "    </tr>\n",
              "    <tr>\n",
              "      <th>3</th>\n",
              "      <td>1</td>\n",
              "      <td>58</td>\n",
              "      <td>1.0</td>\n",
              "      <td>0</td>\n",
              "      <td>2</td>\n",
              "      <td>Tidak</td>\n",
              "      <td>2630.0</td>\n",
              "      <td>124.0</td>\n",
              "      <td>63.0</td>\n",
              "      <td>0</td>\n",
              "    </tr>\n",
              "    <tr>\n",
              "      <th>5</th>\n",
              "      <td>0</td>\n",
              "      <td>21</td>\n",
              "      <td>1.0</td>\n",
              "      <td>1</td>\n",
              "      <td>1</td>\n",
              "      <td>Tidak</td>\n",
              "      <td>22735.0</td>\n",
              "      <td>152.0</td>\n",
              "      <td>171.0</td>\n",
              "      <td>0</td>\n",
              "    </tr>\n",
              "    <tr>\n",
              "      <th>7</th>\n",
              "      <td>0</td>\n",
              "      <td>23</td>\n",
              "      <td>0.0</td>\n",
              "      <td>1</td>\n",
              "      <td>1</td>\n",
              "      <td>Tidak</td>\n",
              "      <td>26869.0</td>\n",
              "      <td>152.0</td>\n",
              "      <td>222.0</td>\n",
              "      <td>0</td>\n",
              "    </tr>\n",
              "  </tbody>\n",
              "</table>\n",
              "</div>"
            ],
            "text/plain": [
              "   Jenis_Kelamin  Umur  SIM  ...  Kanal_Penjualan  Lama_Berlangganan Tertarik\n",
              "0              1    30  1.0  ...            152.0               97.0        0\n",
              "1              0    48  1.0  ...             29.0              158.0        0\n",
              "3              1    58  1.0  ...            124.0               63.0        0\n",
              "5              0    21  1.0  ...            152.0              171.0        0\n",
              "7              0    23  0.0  ...            152.0              222.0        0\n",
              "\n",
              "[5 rows x 10 columns]"
            ]
          },
          "metadata": {},
          "execution_count": 51
        }
      ]
    },
    {
      "cell_type": "code",
      "metadata": {
        "colab": {
          "base_uri": "https://localhost:8080/"
        },
        "id": "qhYC3_9AVc5C",
        "outputId": "2a11e540-9a18-4eb2-edbc-329579f8ff77"
      },
      "source": [
        "label_enc = LabelEncoder()\n",
        "df_train[\"Kendaraan_Rusak\"] = label_enc.fit_transform(df_train[\"Kendaraan_Rusak\"])"
      ],
      "execution_count": 52,
      "outputs": [
        {
          "output_type": "stream",
          "name": "stderr",
          "text": [
            "/usr/local/lib/python3.7/dist-packages/ipykernel_launcher.py:2: SettingWithCopyWarning: \n",
            "A value is trying to be set on a copy of a slice from a DataFrame.\n",
            "Try using .loc[row_indexer,col_indexer] = value instead\n",
            "\n",
            "See the caveats in the documentation: https://pandas.pydata.org/pandas-docs/stable/user_guide/indexing.html#returning-a-view-versus-a-copy\n",
            "  \n"
          ]
        }
      ]
    },
    {
      "cell_type": "code",
      "metadata": {
        "colab": {
          "base_uri": "https://localhost:8080/",
          "height": 224
        },
        "id": "GP0Pf4NsV7-a",
        "outputId": "90a981e2-e951-4057-f4a4-32e921d14c9d"
      },
      "source": [
        "df_train.head()"
      ],
      "execution_count": 53,
      "outputs": [
        {
          "output_type": "execute_result",
          "data": {
            "text/html": [
              "<div>\n",
              "<style scoped>\n",
              "    .dataframe tbody tr th:only-of-type {\n",
              "        vertical-align: middle;\n",
              "    }\n",
              "\n",
              "    .dataframe tbody tr th {\n",
              "        vertical-align: top;\n",
              "    }\n",
              "\n",
              "    .dataframe thead th {\n",
              "        text-align: right;\n",
              "    }\n",
              "</style>\n",
              "<table border=\"1\" class=\"dataframe\">\n",
              "  <thead>\n",
              "    <tr style=\"text-align: right;\">\n",
              "      <th></th>\n",
              "      <th>Jenis_Kelamin</th>\n",
              "      <th>Umur</th>\n",
              "      <th>SIM</th>\n",
              "      <th>Sudah_Asuransi</th>\n",
              "      <th>Umur_Kendaraan</th>\n",
              "      <th>Kendaraan_Rusak</th>\n",
              "      <th>Premi</th>\n",
              "      <th>Kanal_Penjualan</th>\n",
              "      <th>Lama_Berlangganan</th>\n",
              "      <th>Tertarik</th>\n",
              "    </tr>\n",
              "  </thead>\n",
              "  <tbody>\n",
              "    <tr>\n",
              "      <th>0</th>\n",
              "      <td>1</td>\n",
              "      <td>30</td>\n",
              "      <td>1.0</td>\n",
              "      <td>1</td>\n",
              "      <td>1</td>\n",
              "      <td>1</td>\n",
              "      <td>28029.0</td>\n",
              "      <td>152.0</td>\n",
              "      <td>97.0</td>\n",
              "      <td>0</td>\n",
              "    </tr>\n",
              "    <tr>\n",
              "      <th>1</th>\n",
              "      <td>0</td>\n",
              "      <td>48</td>\n",
              "      <td>1.0</td>\n",
              "      <td>0</td>\n",
              "      <td>3</td>\n",
              "      <td>0</td>\n",
              "      <td>25800.0</td>\n",
              "      <td>29.0</td>\n",
              "      <td>158.0</td>\n",
              "      <td>0</td>\n",
              "    </tr>\n",
              "    <tr>\n",
              "      <th>3</th>\n",
              "      <td>1</td>\n",
              "      <td>58</td>\n",
              "      <td>1.0</td>\n",
              "      <td>0</td>\n",
              "      <td>2</td>\n",
              "      <td>1</td>\n",
              "      <td>2630.0</td>\n",
              "      <td>124.0</td>\n",
              "      <td>63.0</td>\n",
              "      <td>0</td>\n",
              "    </tr>\n",
              "    <tr>\n",
              "      <th>5</th>\n",
              "      <td>0</td>\n",
              "      <td>21</td>\n",
              "      <td>1.0</td>\n",
              "      <td>1</td>\n",
              "      <td>1</td>\n",
              "      <td>1</td>\n",
              "      <td>22735.0</td>\n",
              "      <td>152.0</td>\n",
              "      <td>171.0</td>\n",
              "      <td>0</td>\n",
              "    </tr>\n",
              "    <tr>\n",
              "      <th>7</th>\n",
              "      <td>0</td>\n",
              "      <td>23</td>\n",
              "      <td>0.0</td>\n",
              "      <td>1</td>\n",
              "      <td>1</td>\n",
              "      <td>1</td>\n",
              "      <td>26869.0</td>\n",
              "      <td>152.0</td>\n",
              "      <td>222.0</td>\n",
              "      <td>0</td>\n",
              "    </tr>\n",
              "  </tbody>\n",
              "</table>\n",
              "</div>"
            ],
            "text/plain": [
              "   Jenis_Kelamin  Umur  SIM  ...  Kanal_Penjualan  Lama_Berlangganan  Tertarik\n",
              "0              1    30  1.0  ...            152.0               97.0         0\n",
              "1              0    48  1.0  ...             29.0              158.0         0\n",
              "3              1    58  1.0  ...            124.0               63.0         0\n",
              "5              0    21  1.0  ...            152.0              171.0         0\n",
              "7              0    23  0.0  ...            152.0              222.0         0\n",
              "\n",
              "[5 rows x 10 columns]"
            ]
          },
          "metadata": {},
          "execution_count": 53
        }
      ]
    },
    {
      "cell_type": "code",
      "metadata": {
        "colab": {
          "base_uri": "https://localhost:8080/"
        },
        "id": "Wq1t55owV-_G",
        "outputId": "38b21ba6-8030-475f-baee-aa0ac5a02511"
      },
      "source": [
        "df_train['Kendaraan_Rusak'] = df_train[\"Kendaraan_Rusak\"].astype(np.int64)"
      ],
      "execution_count": 54,
      "outputs": [
        {
          "output_type": "stream",
          "name": "stderr",
          "text": [
            "/usr/local/lib/python3.7/dist-packages/ipykernel_launcher.py:1: SettingWithCopyWarning: \n",
            "A value is trying to be set on a copy of a slice from a DataFrame.\n",
            "Try using .loc[row_indexer,col_indexer] = value instead\n",
            "\n",
            "See the caveats in the documentation: https://pandas.pydata.org/pandas-docs/stable/user_guide/indexing.html#returning-a-view-versus-a-copy\n",
            "  \"\"\"Entry point for launching an IPython kernel.\n"
          ]
        }
      ]
    },
    {
      "cell_type": "markdown",
      "metadata": {
        "id": "gWjdRac6WdkX"
      },
      "source": [
        "Pemodelan Premi\n",
        "\n",
        "\n",
        "\n"
      ]
    },
    {
      "cell_type": "code",
      "metadata": {
        "colab": {
          "base_uri": "https://localhost:8080/"
        },
        "id": "oBQrbRBkWKBv",
        "outputId": "f4b15bf5-19ce-45c2-cb8d-183d6fa5c9a7"
      },
      "source": [
        "df_train['Premi'].describe()"
      ],
      "execution_count": 55,
      "outputs": [
        {
          "output_type": "execute_result",
          "data": {
            "text/plain": [
              "count    209944.000000\n",
              "mean      30527.227623\n",
              "std       17135.870937\n",
              "min        2630.000000\n",
              "25%       24371.000000\n",
              "50%       31615.000000\n",
              "75%       39374.000000\n",
              "max      540165.000000\n",
              "Name: Premi, dtype: float64"
            ]
          },
          "metadata": {},
          "execution_count": 55
        }
      ]
    },
    {
      "cell_type": "code",
      "metadata": {
        "id": "Kh5FGIsNWnVg"
      },
      "source": [
        "arr_premi = np.array(df_train[\"Premi\"])"
      ],
      "execution_count": 56,
      "outputs": []
    },
    {
      "cell_type": "code",
      "metadata": {
        "colab": {
          "base_uri": "https://localhost:8080/",
          "height": 265
        },
        "id": "py-s-wFlWund",
        "outputId": "12ff91b1-f25c-4124-92fa-861a67126e13"
      },
      "source": [
        "pp.plot(arr_premi)\n",
        "pp.show()"
      ],
      "execution_count": 57,
      "outputs": [
        {
          "output_type": "display_data",
          "data": {
            "image/png": "[encoded data removed]",
            "text/plain": [
              "<Figure size 432x288 with 1 Axes>"
            ]
          },
          "metadata": {
            "needs_background": "light"
          }
        }
      ]
    },
    {
      "cell_type": "code",
      "metadata": {
        "colab": {
          "base_uri": "https://localhost:8080/"
        },
        "id": "DZ4EOgv4WxvH",
        "outputId": "ca566bb1-96ac-42b1-d15c-97518c7d51c6"
      },
      "source": [
        "df_train[\"Premi\"].unique()"
      ],
      "execution_count": 58,
      "outputs": [
        {
          "output_type": "execute_result",
          "data": {
            "text/plain": [
              "array([28029., 25800.,  2630., ..., 77615., 72125., 52138.])"
            ]
          },
          "metadata": {},
          "execution_count": 58
        }
      ]
    },
    {
      "cell_type": "code",
      "metadata": {
        "id": "RwNl8Ac3W-4O"
      },
      "source": [
        "df_train = df_train[df_train['Premi'].notna()]"
      ],
      "execution_count": 59,
      "outputs": []
    },
    {
      "cell_type": "code",
      "metadata": {
        "id": "DddcAikyXJeU"
      },
      "source": [
        "for i in range(len(arr_premi)):\n",
        "  if arr_premi[i] < 24371 :\n",
        "    arr_premi[i] = 0\n",
        "  elif arr_premi[i] < 31615 :\n",
        "    arr_premi[i] = 1\n",
        "  elif arr_premi[i] < 39374 :\n",
        "    arr_premi[i] = 2\n",
        "  else:\n",
        "    arr_premi[i] = 3"
      ],
      "execution_count": 60,
      "outputs": []
    },
    {
      "cell_type": "code",
      "metadata": {
        "colab": {
          "base_uri": "https://localhost:8080/"
        },
        "id": "PR9BlM8SXvCp",
        "outputId": "580f1379-ffd7-4032-c8b5-56bba612c801"
      },
      "source": [
        "arr_premi"
      ],
      "execution_count": 61,
      "outputs": [
        {
          "output_type": "execute_result",
          "data": {
            "text/plain": [
              "array([1., 1., 0., ..., 3., 1., 3.])"
            ]
          },
          "metadata": {},
          "execution_count": 61
        }
      ]
    },
    {
      "cell_type": "code",
      "metadata": {
        "colab": {
          "base_uri": "https://localhost:8080/"
        },
        "id": "VXDcMs-kXx1-",
        "outputId": "32002e1e-5ab1-412c-b3b5-f509159af85b"
      },
      "source": [
        "for i in range(len(arr_premi)):\n",
        "  df_train[\"Premi\"][i] = arr_premi[i]"
      ],
      "execution_count": 62,
      "outputs": [
        {
          "output_type": "stream",
          "name": "stderr",
          "text": [
            "/usr/local/lib/python3.7/dist-packages/ipykernel_launcher.py:2: SettingWithCopyWarning: \n",
            "A value is trying to be set on a copy of a slice from a DataFrame\n",
            "\n",
            "See the caveats in the documentation: https://pandas.pydata.org/pandas-docs/stable/user_guide/indexing.html#returning-a-view-versus-a-copy\n",
            "  \n"
          ]
        }
      ]
    },
    {
      "cell_type": "code",
      "metadata": {
        "colab": {
          "base_uri": "https://localhost:8080/",
          "height": 224
        },
        "id": "jUEjBxd9X5Wo",
        "outputId": "263c6754-a48c-4003-9d9b-8f2aa3b55713"
      },
      "source": [
        "df_train.head()"
      ],
      "execution_count": 63,
      "outputs": [
        {
          "output_type": "execute_result",
          "data": {
            "text/html": [
              "<div>\n",
              "<style scoped>\n",
              "    .dataframe tbody tr th:only-of-type {\n",
              "        vertical-align: middle;\n",
              "    }\n",
              "\n",
              "    .dataframe tbody tr th {\n",
              "        vertical-align: top;\n",
              "    }\n",
              "\n",
              "    .dataframe thead th {\n",
              "        text-align: right;\n",
              "    }\n",
              "</style>\n",
              "<table border=\"1\" class=\"dataframe\">\n",
              "  <thead>\n",
              "    <tr style=\"text-align: right;\">\n",
              "      <th></th>\n",
              "      <th>Jenis_Kelamin</th>\n",
              "      <th>Umur</th>\n",
              "      <th>SIM</th>\n",
              "      <th>Sudah_Asuransi</th>\n",
              "      <th>Umur_Kendaraan</th>\n",
              "      <th>Kendaraan_Rusak</th>\n",
              "      <th>Premi</th>\n",
              "      <th>Kanal_Penjualan</th>\n",
              "      <th>Lama_Berlangganan</th>\n",
              "      <th>Tertarik</th>\n",
              "    </tr>\n",
              "  </thead>\n",
              "  <tbody>\n",
              "    <tr>\n",
              "      <th>0</th>\n",
              "      <td>1</td>\n",
              "      <td>30</td>\n",
              "      <td>1.0</td>\n",
              "      <td>1</td>\n",
              "      <td>1</td>\n",
              "      <td>1</td>\n",
              "      <td>1.0</td>\n",
              "      <td>152.0</td>\n",
              "      <td>97.0</td>\n",
              "      <td>0</td>\n",
              "    </tr>\n",
              "    <tr>\n",
              "      <th>1</th>\n",
              "      <td>0</td>\n",
              "      <td>48</td>\n",
              "      <td>1.0</td>\n",
              "      <td>0</td>\n",
              "      <td>3</td>\n",
              "      <td>0</td>\n",
              "      <td>1.0</td>\n",
              "      <td>29.0</td>\n",
              "      <td>158.0</td>\n",
              "      <td>0</td>\n",
              "    </tr>\n",
              "    <tr>\n",
              "      <th>3</th>\n",
              "      <td>1</td>\n",
              "      <td>58</td>\n",
              "      <td>1.0</td>\n",
              "      <td>0</td>\n",
              "      <td>2</td>\n",
              "      <td>1</td>\n",
              "      <td>0.0</td>\n",
              "      <td>124.0</td>\n",
              "      <td>63.0</td>\n",
              "      <td>0</td>\n",
              "    </tr>\n",
              "    <tr>\n",
              "      <th>5</th>\n",
              "      <td>0</td>\n",
              "      <td>21</td>\n",
              "      <td>1.0</td>\n",
              "      <td>1</td>\n",
              "      <td>1</td>\n",
              "      <td>1</td>\n",
              "      <td>1.0</td>\n",
              "      <td>152.0</td>\n",
              "      <td>171.0</td>\n",
              "      <td>0</td>\n",
              "    </tr>\n",
              "    <tr>\n",
              "      <th>7</th>\n",
              "      <td>0</td>\n",
              "      <td>23</td>\n",
              "      <td>0.0</td>\n",
              "      <td>1</td>\n",
              "      <td>1</td>\n",
              "      <td>1</td>\n",
              "      <td>3.0</td>\n",
              "      <td>152.0</td>\n",
              "      <td>222.0</td>\n",
              "      <td>0</td>\n",
              "    </tr>\n",
              "  </tbody>\n",
              "</table>\n",
              "</div>"
            ],
            "text/plain": [
              "   Jenis_Kelamin  Umur  SIM  ...  Kanal_Penjualan  Lama_Berlangganan  Tertarik\n",
              "0              1    30  1.0  ...            152.0               97.0         0\n",
              "1              0    48  1.0  ...             29.0              158.0         0\n",
              "3              1    58  1.0  ...            124.0               63.0         0\n",
              "5              0    21  1.0  ...            152.0              171.0         0\n",
              "7              0    23  0.0  ...            152.0              222.0         0\n",
              "\n",
              "[5 rows x 10 columns]"
            ]
          },
          "metadata": {},
          "execution_count": 63
        }
      ]
    },
    {
      "cell_type": "code",
      "metadata": {
        "id": "5DpKVNMJYn5T"
      },
      "source": [
        "df_train['Premi'] = df_train[\"Premi\"].astype(np.int64)"
      ],
      "execution_count": 64,
      "outputs": []
    },
    {
      "cell_type": "code",
      "metadata": {
        "colab": {
          "base_uri": "https://localhost:8080/"
        },
        "id": "JmDRMXTROqVO",
        "outputId": "07af07aa-e312-4abf-a6ae-d7a2b4169efd"
      },
      "source": [
        "df_train[\"Premi\"].unique()"
      ],
      "execution_count": 74,
      "outputs": [
        {
          "output_type": "execute_result",
          "data": {
            "text/plain": [
              "array([    1,     0,     3, ..., 25988, 44686, 49751])"
            ]
          },
          "metadata": {},
          "execution_count": 74
        }
      ]
    },
    {
      "cell_type": "markdown",
      "metadata": {
        "id": "0OndgB4id3Xe"
      },
      "source": [
        "Pemodelan Kanal Penjualan"
      ]
    },
    {
      "cell_type": "code",
      "metadata": {
        "colab": {
          "base_uri": "https://localhost:8080/"
        },
        "id": "VqaQ1-6UY6Da",
        "outputId": "8f1d3cd5-4736-46f0-d9c1-bca2b4dc252b"
      },
      "source": [
        "df_train['Kanal_Penjualan'].describe()"
      ],
      "execution_count": 65,
      "outputs": [
        {
          "output_type": "execute_result",
          "data": {
            "text/plain": [
              "count    199350.000000\n",
              "mean        112.165001\n",
              "std          54.145956\n",
              "min           1.000000\n",
              "25%          29.000000\n",
              "50%         138.000000\n",
              "75%         152.000000\n",
              "max         163.000000\n",
              "Name: Kanal_Penjualan, dtype: float64"
            ]
          },
          "metadata": {},
          "execution_count": 65
        }
      ]
    },
    {
      "cell_type": "code",
      "metadata": {
        "id": "OlE8987Rd2cL"
      },
      "source": [
        "arr_kanal = np.array(df_train[\"Kanal_Penjualan\"])"
      ],
      "execution_count": 69,
      "outputs": []
    },
    {
      "cell_type": "code",
      "metadata": {
        "colab": {
          "base_uri": "https://localhost:8080/",
          "height": 265
        },
        "id": "k6ThBMQ2NHBQ",
        "outputId": "d81c64ce-5d8a-44a6-ce2a-726326df3822"
      },
      "source": [
        "pp.plot(arr_kanal)\n",
        "pp.show()"
      ],
      "execution_count": 73,
      "outputs": [
        {
          "output_type": "display_data",
          "data": {
            "image/png": "[encoded data removed]",
            "text/plain": [
              "<Figure size 432x288 with 1 Axes>"
            ]
          },
          "metadata": {
            "needs_background": "light"
          }
        }
      ]
    },
    {
      "cell_type": "code",
      "metadata": {
        "colab": {
          "base_uri": "https://localhost:8080/"
        },
        "id": "CdzemTTyNLAu",
        "outputId": "b26550f2-4567-4335-9213-e0d804bd877f"
      },
      "source": [
        "df_train[\"Kanal_Penjualan\"].unique()"
      ],
      "execution_count": 71,
      "outputs": [
        {
          "output_type": "execute_result",
          "data": {
            "text/plain": [
              "array([152.,  29., 124., 160., 145.,  31.,  nan,  26., 156., 122.,   7.,\n",
              "       154.,  25.,  11., 133., 157.,  30.,  52.,  23.,  14.,  16., 163.,\n",
              "       151.,   4., 155.,  24.,  22., 120.,   8., 125.,  12.,   3.,  94.,\n",
              "       153., 131.,  60., 150.,  47.,  55.,  10.,  13., 138.,  15., 159.,\n",
              "        18., 158.,  37.,  19., 148.,   1., 129.,  64., 147.,  56.,  61.,\n",
              "       136.,   9., 119., 106., 111.,  35., 135.,  65.,  42.,  21., 140.,\n",
              "       132.,  48.,  59.,  66., 139.,  54., 108.,  36., 116.,  44.,  86.,\n",
              "        80.,  46.,  40.,  95., 127., 109., 113., 137.,  75.,  97., 123.,\n",
              "       103., 126., 130.,  91., 100., 128.,  78.,  68.,  63.,  53., 121.,\n",
              "        57.,  32.,  93., 134.,  49., 114.,  92.,  87., 118.,  98., 117.,\n",
              "       110., 107.,  88.,  38.,  76.,  73.,  90.,  20.,  51.,  96., 146.,\n",
              "        83.,  58.,  84.,  50.,  79.,  89.,  45.,  28.,  17., 105., 144.,\n",
              "         2.,  62.,  81.,  69.,  71.,  33.,  39.,  34.,  67.,  82., 102.,\n",
              "        99., 101.,  70., 115.,  74.])"
            ]
          },
          "metadata": {},
          "execution_count": 71
        }
      ]
    },
    {
      "cell_type": "code",
      "metadata": {
        "id": "mODrApOoNLJd"
      },
      "source": [
        "df_train = df_train[df_train['Kanal_Penjualan'].notna()]"
      ],
      "execution_count": 75,
      "outputs": []
    },
    {
      "cell_type": "code",
      "metadata": {
        "id": "Y0QmOJqcNsG9"
      },
      "source": [
        "for i in range(len(arr_kanal)):\n",
        "  if arr_kanal[i] < 29 :\n",
        "    arr_kanal[i] = 0\n",
        "  elif arr_kanal[i] < 138 :\n",
        "    arr_kanal[i] = 1\n",
        "  elif arr_kanal[i] < 152 :\n",
        "    arr_kanal[i] = 2\n",
        "  else:\n",
        "    arr_kanal[i] = 3"
      ],
      "execution_count": 77,
      "outputs": []
    },
    {
      "cell_type": "code",
      "metadata": {
        "colab": {
          "base_uri": "https://localhost:8080/"
        },
        "id": "nwJHNhxbN1ec",
        "outputId": "99bc8525-5c37-40df-cd53-fcf44ea7ca44"
      },
      "source": [
        "arr_kanal"
      ],
      "execution_count": 78,
      "outputs": [
        {
          "output_type": "execute_result",
          "data": {
            "text/plain": [
              "array([3., 1., 1., ..., 3., 1., 0.])"
            ]
          },
          "metadata": {},
          "execution_count": 78
        }
      ]
    },
    {
      "cell_type": "code",
      "metadata": {
        "colab": {
          "base_uri": "https://localhost:8080/",
          "height": 265
        },
        "id": "_Yk1MS-VPCgx",
        "outputId": "4352ffcb-eaf9-4290-a75c-0663d30422d7"
      },
      "source": [
        "pp.plot(arr_kanal)\n",
        "pp.show()"
      ],
      "execution_count": 79,
      "outputs": [
        {
          "output_type": "display_data",
          "data": {
            "image/png": "[encoded data removed]",
            "text/plain": [
              "<Figure size 432x288 with 1 Axes>"
            ]
          },
          "metadata": {
            "needs_background": "light"
          }
        }
      ]
    },
    {
      "cell_type": "code",
      "metadata": {
        "colab": {
          "base_uri": "https://localhost:8080/"
        },
        "id": "RzYngDYBPIiy",
        "outputId": "f9ef9fcf-43df-459c-9bed-92eabce0fb40"
      },
      "source": [
        "for i in range(len(arr_kanal)):\n",
        "  df_train[\"Kanal_Penjualan\"][i] = arr_kanal[i]"
      ],
      "execution_count": 80,
      "outputs": [
        {
          "output_type": "stream",
          "name": "stderr",
          "text": [
            "/usr/local/lib/python3.7/dist-packages/ipykernel_launcher.py:2: SettingWithCopyWarning: \n",
            "A value is trying to be set on a copy of a slice from a DataFrame\n",
            "\n",
            "See the caveats in the documentation: https://pandas.pydata.org/pandas-docs/stable/user_guide/indexing.html#returning-a-view-versus-a-copy\n",
            "  \n"
          ]
        }
      ]
    },
    {
      "cell_type": "code",
      "metadata": {
        "id": "_APt-rCiPvuJ"
      },
      "source": [
        "df_train['Kanal_Penjualan'] = df_train[\"Kanal_Penjualan\"].astype(np.int64)"
      ],
      "execution_count": 82,
      "outputs": []
    },
    {
      "cell_type": "code",
      "metadata": {
        "colab": {
          "base_uri": "https://localhost:8080/",
          "height": 224
        },
        "id": "n9Cwz0_GPP_G",
        "outputId": "747f91ab-9ba4-492b-f7a4-308974ca6257"
      },
      "source": [
        "df_train.head()"
      ],
      "execution_count": 83,
      "outputs": [
        {
          "output_type": "execute_result",
          "data": {
            "text/html": [
              "<div>\n",
              "<style scoped>\n",
              "    .dataframe tbody tr th:only-of-type {\n",
              "        vertical-align: middle;\n",
              "    }\n",
              "\n",
              "    .dataframe tbody tr th {\n",
              "        vertical-align: top;\n",
              "    }\n",
              "\n",
              "    .dataframe thead th {\n",
              "        text-align: right;\n",
              "    }\n",
              "</style>\n",
              "<table border=\"1\" class=\"dataframe\">\n",
              "  <thead>\n",
              "    <tr style=\"text-align: right;\">\n",
              "      <th></th>\n",
              "      <th>Jenis_Kelamin</th>\n",
              "      <th>Umur</th>\n",
              "      <th>SIM</th>\n",
              "      <th>Sudah_Asuransi</th>\n",
              "      <th>Umur_Kendaraan</th>\n",
              "      <th>Kendaraan_Rusak</th>\n",
              "      <th>Premi</th>\n",
              "      <th>Kanal_Penjualan</th>\n",
              "      <th>Lama_Berlangganan</th>\n",
              "    </tr>\n",
              "  </thead>\n",
              "  <tbody>\n",
              "    <tr>\n",
              "      <th>0</th>\n",
              "      <td>1</td>\n",
              "      <td>30</td>\n",
              "      <td>1.0</td>\n",
              "      <td>1</td>\n",
              "      <td>1</td>\n",
              "      <td>1</td>\n",
              "      <td>1</td>\n",
              "      <td>3</td>\n",
              "      <td>97.0</td>\n",
              "    </tr>\n",
              "    <tr>\n",
              "      <th>1</th>\n",
              "      <td>0</td>\n",
              "      <td>48</td>\n",
              "      <td>1.0</td>\n",
              "      <td>0</td>\n",
              "      <td>3</td>\n",
              "      <td>0</td>\n",
              "      <td>1</td>\n",
              "      <td>1</td>\n",
              "      <td>158.0</td>\n",
              "    </tr>\n",
              "    <tr>\n",
              "      <th>3</th>\n",
              "      <td>1</td>\n",
              "      <td>58</td>\n",
              "      <td>1.0</td>\n",
              "      <td>0</td>\n",
              "      <td>2</td>\n",
              "      <td>1</td>\n",
              "      <td>0</td>\n",
              "      <td>3</td>\n",
              "      <td>63.0</td>\n",
              "    </tr>\n",
              "    <tr>\n",
              "      <th>5</th>\n",
              "      <td>0</td>\n",
              "      <td>21</td>\n",
              "      <td>1.0</td>\n",
              "      <td>1</td>\n",
              "      <td>1</td>\n",
              "      <td>1</td>\n",
              "      <td>1</td>\n",
              "      <td>3</td>\n",
              "      <td>171.0</td>\n",
              "    </tr>\n",
              "    <tr>\n",
              "      <th>7</th>\n",
              "      <td>0</td>\n",
              "      <td>23</td>\n",
              "      <td>0.0</td>\n",
              "      <td>1</td>\n",
              "      <td>1</td>\n",
              "      <td>1</td>\n",
              "      <td>3</td>\n",
              "      <td>3</td>\n",
              "      <td>222.0</td>\n",
              "    </tr>\n",
              "  </tbody>\n",
              "</table>\n",
              "</div>"
            ],
            "text/plain": [
              "   Jenis_Kelamin  Umur  SIM  ...  Premi  Kanal_Penjualan  Lama_Berlangganan\n",
              "0              1    30  1.0  ...      1                3               97.0\n",
              "1              0    48  1.0  ...      1                1              158.0\n",
              "3              1    58  1.0  ...      0                3               63.0\n",
              "5              0    21  1.0  ...      1                3              171.0\n",
              "7              0    23  0.0  ...      3                3              222.0\n",
              "\n",
              "[5 rows x 9 columns]"
            ]
          },
          "metadata": {},
          "execution_count": 83
        }
      ]
    },
    {
      "cell_type": "markdown",
      "metadata": {
        "id": "Ya1nucmxd6Q7"
      },
      "source": [
        "Pemodelan Lama Berlangganan"
      ]
    },
    {
      "cell_type": "code",
      "metadata": {
        "colab": {
          "base_uri": "https://localhost:8080/"
        },
        "id": "FzbfZCj5d91c",
        "outputId": "d197214f-adbf-4a5e-c2ea-680ddedf7048"
      },
      "source": [
        "df_train['Lama_Berlangganan'].describe()"
      ],
      "execution_count": 86,
      "outputs": [
        {
          "output_type": "execute_result",
          "data": {
            "text/plain": [
              "count    189697.000000\n",
              "mean        154.179634\n",
              "std          83.827072\n",
              "min          10.000000\n",
              "25%          81.000000\n",
              "50%         154.000000\n",
              "75%         227.000000\n",
              "max         299.000000\n",
              "Name: Lama_Berlangganan, dtype: float64"
            ]
          },
          "metadata": {},
          "execution_count": 86
        }
      ]
    },
    {
      "cell_type": "code",
      "metadata": {
        "id": "GpXYFwZZQG5e"
      },
      "source": [
        "arr_lama = np.array(df_train[\"Lama_Berlangganan\"])"
      ],
      "execution_count": 87,
      "outputs": []
    },
    {
      "cell_type": "code",
      "metadata": {
        "colab": {
          "base_uri": "https://localhost:8080/",
          "height": 265
        },
        "id": "KES4od50QHAt",
        "outputId": "cf42b744-ff19-424c-8b68-865c4327d0b7"
      },
      "source": [
        "pp.plot(arr_lama)\n",
        "pp.show()"
      ],
      "execution_count": 88,
      "outputs": [
        {
          "output_type": "display_data",
          "data": {
            "image/png": "[encoded data removed]",
            "text/plain": [
              "<Figure size 432x288 with 1 Axes>"
            ]
          },
          "metadata": {
            "needs_background": "light"
          }
        }
      ]
    },
    {
      "cell_type": "code",
      "metadata": {
        "colab": {
          "base_uri": "https://localhost:8080/"
        },
        "id": "8_-T7pJVQHD0",
        "outputId": "ee5bd854-7ae0-4a12-ec41-fd22ce8417bf"
      },
      "source": [
        "df_train[\"Lama_Berlangganan\"].unique()"
      ],
      "execution_count": 89,
      "outputs": [
        {
          "output_type": "execute_result",
          "data": {
            "text/plain": [
              "array([ 97., 158.,  63., 171., 222.,  31., 282., 140., 281., 132., 215.,\n",
              "       225.,  43.,  11., 230.,  nan,  94.,  92.,  38.,  30.,  50., 241.,\n",
              "       240., 214., 170., 183., 166.,  69., 168., 113., 102., 235.,  93.,\n",
              "        48.,  12., 196., 221., 232., 210., 155., 269., 247., 189., 153.,\n",
              "       248., 173.,  75., 110.,  98., 272., 299.,  36., 191.,  79., 298.,\n",
              "       226., 242., 284., 266.,  90., 276.,  54., 105., 254., 164., 267.,\n",
              "       263., 283., 224., 115., 138., 175., 260.,  13.,  44., 195., 249.,\n",
              "       117.,  33., 133.,  35.,  61., 135.,  73., 129., 236., 205., 275.,\n",
              "        84.,  99., 172., 187., 200., 208., 134., 120., 278., 237.,  52.,\n",
              "       177.,  67., 165., 293., 186., 124., 100.,  25.,  39., 297., 123.,\n",
              "        78., 233.,  41., 209., 287., 201., 227., 243., 216., 103., 160.,\n",
              "        74., 154., 112., 256.,  17., 244.,  88., 104., 251., 136., 141.,\n",
              "        19., 161.,  66.,  37., 128.,  49.,  91.,  32., 147.,  89., 217.,\n",
              "       107., 229.,  80., 262., 181., 127., 288., 179.,  70., 178.,  56.,\n",
              "       188., 190., 148., 182., 259., 204., 184., 180., 220.,  21., 258.,\n",
              "       239., 130., 279., 270., 294.,  96., 194.,  42., 119.,  57., 245.,\n",
              "       197., 234., 174., 253.,  29., 185.,  27., 219., 176., 149., 192.,\n",
              "       289., 292., 246., 295., 202., 169.,  10.,  34., 139., 131., 162.,\n",
              "       213., 280., 159.,  68.,  71.,  81., 121., 250., 106., 109.,  40.,\n",
              "        85.,  28.,  83., 118.,  77., 296.,  62., 156., 198., 223., 157.,\n",
              "        55.,  23., 126., 101., 211., 271., 238., 152.,  72., 114., 218.,\n",
              "        53., 116.,  26., 193., 257.,  87., 264., 291., 268., 273., 212.,\n",
              "       167., 144.,  58., 137.,  76.,  82., 228.,  18.,  60., 122.,  47.,\n",
              "       111., 143., 108., 274., 252., 277., 146., 203.,  95., 207., 145.,\n",
              "       150., 142., 125., 151., 290.,  24.,  16., 265., 286.,  45., 285.,\n",
              "       206.,  65.,  59., 261., 199.,  86.,  20.,  64.,  46.,  51., 255.,\n",
              "       231.,  15.,  22., 163.,  14.])"
            ]
          },
          "metadata": {},
          "execution_count": 89
        }
      ]
    },
    {
      "cell_type": "code",
      "metadata": {
        "id": "mhtkGZUwQHKQ"
      },
      "source": [
        "df_train = df_train[df_train['Lama_Berlangganan'].notna()]"
      ],
      "execution_count": 90,
      "outputs": []
    },
    {
      "cell_type": "code",
      "metadata": {
        "id": "18EjiSTkQHM7"
      },
      "source": [
        "for i in range(len(arr_lama)):\n",
        "  if arr_lama[i] < 81 :\n",
        "    arr_lama[i] = 0\n",
        "  elif arr_lama[i] < 154 :\n",
        "    arr_lama[i] = 1\n",
        "  elif arr_lama[i] < 227 :\n",
        "    arr_lama[i] = 2\n",
        "  else:\n",
        "    arr_lama[i] = 3"
      ],
      "execution_count": 91,
      "outputs": []
    },
    {
      "cell_type": "code",
      "metadata": {
        "colab": {
          "base_uri": "https://localhost:8080/"
        },
        "id": "ypFvqNweQHTA",
        "outputId": "dfd3a47a-7841-4869-9ead-4d69888d44c8"
      },
      "source": [
        "for i in range(len(arr_lama)):\n",
        "  df_train[\"Lama_Berlangganan\"][i] = arr_lama[i]"
      ],
      "execution_count": 92,
      "outputs": [
        {
          "output_type": "stream",
          "name": "stderr",
          "text": [
            "/usr/local/lib/python3.7/dist-packages/ipykernel_launcher.py:2: SettingWithCopyWarning: \n",
            "A value is trying to be set on a copy of a slice from a DataFrame\n",
            "\n",
            "See the caveats in the documentation: https://pandas.pydata.org/pandas-docs/stable/user_guide/indexing.html#returning-a-view-versus-a-copy\n",
            "  \n"
          ]
        }
      ]
    },
    {
      "cell_type": "code",
      "metadata": {
        "id": "BNUfLeQURJTy"
      },
      "source": [
        "df_train['Lama_Berlangganan'] = df_train[\"Lama_Berlangganan\"].astype(np.int64)"
      ],
      "execution_count": 93,
      "outputs": []
    },
    {
      "cell_type": "code",
      "metadata": {
        "colab": {
          "base_uri": "https://localhost:8080/",
          "height": 224
        },
        "id": "9H6GZZGqSNHh",
        "outputId": "87bdced4-90e4-40fe-f2ee-599b0d23926b"
      },
      "source": [
        "df_train.head()"
      ],
      "execution_count": 94,
      "outputs": [
        {
          "output_type": "execute_result",
          "data": {
            "text/html": [
              "<div>\n",
              "<style scoped>\n",
              "    .dataframe tbody tr th:only-of-type {\n",
              "        vertical-align: middle;\n",
              "    }\n",
              "\n",
              "    .dataframe tbody tr th {\n",
              "        vertical-align: top;\n",
              "    }\n",
              "\n",
              "    .dataframe thead th {\n",
              "        text-align: right;\n",
              "    }\n",
              "</style>\n",
              "<table border=\"1\" class=\"dataframe\">\n",
              "  <thead>\n",
              "    <tr style=\"text-align: right;\">\n",
              "      <th></th>\n",
              "      <th>Jenis_Kelamin</th>\n",
              "      <th>Umur</th>\n",
              "      <th>SIM</th>\n",
              "      <th>Sudah_Asuransi</th>\n",
              "      <th>Umur_Kendaraan</th>\n",
              "      <th>Kendaraan_Rusak</th>\n",
              "      <th>Premi</th>\n",
              "      <th>Kanal_Penjualan</th>\n",
              "      <th>Lama_Berlangganan</th>\n",
              "    </tr>\n",
              "  </thead>\n",
              "  <tbody>\n",
              "    <tr>\n",
              "      <th>0</th>\n",
              "      <td>1</td>\n",
              "      <td>30</td>\n",
              "      <td>1.0</td>\n",
              "      <td>1</td>\n",
              "      <td>1</td>\n",
              "      <td>1</td>\n",
              "      <td>1</td>\n",
              "      <td>3</td>\n",
              "      <td>1</td>\n",
              "    </tr>\n",
              "    <tr>\n",
              "      <th>1</th>\n",
              "      <td>0</td>\n",
              "      <td>48</td>\n",
              "      <td>1.0</td>\n",
              "      <td>0</td>\n",
              "      <td>3</td>\n",
              "      <td>0</td>\n",
              "      <td>1</td>\n",
              "      <td>1</td>\n",
              "      <td>2</td>\n",
              "    </tr>\n",
              "    <tr>\n",
              "      <th>3</th>\n",
              "      <td>1</td>\n",
              "      <td>58</td>\n",
              "      <td>1.0</td>\n",
              "      <td>0</td>\n",
              "      <td>2</td>\n",
              "      <td>1</td>\n",
              "      <td>0</td>\n",
              "      <td>3</td>\n",
              "      <td>2</td>\n",
              "    </tr>\n",
              "    <tr>\n",
              "      <th>5</th>\n",
              "      <td>0</td>\n",
              "      <td>21</td>\n",
              "      <td>1.0</td>\n",
              "      <td>1</td>\n",
              "      <td>1</td>\n",
              "      <td>1</td>\n",
              "      <td>1</td>\n",
              "      <td>3</td>\n",
              "      <td>0</td>\n",
              "    </tr>\n",
              "    <tr>\n",
              "      <th>7</th>\n",
              "      <td>0</td>\n",
              "      <td>23</td>\n",
              "      <td>0.0</td>\n",
              "      <td>1</td>\n",
              "      <td>1</td>\n",
              "      <td>1</td>\n",
              "      <td>3</td>\n",
              "      <td>3</td>\n",
              "      <td>1</td>\n",
              "    </tr>\n",
              "  </tbody>\n",
              "</table>\n",
              "</div>"
            ],
            "text/plain": [
              "   Jenis_Kelamin  Umur  SIM  ...  Premi  Kanal_Penjualan  Lama_Berlangganan\n",
              "0              1    30  1.0  ...      1                3                  1\n",
              "1              0    48  1.0  ...      1                1                  2\n",
              "3              1    58  1.0  ...      0                3                  2\n",
              "5              0    21  1.0  ...      1                3                  0\n",
              "7              0    23  0.0  ...      3                3                  1\n",
              "\n",
              "[5 rows x 9 columns]"
            ]
          },
          "metadata": {},
          "execution_count": 94
        }
      ]
    },
    {
      "cell_type": "markdown",
      "metadata": {
        "id": "OcuVgPbFd-QQ"
      },
      "source": [
        "Drop Tabel Tertarik\n"
      ]
    },
    {
      "cell_type": "code",
      "metadata": {
        "id": "lcqFsup0eBKI"
      },
      "source": [
        "# df_train = df_train.drop(['Tertarik'], axis = 1)"
      ],
      "execution_count": 66,
      "outputs": []
    },
    {
      "cell_type": "code",
      "metadata": {
        "colab": {
          "base_uri": "https://localhost:8080/",
          "height": 224
        },
        "id": "F8V5z0q0eII6",
        "outputId": "f6310386-0b79-4e45-8246-1f61581a8841"
      },
      "source": [
        "# df_train.head()"
      ],
      "execution_count": 67,
      "outputs": [
        {
          "output_type": "execute_result",
          "data": {
            "text/html": [
              "<div>\n",
              "<style scoped>\n",
              "    .dataframe tbody tr th:only-of-type {\n",
              "        vertical-align: middle;\n",
              "    }\n",
              "\n",
              "    .dataframe tbody tr th {\n",
              "        vertical-align: top;\n",
              "    }\n",
              "\n",
              "    .dataframe thead th {\n",
              "        text-align: right;\n",
              "    }\n",
              "</style>\n",
              "<table border=\"1\" class=\"dataframe\">\n",
              "  <thead>\n",
              "    <tr style=\"text-align: right;\">\n",
              "      <th></th>\n",
              "      <th>Jenis_Kelamin</th>\n",
              "      <th>Umur</th>\n",
              "      <th>SIM</th>\n",
              "      <th>Sudah_Asuransi</th>\n",
              "      <th>Umur_Kendaraan</th>\n",
              "      <th>Kendaraan_Rusak</th>\n",
              "      <th>Premi</th>\n",
              "      <th>Kanal_Penjualan</th>\n",
              "      <th>Lama_Berlangganan</th>\n",
              "    </tr>\n",
              "  </thead>\n",
              "  <tbody>\n",
              "    <tr>\n",
              "      <th>0</th>\n",
              "      <td>1</td>\n",
              "      <td>30</td>\n",
              "      <td>1.0</td>\n",
              "      <td>1</td>\n",
              "      <td>1</td>\n",
              "      <td>1</td>\n",
              "      <td>1</td>\n",
              "      <td>152.0</td>\n",
              "      <td>97.0</td>\n",
              "    </tr>\n",
              "    <tr>\n",
              "      <th>1</th>\n",
              "      <td>0</td>\n",
              "      <td>48</td>\n",
              "      <td>1.0</td>\n",
              "      <td>0</td>\n",
              "      <td>3</td>\n",
              "      <td>0</td>\n",
              "      <td>1</td>\n",
              "      <td>29.0</td>\n",
              "      <td>158.0</td>\n",
              "    </tr>\n",
              "    <tr>\n",
              "      <th>3</th>\n",
              "      <td>1</td>\n",
              "      <td>58</td>\n",
              "      <td>1.0</td>\n",
              "      <td>0</td>\n",
              "      <td>2</td>\n",
              "      <td>1</td>\n",
              "      <td>0</td>\n",
              "      <td>124.0</td>\n",
              "      <td>63.0</td>\n",
              "    </tr>\n",
              "    <tr>\n",
              "      <th>5</th>\n",
              "      <td>0</td>\n",
              "      <td>21</td>\n",
              "      <td>1.0</td>\n",
              "      <td>1</td>\n",
              "      <td>1</td>\n",
              "      <td>1</td>\n",
              "      <td>1</td>\n",
              "      <td>152.0</td>\n",
              "      <td>171.0</td>\n",
              "    </tr>\n",
              "    <tr>\n",
              "      <th>7</th>\n",
              "      <td>0</td>\n",
              "      <td>23</td>\n",
              "      <td>0.0</td>\n",
              "      <td>1</td>\n",
              "      <td>1</td>\n",
              "      <td>1</td>\n",
              "      <td>3</td>\n",
              "      <td>152.0</td>\n",
              "      <td>222.0</td>\n",
              "    </tr>\n",
              "  </tbody>\n",
              "</table>\n",
              "</div>"
            ],
            "text/plain": [
              "   Jenis_Kelamin  Umur  SIM  ...  Premi  Kanal_Penjualan  Lama_Berlangganan\n",
              "0              1    30  1.0  ...      1            152.0               97.0\n",
              "1              0    48  1.0  ...      1             29.0              158.0\n",
              "3              1    58  1.0  ...      0            124.0               63.0\n",
              "5              0    21  1.0  ...      1            152.0              171.0\n",
              "7              0    23  0.0  ...      3            152.0              222.0\n",
              "\n",
              "[5 rows x 9 columns]"
            ]
          },
          "metadata": {},
          "execution_count": 67
        }
      ]
    },
    {
      "cell_type": "code",
      "metadata": {
        "id": "iSCNuF_neKqY"
      },
      "source": [
        ""
      ],
      "execution_count": 67,
      "outputs": []
    }
  ]
}